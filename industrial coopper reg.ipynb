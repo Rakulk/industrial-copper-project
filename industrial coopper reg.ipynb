{
 "cells": [
  {
   "cell_type": "code",
   "execution_count": null,
   "id": "83f10bb2",
   "metadata": {},
   "outputs": [],
   "source": [
    "!pip install scikit-learn\n"
   ]
  },
  {
   "cell_type": "code",
   "execution_count": 1,
   "id": "7c77458f",
   "metadata": {},
   "outputs": [],
   "source": [
    "import warnings\n",
    "warnings.filterwarnings(\"ignore\")\n",
    "import pandas as pd\n",
    "import numpy as np\n",
    "import seaborn as sns\n",
    "from matplotlib import pyplot as plt\n",
    "from scipy import stats\n",
    "from sklearn.preprocessing import StandardScaler,OneHotEncoder,LabelBinarizer\n",
    "from sklearn.model_selection import train_test_split\n",
    "from sklearn.ensemble import ExtraTreesRegressor\n",
    "from sklearn.ensemble import ExtraTreesClassifier\n",
    "from sklearn.metrics import r2_score, mean_absolute_error,mean_squared_error\n",
    "from sklearn.metrics import accuracy_score, confusion_matrix,classification_report, roc_curve, auc\n",
    "from sklearn.model_selection import cross_val_score, GridSearchCV"
   ]
  },
  {
   "cell_type": "code",
   "execution_count": 2,
   "id": "2f465f2e",
   "metadata": {},
   "outputs": [
    {
     "data": {
      "text/html": [
       "<div>\n",
       "<style scoped>\n",
       "    .dataframe tbody tr th:only-of-type {\n",
       "        vertical-align: middle;\n",
       "    }\n",
       "\n",
       "    .dataframe tbody tr th {\n",
       "        vertical-align: top;\n",
       "    }\n",
       "\n",
       "    .dataframe thead th {\n",
       "        text-align: right;\n",
       "    }\n",
       "</style>\n",
       "<table border=\"1\" class=\"dataframe\">\n",
       "  <thead>\n",
       "    <tr style=\"text-align: right;\">\n",
       "      <th></th>\n",
       "      <th>id</th>\n",
       "      <th>item_date</th>\n",
       "      <th>quantity tons</th>\n",
       "      <th>customer</th>\n",
       "      <th>country</th>\n",
       "      <th>status</th>\n",
       "      <th>item type</th>\n",
       "      <th>application</th>\n",
       "      <th>thickness</th>\n",
       "      <th>width</th>\n",
       "      <th>material_ref</th>\n",
       "      <th>product_ref</th>\n",
       "      <th>delivery date</th>\n",
       "      <th>selling_price</th>\n",
       "    </tr>\n",
       "  </thead>\n",
       "  <tbody>\n",
       "    <tr>\n",
       "      <th>0</th>\n",
       "      <td>EC06F063-9DF0-440C-8764-0B0C05A4F6AE</td>\n",
       "      <td>20210401.0</td>\n",
       "      <td>54.151139</td>\n",
       "      <td>30156308.0</td>\n",
       "      <td>28.0</td>\n",
       "      <td>Won</td>\n",
       "      <td>W</td>\n",
       "      <td>10.0</td>\n",
       "      <td>2.00</td>\n",
       "      <td>1500.0</td>\n",
       "      <td>DEQ1 S460MC</td>\n",
       "      <td>1670798778</td>\n",
       "      <td>20210701.0</td>\n",
       "      <td>854.00</td>\n",
       "    </tr>\n",
       "    <tr>\n",
       "      <th>1</th>\n",
       "      <td>4E5F4B3D-DDDF-499D-AFDE-A3227EC49425</td>\n",
       "      <td>20210401.0</td>\n",
       "      <td>768.024839</td>\n",
       "      <td>30202938.0</td>\n",
       "      <td>25.0</td>\n",
       "      <td>Won</td>\n",
       "      <td>W</td>\n",
       "      <td>41.0</td>\n",
       "      <td>0.80</td>\n",
       "      <td>1210.0</td>\n",
       "      <td>0000000000000000000000000000000000104991</td>\n",
       "      <td>1668701718</td>\n",
       "      <td>20210401.0</td>\n",
       "      <td>1047.00</td>\n",
       "    </tr>\n",
       "    <tr>\n",
       "      <th>2</th>\n",
       "      <td>E140FF1B-2407-4C02-A0DD-780A093B1158</td>\n",
       "      <td>20210401.0</td>\n",
       "      <td>386.127949</td>\n",
       "      <td>30153963.0</td>\n",
       "      <td>30.0</td>\n",
       "      <td>Won</td>\n",
       "      <td>WI</td>\n",
       "      <td>28.0</td>\n",
       "      <td>0.38</td>\n",
       "      <td>952.0</td>\n",
       "      <td>S0380700</td>\n",
       "      <td>628377</td>\n",
       "      <td>20210101.0</td>\n",
       "      <td>644.33</td>\n",
       "    </tr>\n",
       "    <tr>\n",
       "      <th>3</th>\n",
       "      <td>F8D507A0-9C62-4EFE-831E-33E1DA53BB50</td>\n",
       "      <td>20210401.0</td>\n",
       "      <td>202.411065</td>\n",
       "      <td>30349574.0</td>\n",
       "      <td>32.0</td>\n",
       "      <td>Won</td>\n",
       "      <td>S</td>\n",
       "      <td>59.0</td>\n",
       "      <td>2.30</td>\n",
       "      <td>1317.0</td>\n",
       "      <td>DX51D+ZM310MAO 2.3X1317</td>\n",
       "      <td>1668701718</td>\n",
       "      <td>20210101.0</td>\n",
       "      <td>768.00</td>\n",
       "    </tr>\n",
       "    <tr>\n",
       "      <th>4</th>\n",
       "      <td>4E1C4E78-152B-430A-8094-ADD889C9D0AD</td>\n",
       "      <td>20210401.0</td>\n",
       "      <td>785.526262</td>\n",
       "      <td>30211560.0</td>\n",
       "      <td>28.0</td>\n",
       "      <td>Won</td>\n",
       "      <td>W</td>\n",
       "      <td>10.0</td>\n",
       "      <td>4.00</td>\n",
       "      <td>2000.0</td>\n",
       "      <td>2_S275JR+AR-CL1</td>\n",
       "      <td>640665</td>\n",
       "      <td>20210301.0</td>\n",
       "      <td>577.00</td>\n",
       "    </tr>\n",
       "    <tr>\n",
       "      <th>...</th>\n",
       "      <td>...</td>\n",
       "      <td>...</td>\n",
       "      <td>...</td>\n",
       "      <td>...</td>\n",
       "      <td>...</td>\n",
       "      <td>...</td>\n",
       "      <td>...</td>\n",
       "      <td>...</td>\n",
       "      <td>...</td>\n",
       "      <td>...</td>\n",
       "      <td>...</td>\n",
       "      <td>...</td>\n",
       "      <td>...</td>\n",
       "      <td>...</td>\n",
       "    </tr>\n",
       "    <tr>\n",
       "      <th>181668</th>\n",
       "      <td>DE633116-D1DF-4846-982E-55EFC3658A76</td>\n",
       "      <td>20200702.0</td>\n",
       "      <td>102.4824216</td>\n",
       "      <td>30200854.0</td>\n",
       "      <td>25.0</td>\n",
       "      <td>Won</td>\n",
       "      <td>W</td>\n",
       "      <td>41.0</td>\n",
       "      <td>0.96</td>\n",
       "      <td>1220.0</td>\n",
       "      <td>0000000000000000000000000000000001000777</td>\n",
       "      <td>164141591</td>\n",
       "      <td>20200701.0</td>\n",
       "      <td>591.00</td>\n",
       "    </tr>\n",
       "    <tr>\n",
       "      <th>181669</th>\n",
       "      <td>A48374B1-E6DB-45F2-889A-1F9C27C099EB</td>\n",
       "      <td>20200702.0</td>\n",
       "      <td>208.0864686</td>\n",
       "      <td>30200854.0</td>\n",
       "      <td>25.0</td>\n",
       "      <td>Won</td>\n",
       "      <td>W</td>\n",
       "      <td>41.0</td>\n",
       "      <td>0.95</td>\n",
       "      <td>1500.0</td>\n",
       "      <td>0000000000000000000000000000000001000227</td>\n",
       "      <td>164141591</td>\n",
       "      <td>20200701.0</td>\n",
       "      <td>589.00</td>\n",
       "    </tr>\n",
       "    <tr>\n",
       "      <th>181670</th>\n",
       "      <td>91643238-5C7B-4237-9A5F-63AE3D35F320</td>\n",
       "      <td>20200702.0</td>\n",
       "      <td>4.235593568</td>\n",
       "      <td>30200854.0</td>\n",
       "      <td>25.0</td>\n",
       "      <td>Won</td>\n",
       "      <td>W</td>\n",
       "      <td>41.0</td>\n",
       "      <td>0.71</td>\n",
       "      <td>1250.0</td>\n",
       "      <td>0000000000000000000000000000000001004216</td>\n",
       "      <td>164141591</td>\n",
       "      <td>20200701.0</td>\n",
       "      <td>619.00</td>\n",
       "    </tr>\n",
       "    <tr>\n",
       "      <th>181671</th>\n",
       "      <td>7AFFD323-01D9-4E15-B80D-7D1B03498FC8</td>\n",
       "      <td>20200702.0</td>\n",
       "      <td>-2000</td>\n",
       "      <td>30200854.0</td>\n",
       "      <td>25.0</td>\n",
       "      <td>Won</td>\n",
       "      <td>W</td>\n",
       "      <td>41.0</td>\n",
       "      <td>0.85</td>\n",
       "      <td>1250.0</td>\n",
       "      <td>0000000000000000000000000000000001001149</td>\n",
       "      <td>164141591</td>\n",
       "      <td>20200701.0</td>\n",
       "      <td>601.00</td>\n",
       "    </tr>\n",
       "    <tr>\n",
       "      <th>181672</th>\n",
       "      <td>AD0CA853-AE3C-4B2F-9FBB-8B0B965F84BC</td>\n",
       "      <td>20200702.0</td>\n",
       "      <td>406.6865384</td>\n",
       "      <td>30200854.0</td>\n",
       "      <td>25.0</td>\n",
       "      <td>Won</td>\n",
       "      <td>W</td>\n",
       "      <td>41.0</td>\n",
       "      <td>0.71</td>\n",
       "      <td>1240.0</td>\n",
       "      <td>0000000000000000000000000000000001005439</td>\n",
       "      <td>164141591</td>\n",
       "      <td>20200701.0</td>\n",
       "      <td>607.00</td>\n",
       "    </tr>\n",
       "  </tbody>\n",
       "</table>\n",
       "<p>181673 rows × 14 columns</p>\n",
       "</div>"
      ],
      "text/plain": [
       "                                          id   item_date quantity tons  \\\n",
       "0       EC06F063-9DF0-440C-8764-0B0C05A4F6AE  20210401.0     54.151139   \n",
       "1       4E5F4B3D-DDDF-499D-AFDE-A3227EC49425  20210401.0    768.024839   \n",
       "2       E140FF1B-2407-4C02-A0DD-780A093B1158  20210401.0    386.127949   \n",
       "3       F8D507A0-9C62-4EFE-831E-33E1DA53BB50  20210401.0    202.411065   \n",
       "4       4E1C4E78-152B-430A-8094-ADD889C9D0AD  20210401.0    785.526262   \n",
       "...                                      ...         ...           ...   \n",
       "181668  DE633116-D1DF-4846-982E-55EFC3658A76  20200702.0   102.4824216   \n",
       "181669  A48374B1-E6DB-45F2-889A-1F9C27C099EB  20200702.0   208.0864686   \n",
       "181670  91643238-5C7B-4237-9A5F-63AE3D35F320  20200702.0   4.235593568   \n",
       "181671  7AFFD323-01D9-4E15-B80D-7D1B03498FC8  20200702.0         -2000   \n",
       "181672  AD0CA853-AE3C-4B2F-9FBB-8B0B965F84BC  20200702.0   406.6865384   \n",
       "\n",
       "          customer  country status item type  application  thickness   width  \\\n",
       "0       30156308.0     28.0    Won         W         10.0       2.00  1500.0   \n",
       "1       30202938.0     25.0    Won         W         41.0       0.80  1210.0   \n",
       "2       30153963.0     30.0    Won        WI         28.0       0.38   952.0   \n",
       "3       30349574.0     32.0    Won         S         59.0       2.30  1317.0   \n",
       "4       30211560.0     28.0    Won         W         10.0       4.00  2000.0   \n",
       "...            ...      ...    ...       ...          ...        ...     ...   \n",
       "181668  30200854.0     25.0    Won         W         41.0       0.96  1220.0   \n",
       "181669  30200854.0     25.0    Won         W         41.0       0.95  1500.0   \n",
       "181670  30200854.0     25.0    Won         W         41.0       0.71  1250.0   \n",
       "181671  30200854.0     25.0    Won         W         41.0       0.85  1250.0   \n",
       "181672  30200854.0     25.0    Won         W         41.0       0.71  1240.0   \n",
       "\n",
       "                                    material_ref  product_ref  delivery date  \\\n",
       "0                                    DEQ1 S460MC   1670798778     20210701.0   \n",
       "1       0000000000000000000000000000000000104991   1668701718     20210401.0   \n",
       "2                                       S0380700       628377     20210101.0   \n",
       "3                        DX51D+ZM310MAO 2.3X1317   1668701718     20210101.0   \n",
       "4                                2_S275JR+AR-CL1       640665     20210301.0   \n",
       "...                                          ...          ...            ...   \n",
       "181668  0000000000000000000000000000000001000777    164141591     20200701.0   \n",
       "181669  0000000000000000000000000000000001000227    164141591     20200701.0   \n",
       "181670  0000000000000000000000000000000001004216    164141591     20200701.0   \n",
       "181671  0000000000000000000000000000000001001149    164141591     20200701.0   \n",
       "181672  0000000000000000000000000000000001005439    164141591     20200701.0   \n",
       "\n",
       "        selling_price  \n",
       "0              854.00  \n",
       "1             1047.00  \n",
       "2              644.33  \n",
       "3              768.00  \n",
       "4              577.00  \n",
       "...               ...  \n",
       "181668         591.00  \n",
       "181669         589.00  \n",
       "181670         619.00  \n",
       "181671         601.00  \n",
       "181672         607.00  \n",
       "\n",
       "[181673 rows x 14 columns]"
      ]
     },
     "execution_count": 2,
     "metadata": {},
     "output_type": "execute_result"
    }
   ],
   "source": [
    "dataset=pd.read_csv('Copper_Set.xlsx - Result 1.csv')\n",
    "dataset"
   ]
  },
  {
   "cell_type": "code",
   "execution_count": 4,
   "id": "83166481",
   "metadata": {},
   "outputs": [
    {
     "data": {
      "text/html": [
       "<div>\n",
       "<style scoped>\n",
       "    .dataframe tbody tr th:only-of-type {\n",
       "        vertical-align: middle;\n",
       "    }\n",
       "\n",
       "    .dataframe tbody tr th {\n",
       "        vertical-align: top;\n",
       "    }\n",
       "\n",
       "    .dataframe thead th {\n",
       "        text-align: right;\n",
       "    }\n",
       "</style>\n",
       "<table border=\"1\" class=\"dataframe\">\n",
       "  <thead>\n",
       "    <tr style=\"text-align: right;\">\n",
       "      <th></th>\n",
       "      <th>id</th>\n",
       "      <th>item_date</th>\n",
       "      <th>quantity tons</th>\n",
       "      <th>customer</th>\n",
       "      <th>country</th>\n",
       "      <th>status</th>\n",
       "      <th>item type</th>\n",
       "      <th>application</th>\n",
       "      <th>thickness</th>\n",
       "      <th>width</th>\n",
       "      <th>material_ref</th>\n",
       "      <th>product_ref</th>\n",
       "      <th>delivery date</th>\n",
       "      <th>selling_price</th>\n",
       "    </tr>\n",
       "  </thead>\n",
       "  <tbody>\n",
       "    <tr>\n",
       "      <th>0</th>\n",
       "      <td>EC06F063-9DF0-440C-8764-0B0C05A4F6AE</td>\n",
       "      <td>20210401.0</td>\n",
       "      <td>54.151139</td>\n",
       "      <td>30156308.0</td>\n",
       "      <td>28.0</td>\n",
       "      <td>Won</td>\n",
       "      <td>W</td>\n",
       "      <td>10.0</td>\n",
       "      <td>2.00</td>\n",
       "      <td>1500.0</td>\n",
       "      <td>DEQ1 S460MC</td>\n",
       "      <td>1670798778</td>\n",
       "      <td>20210701.0</td>\n",
       "      <td>854.00</td>\n",
       "    </tr>\n",
       "    <tr>\n",
       "      <th>1</th>\n",
       "      <td>4E5F4B3D-DDDF-499D-AFDE-A3227EC49425</td>\n",
       "      <td>20210401.0</td>\n",
       "      <td>768.024839</td>\n",
       "      <td>30202938.0</td>\n",
       "      <td>25.0</td>\n",
       "      <td>Won</td>\n",
       "      <td>W</td>\n",
       "      <td>41.0</td>\n",
       "      <td>0.80</td>\n",
       "      <td>1210.0</td>\n",
       "      <td>0000000000000000000000000000000000104991</td>\n",
       "      <td>1668701718</td>\n",
       "      <td>20210401.0</td>\n",
       "      <td>1047.00</td>\n",
       "    </tr>\n",
       "    <tr>\n",
       "      <th>2</th>\n",
       "      <td>E140FF1B-2407-4C02-A0DD-780A093B1158</td>\n",
       "      <td>20210401.0</td>\n",
       "      <td>386.127949</td>\n",
       "      <td>30153963.0</td>\n",
       "      <td>30.0</td>\n",
       "      <td>Won</td>\n",
       "      <td>WI</td>\n",
       "      <td>28.0</td>\n",
       "      <td>0.38</td>\n",
       "      <td>952.0</td>\n",
       "      <td>S0380700</td>\n",
       "      <td>628377</td>\n",
       "      <td>20210101.0</td>\n",
       "      <td>644.33</td>\n",
       "    </tr>\n",
       "    <tr>\n",
       "      <th>3</th>\n",
       "      <td>F8D507A0-9C62-4EFE-831E-33E1DA53BB50</td>\n",
       "      <td>20210401.0</td>\n",
       "      <td>202.411065</td>\n",
       "      <td>30349574.0</td>\n",
       "      <td>32.0</td>\n",
       "      <td>Won</td>\n",
       "      <td>S</td>\n",
       "      <td>59.0</td>\n",
       "      <td>2.30</td>\n",
       "      <td>1317.0</td>\n",
       "      <td>DX51D+ZM310MAO 2.3X1317</td>\n",
       "      <td>1668701718</td>\n",
       "      <td>20210101.0</td>\n",
       "      <td>768.00</td>\n",
       "    </tr>\n",
       "    <tr>\n",
       "      <th>4</th>\n",
       "      <td>4E1C4E78-152B-430A-8094-ADD889C9D0AD</td>\n",
       "      <td>20210401.0</td>\n",
       "      <td>785.526262</td>\n",
       "      <td>30211560.0</td>\n",
       "      <td>28.0</td>\n",
       "      <td>Won</td>\n",
       "      <td>W</td>\n",
       "      <td>10.0</td>\n",
       "      <td>4.00</td>\n",
       "      <td>2000.0</td>\n",
       "      <td>2_S275JR+AR-CL1</td>\n",
       "      <td>640665</td>\n",
       "      <td>20210301.0</td>\n",
       "      <td>577.00</td>\n",
       "    </tr>\n",
       "    <tr>\n",
       "      <th>...</th>\n",
       "      <td>...</td>\n",
       "      <td>...</td>\n",
       "      <td>...</td>\n",
       "      <td>...</td>\n",
       "      <td>...</td>\n",
       "      <td>...</td>\n",
       "      <td>...</td>\n",
       "      <td>...</td>\n",
       "      <td>...</td>\n",
       "      <td>...</td>\n",
       "      <td>...</td>\n",
       "      <td>...</td>\n",
       "      <td>...</td>\n",
       "      <td>...</td>\n",
       "    </tr>\n",
       "    <tr>\n",
       "      <th>181668</th>\n",
       "      <td>DE633116-D1DF-4846-982E-55EFC3658A76</td>\n",
       "      <td>20200702.0</td>\n",
       "      <td>102.4824216</td>\n",
       "      <td>30200854.0</td>\n",
       "      <td>25.0</td>\n",
       "      <td>Won</td>\n",
       "      <td>W</td>\n",
       "      <td>41.0</td>\n",
       "      <td>0.96</td>\n",
       "      <td>1220.0</td>\n",
       "      <td>0000000000000000000000000000000001000777</td>\n",
       "      <td>164141591</td>\n",
       "      <td>20200701.0</td>\n",
       "      <td>591.00</td>\n",
       "    </tr>\n",
       "    <tr>\n",
       "      <th>181669</th>\n",
       "      <td>A48374B1-E6DB-45F2-889A-1F9C27C099EB</td>\n",
       "      <td>20200702.0</td>\n",
       "      <td>208.0864686</td>\n",
       "      <td>30200854.0</td>\n",
       "      <td>25.0</td>\n",
       "      <td>Won</td>\n",
       "      <td>W</td>\n",
       "      <td>41.0</td>\n",
       "      <td>0.95</td>\n",
       "      <td>1500.0</td>\n",
       "      <td>0000000000000000000000000000000001000227</td>\n",
       "      <td>164141591</td>\n",
       "      <td>20200701.0</td>\n",
       "      <td>589.00</td>\n",
       "    </tr>\n",
       "    <tr>\n",
       "      <th>181670</th>\n",
       "      <td>91643238-5C7B-4237-9A5F-63AE3D35F320</td>\n",
       "      <td>20200702.0</td>\n",
       "      <td>4.235593568</td>\n",
       "      <td>30200854.0</td>\n",
       "      <td>25.0</td>\n",
       "      <td>Won</td>\n",
       "      <td>W</td>\n",
       "      <td>41.0</td>\n",
       "      <td>0.71</td>\n",
       "      <td>1250.0</td>\n",
       "      <td>0000000000000000000000000000000001004216</td>\n",
       "      <td>164141591</td>\n",
       "      <td>20200701.0</td>\n",
       "      <td>619.00</td>\n",
       "    </tr>\n",
       "    <tr>\n",
       "      <th>181671</th>\n",
       "      <td>7AFFD323-01D9-4E15-B80D-7D1B03498FC8</td>\n",
       "      <td>20200702.0</td>\n",
       "      <td>-2000</td>\n",
       "      <td>30200854.0</td>\n",
       "      <td>25.0</td>\n",
       "      <td>Won</td>\n",
       "      <td>W</td>\n",
       "      <td>41.0</td>\n",
       "      <td>0.85</td>\n",
       "      <td>1250.0</td>\n",
       "      <td>0000000000000000000000000000000001001149</td>\n",
       "      <td>164141591</td>\n",
       "      <td>20200701.0</td>\n",
       "      <td>601.00</td>\n",
       "    </tr>\n",
       "    <tr>\n",
       "      <th>181672</th>\n",
       "      <td>AD0CA853-AE3C-4B2F-9FBB-8B0B965F84BC</td>\n",
       "      <td>20200702.0</td>\n",
       "      <td>406.6865384</td>\n",
       "      <td>30200854.0</td>\n",
       "      <td>25.0</td>\n",
       "      <td>Won</td>\n",
       "      <td>W</td>\n",
       "      <td>41.0</td>\n",
       "      <td>0.71</td>\n",
       "      <td>1240.0</td>\n",
       "      <td>0000000000000000000000000000000001005439</td>\n",
       "      <td>164141591</td>\n",
       "      <td>20200701.0</td>\n",
       "      <td>607.00</td>\n",
       "    </tr>\n",
       "  </tbody>\n",
       "</table>\n",
       "<p>181673 rows × 14 columns</p>\n",
       "</div>"
      ],
      "text/plain": [
       "                                          id   item_date quantity tons  \\\n",
       "0       EC06F063-9DF0-440C-8764-0B0C05A4F6AE  20210401.0     54.151139   \n",
       "1       4E5F4B3D-DDDF-499D-AFDE-A3227EC49425  20210401.0    768.024839   \n",
       "2       E140FF1B-2407-4C02-A0DD-780A093B1158  20210401.0    386.127949   \n",
       "3       F8D507A0-9C62-4EFE-831E-33E1DA53BB50  20210401.0    202.411065   \n",
       "4       4E1C4E78-152B-430A-8094-ADD889C9D0AD  20210401.0    785.526262   \n",
       "...                                      ...         ...           ...   \n",
       "181668  DE633116-D1DF-4846-982E-55EFC3658A76  20200702.0   102.4824216   \n",
       "181669  A48374B1-E6DB-45F2-889A-1F9C27C099EB  20200702.0   208.0864686   \n",
       "181670  91643238-5C7B-4237-9A5F-63AE3D35F320  20200702.0   4.235593568   \n",
       "181671  7AFFD323-01D9-4E15-B80D-7D1B03498FC8  20200702.0         -2000   \n",
       "181672  AD0CA853-AE3C-4B2F-9FBB-8B0B965F84BC  20200702.0   406.6865384   \n",
       "\n",
       "          customer  country status item type  application  thickness   width  \\\n",
       "0       30156308.0     28.0    Won         W         10.0       2.00  1500.0   \n",
       "1       30202938.0     25.0    Won         W         41.0       0.80  1210.0   \n",
       "2       30153963.0     30.0    Won        WI         28.0       0.38   952.0   \n",
       "3       30349574.0     32.0    Won         S         59.0       2.30  1317.0   \n",
       "4       30211560.0     28.0    Won         W         10.0       4.00  2000.0   \n",
       "...            ...      ...    ...       ...          ...        ...     ...   \n",
       "181668  30200854.0     25.0    Won         W         41.0       0.96  1220.0   \n",
       "181669  30200854.0     25.0    Won         W         41.0       0.95  1500.0   \n",
       "181670  30200854.0     25.0    Won         W         41.0       0.71  1250.0   \n",
       "181671  30200854.0     25.0    Won         W         41.0       0.85  1250.0   \n",
       "181672  30200854.0     25.0    Won         W         41.0       0.71  1240.0   \n",
       "\n",
       "                                    material_ref  product_ref  delivery date  \\\n",
       "0                                    DEQ1 S460MC   1670798778     20210701.0   \n",
       "1       0000000000000000000000000000000000104991   1668701718     20210401.0   \n",
       "2                                       S0380700       628377     20210101.0   \n",
       "3                        DX51D+ZM310MAO 2.3X1317   1668701718     20210101.0   \n",
       "4                                2_S275JR+AR-CL1       640665     20210301.0   \n",
       "...                                          ...          ...            ...   \n",
       "181668  0000000000000000000000000000000001000777    164141591     20200701.0   \n",
       "181669  0000000000000000000000000000000001000227    164141591     20200701.0   \n",
       "181670  0000000000000000000000000000000001004216    164141591     20200701.0   \n",
       "181671  0000000000000000000000000000000001001149    164141591     20200701.0   \n",
       "181672  0000000000000000000000000000000001005439    164141591     20200701.0   \n",
       "\n",
       "        selling_price  \n",
       "0              854.00  \n",
       "1             1047.00  \n",
       "2              644.33  \n",
       "3              768.00  \n",
       "4              577.00  \n",
       "...               ...  \n",
       "181668         591.00  \n",
       "181669         589.00  \n",
       "181670         619.00  \n",
       "181671         601.00  \n",
       "181672         607.00  \n",
       "\n",
       "[181673 rows x 14 columns]"
      ]
     },
     "execution_count": 4,
     "metadata": {},
     "output_type": "execute_result"
    }
   ],
   "source": [
    "datas=dataset.copy()\n",
    "datas"
   ]
  },
  {
   "cell_type": "code",
   "execution_count": 5,
   "id": "026e5bd0",
   "metadata": {},
   "outputs": [],
   "source": [
    "material_null=datas['material_ref'].str.startswith(\"000000\")\n",
    "replace_null=(material_null==True)\n",
    "datas['material_ref'][replace_null]=np.NaN"
   ]
  },
  {
   "cell_type": "code",
   "execution_count": 6,
   "id": "f33131fb",
   "metadata": {},
   "outputs": [
    {
     "data": {
      "text/html": [
       "<div>\n",
       "<style scoped>\n",
       "    .dataframe tbody tr th:only-of-type {\n",
       "        vertical-align: middle;\n",
       "    }\n",
       "\n",
       "    .dataframe tbody tr th {\n",
       "        vertical-align: top;\n",
       "    }\n",
       "\n",
       "    .dataframe thead th {\n",
       "        text-align: right;\n",
       "    }\n",
       "</style>\n",
       "<table border=\"1\" class=\"dataframe\">\n",
       "  <thead>\n",
       "    <tr style=\"text-align: right;\">\n",
       "      <th></th>\n",
       "      <th>id</th>\n",
       "      <th>item_date</th>\n",
       "      <th>quantity tons</th>\n",
       "      <th>customer</th>\n",
       "      <th>country</th>\n",
       "      <th>status</th>\n",
       "      <th>item type</th>\n",
       "      <th>application</th>\n",
       "      <th>thickness</th>\n",
       "      <th>width</th>\n",
       "      <th>material_ref</th>\n",
       "      <th>product_ref</th>\n",
       "      <th>delivery date</th>\n",
       "      <th>selling_price</th>\n",
       "    </tr>\n",
       "  </thead>\n",
       "  <tbody>\n",
       "    <tr>\n",
       "      <th>0</th>\n",
       "      <td>EC06F063-9DF0-440C-8764-0B0C05A4F6AE</td>\n",
       "      <td>20210401.0</td>\n",
       "      <td>54.151139</td>\n",
       "      <td>30156308.0</td>\n",
       "      <td>28.0</td>\n",
       "      <td>Won</td>\n",
       "      <td>W</td>\n",
       "      <td>10.0</td>\n",
       "      <td>2.00</td>\n",
       "      <td>1500.0</td>\n",
       "      <td>DEQ1 S460MC</td>\n",
       "      <td>1670798778</td>\n",
       "      <td>20210701.0</td>\n",
       "      <td>854.00</td>\n",
       "    </tr>\n",
       "    <tr>\n",
       "      <th>1</th>\n",
       "      <td>4E5F4B3D-DDDF-499D-AFDE-A3227EC49425</td>\n",
       "      <td>20210401.0</td>\n",
       "      <td>768.024839</td>\n",
       "      <td>30202938.0</td>\n",
       "      <td>25.0</td>\n",
       "      <td>Won</td>\n",
       "      <td>W</td>\n",
       "      <td>41.0</td>\n",
       "      <td>0.80</td>\n",
       "      <td>1210.0</td>\n",
       "      <td>NaN</td>\n",
       "      <td>1668701718</td>\n",
       "      <td>20210401.0</td>\n",
       "      <td>1047.00</td>\n",
       "    </tr>\n",
       "    <tr>\n",
       "      <th>2</th>\n",
       "      <td>E140FF1B-2407-4C02-A0DD-780A093B1158</td>\n",
       "      <td>20210401.0</td>\n",
       "      <td>386.127949</td>\n",
       "      <td>30153963.0</td>\n",
       "      <td>30.0</td>\n",
       "      <td>Won</td>\n",
       "      <td>WI</td>\n",
       "      <td>28.0</td>\n",
       "      <td>0.38</td>\n",
       "      <td>952.0</td>\n",
       "      <td>S0380700</td>\n",
       "      <td>628377</td>\n",
       "      <td>20210101.0</td>\n",
       "      <td>644.33</td>\n",
       "    </tr>\n",
       "    <tr>\n",
       "      <th>3</th>\n",
       "      <td>F8D507A0-9C62-4EFE-831E-33E1DA53BB50</td>\n",
       "      <td>20210401.0</td>\n",
       "      <td>202.411065</td>\n",
       "      <td>30349574.0</td>\n",
       "      <td>32.0</td>\n",
       "      <td>Won</td>\n",
       "      <td>S</td>\n",
       "      <td>59.0</td>\n",
       "      <td>2.30</td>\n",
       "      <td>1317.0</td>\n",
       "      <td>DX51D+ZM310MAO 2.3X1317</td>\n",
       "      <td>1668701718</td>\n",
       "      <td>20210101.0</td>\n",
       "      <td>768.00</td>\n",
       "    </tr>\n",
       "    <tr>\n",
       "      <th>4</th>\n",
       "      <td>4E1C4E78-152B-430A-8094-ADD889C9D0AD</td>\n",
       "      <td>20210401.0</td>\n",
       "      <td>785.526262</td>\n",
       "      <td>30211560.0</td>\n",
       "      <td>28.0</td>\n",
       "      <td>Won</td>\n",
       "      <td>W</td>\n",
       "      <td>10.0</td>\n",
       "      <td>4.00</td>\n",
       "      <td>2000.0</td>\n",
       "      <td>2_S275JR+AR-CL1</td>\n",
       "      <td>640665</td>\n",
       "      <td>20210301.0</td>\n",
       "      <td>577.00</td>\n",
       "    </tr>\n",
       "    <tr>\n",
       "      <th>...</th>\n",
       "      <td>...</td>\n",
       "      <td>...</td>\n",
       "      <td>...</td>\n",
       "      <td>...</td>\n",
       "      <td>...</td>\n",
       "      <td>...</td>\n",
       "      <td>...</td>\n",
       "      <td>...</td>\n",
       "      <td>...</td>\n",
       "      <td>...</td>\n",
       "      <td>...</td>\n",
       "      <td>...</td>\n",
       "      <td>...</td>\n",
       "      <td>...</td>\n",
       "    </tr>\n",
       "    <tr>\n",
       "      <th>181668</th>\n",
       "      <td>DE633116-D1DF-4846-982E-55EFC3658A76</td>\n",
       "      <td>20200702.0</td>\n",
       "      <td>102.4824216</td>\n",
       "      <td>30200854.0</td>\n",
       "      <td>25.0</td>\n",
       "      <td>Won</td>\n",
       "      <td>W</td>\n",
       "      <td>41.0</td>\n",
       "      <td>0.96</td>\n",
       "      <td>1220.0</td>\n",
       "      <td>NaN</td>\n",
       "      <td>164141591</td>\n",
       "      <td>20200701.0</td>\n",
       "      <td>591.00</td>\n",
       "    </tr>\n",
       "    <tr>\n",
       "      <th>181669</th>\n",
       "      <td>A48374B1-E6DB-45F2-889A-1F9C27C099EB</td>\n",
       "      <td>20200702.0</td>\n",
       "      <td>208.0864686</td>\n",
       "      <td>30200854.0</td>\n",
       "      <td>25.0</td>\n",
       "      <td>Won</td>\n",
       "      <td>W</td>\n",
       "      <td>41.0</td>\n",
       "      <td>0.95</td>\n",
       "      <td>1500.0</td>\n",
       "      <td>NaN</td>\n",
       "      <td>164141591</td>\n",
       "      <td>20200701.0</td>\n",
       "      <td>589.00</td>\n",
       "    </tr>\n",
       "    <tr>\n",
       "      <th>181670</th>\n",
       "      <td>91643238-5C7B-4237-9A5F-63AE3D35F320</td>\n",
       "      <td>20200702.0</td>\n",
       "      <td>4.235593568</td>\n",
       "      <td>30200854.0</td>\n",
       "      <td>25.0</td>\n",
       "      <td>Won</td>\n",
       "      <td>W</td>\n",
       "      <td>41.0</td>\n",
       "      <td>0.71</td>\n",
       "      <td>1250.0</td>\n",
       "      <td>NaN</td>\n",
       "      <td>164141591</td>\n",
       "      <td>20200701.0</td>\n",
       "      <td>619.00</td>\n",
       "    </tr>\n",
       "    <tr>\n",
       "      <th>181671</th>\n",
       "      <td>7AFFD323-01D9-4E15-B80D-7D1B03498FC8</td>\n",
       "      <td>20200702.0</td>\n",
       "      <td>-2000</td>\n",
       "      <td>30200854.0</td>\n",
       "      <td>25.0</td>\n",
       "      <td>Won</td>\n",
       "      <td>W</td>\n",
       "      <td>41.0</td>\n",
       "      <td>0.85</td>\n",
       "      <td>1250.0</td>\n",
       "      <td>NaN</td>\n",
       "      <td>164141591</td>\n",
       "      <td>20200701.0</td>\n",
       "      <td>601.00</td>\n",
       "    </tr>\n",
       "    <tr>\n",
       "      <th>181672</th>\n",
       "      <td>AD0CA853-AE3C-4B2F-9FBB-8B0B965F84BC</td>\n",
       "      <td>20200702.0</td>\n",
       "      <td>406.6865384</td>\n",
       "      <td>30200854.0</td>\n",
       "      <td>25.0</td>\n",
       "      <td>Won</td>\n",
       "      <td>W</td>\n",
       "      <td>41.0</td>\n",
       "      <td>0.71</td>\n",
       "      <td>1240.0</td>\n",
       "      <td>NaN</td>\n",
       "      <td>164141591</td>\n",
       "      <td>20200701.0</td>\n",
       "      <td>607.00</td>\n",
       "    </tr>\n",
       "  </tbody>\n",
       "</table>\n",
       "<p>181673 rows × 14 columns</p>\n",
       "</div>"
      ],
      "text/plain": [
       "                                          id   item_date quantity tons  \\\n",
       "0       EC06F063-9DF0-440C-8764-0B0C05A4F6AE  20210401.0     54.151139   \n",
       "1       4E5F4B3D-DDDF-499D-AFDE-A3227EC49425  20210401.0    768.024839   \n",
       "2       E140FF1B-2407-4C02-A0DD-780A093B1158  20210401.0    386.127949   \n",
       "3       F8D507A0-9C62-4EFE-831E-33E1DA53BB50  20210401.0    202.411065   \n",
       "4       4E1C4E78-152B-430A-8094-ADD889C9D0AD  20210401.0    785.526262   \n",
       "...                                      ...         ...           ...   \n",
       "181668  DE633116-D1DF-4846-982E-55EFC3658A76  20200702.0   102.4824216   \n",
       "181669  A48374B1-E6DB-45F2-889A-1F9C27C099EB  20200702.0   208.0864686   \n",
       "181670  91643238-5C7B-4237-9A5F-63AE3D35F320  20200702.0   4.235593568   \n",
       "181671  7AFFD323-01D9-4E15-B80D-7D1B03498FC8  20200702.0         -2000   \n",
       "181672  AD0CA853-AE3C-4B2F-9FBB-8B0B965F84BC  20200702.0   406.6865384   \n",
       "\n",
       "          customer  country status item type  application  thickness   width  \\\n",
       "0       30156308.0     28.0    Won         W         10.0       2.00  1500.0   \n",
       "1       30202938.0     25.0    Won         W         41.0       0.80  1210.0   \n",
       "2       30153963.0     30.0    Won        WI         28.0       0.38   952.0   \n",
       "3       30349574.0     32.0    Won         S         59.0       2.30  1317.0   \n",
       "4       30211560.0     28.0    Won         W         10.0       4.00  2000.0   \n",
       "...            ...      ...    ...       ...          ...        ...     ...   \n",
       "181668  30200854.0     25.0    Won         W         41.0       0.96  1220.0   \n",
       "181669  30200854.0     25.0    Won         W         41.0       0.95  1500.0   \n",
       "181670  30200854.0     25.0    Won         W         41.0       0.71  1250.0   \n",
       "181671  30200854.0     25.0    Won         W         41.0       0.85  1250.0   \n",
       "181672  30200854.0     25.0    Won         W         41.0       0.71  1240.0   \n",
       "\n",
       "                   material_ref  product_ref  delivery date  selling_price  \n",
       "0                   DEQ1 S460MC   1670798778     20210701.0         854.00  \n",
       "1                           NaN   1668701718     20210401.0        1047.00  \n",
       "2                      S0380700       628377     20210101.0         644.33  \n",
       "3       DX51D+ZM310MAO 2.3X1317   1668701718     20210101.0         768.00  \n",
       "4               2_S275JR+AR-CL1       640665     20210301.0         577.00  \n",
       "...                         ...          ...            ...            ...  \n",
       "181668                      NaN    164141591     20200701.0         591.00  \n",
       "181669                      NaN    164141591     20200701.0         589.00  \n",
       "181670                      NaN    164141591     20200701.0         619.00  \n",
       "181671                      NaN    164141591     20200701.0         601.00  \n",
       "181672                      NaN    164141591     20200701.0         607.00  \n",
       "\n",
       "[181673 rows x 14 columns]"
      ]
     },
     "execution_count": 6,
     "metadata": {},
     "output_type": "execute_result"
    }
   ],
   "source": [
    "datas"
   ]
  },
  {
   "cell_type": "code",
   "execution_count": 7,
   "id": "d9e06ae9",
   "metadata": {},
   "outputs": [],
   "source": [
    "# Assuming you have a DataFrame named df\n",
    "datas.rename(columns={'quantity tons': 'quantity_tons','delivery date': 'delivery_date'}, inplace=True)\n"
   ]
  },
  {
   "cell_type": "code",
   "execution_count": 8,
   "id": "93cca0ca",
   "metadata": {},
   "outputs": [
    {
     "data": {
      "text/plain": [
       "id                    2\n",
       "item_date             1\n",
       "quantity_tons         0\n",
       "customer              1\n",
       "country              28\n",
       "status                2\n",
       "item type             0\n",
       "application          24\n",
       "thickness             1\n",
       "width                 0\n",
       "material_ref     100645\n",
       "product_ref           0\n",
       "delivery_date         1\n",
       "selling_price         1\n",
       "dtype: int64"
      ]
     },
     "execution_count": 8,
     "metadata": {},
     "output_type": "execute_result"
    }
   ],
   "source": [
    "# Assuming 'dataset' is a Pandas DataFrame\n",
    "missing_values = datas.isnull().sum()\n",
    "missing_values\n"
   ]
  },
  {
   "cell_type": "code",
   "execution_count": 8,
   "id": "6e13971d",
   "metadata": {},
   "outputs": [
    {
     "data": {
      "text/plain": [
       "100706"
      ]
     },
     "execution_count": 8,
     "metadata": {},
     "output_type": "execute_result"
    }
   ],
   "source": [
    "datas.isnull().sum().sum()"
   ]
  },
  {
   "cell_type": "code",
   "execution_count": 9,
   "id": "453b3f2d",
   "metadata": {},
   "outputs": [],
   "source": [
    "# datas.dropna(subset=['item_date','id','delivery_date'], inplace=True)"
   ]
  },
  {
   "cell_type": "code",
   "execution_count": 10,
   "id": "8f0fe7b0",
   "metadata": {},
   "outputs": [],
   "source": [
    "datas.dropna(inplace=True)"
   ]
  },
  {
   "cell_type": "code",
   "execution_count": 11,
   "id": "bc43cde7",
   "metadata": {},
   "outputs": [
    {
     "data": {
      "text/plain": [
       "id               0\n",
       "item_date        0\n",
       "quantity_tons    0\n",
       "customer         0\n",
       "country          0\n",
       "status           0\n",
       "item type        0\n",
       "application      0\n",
       "thickness        0\n",
       "width            0\n",
       "material_ref     0\n",
       "product_ref      0\n",
       "delivery_date    0\n",
       "selling_price    0\n",
       "dtype: int64"
      ]
     },
     "execution_count": 11,
     "metadata": {},
     "output_type": "execute_result"
    }
   ],
   "source": [
    "datas.isnull().sum()"
   ]
  },
  {
   "cell_type": "code",
   "execution_count": 12,
   "id": "ddf87e69",
   "metadata": {},
   "outputs": [],
   "source": [
    "datas['item_date'] = pd.to_datetime(datas['item_date'])\n",
    "datas['delivery_date'] = pd.to_datetime(datas['delivery_date'])"
   ]
  },
  {
   "cell_type": "code",
   "execution_count": 13,
   "id": "89ba481c",
   "metadata": {},
   "outputs": [
    {
     "data": {
      "text/plain": [
       "0"
      ]
     },
     "execution_count": 13,
     "metadata": {},
     "output_type": "execute_result"
    }
   ],
   "source": [
    "datas.isnull().sum().sum()"
   ]
  },
  {
   "cell_type": "code",
   "execution_count": 14,
   "id": "ac015ab1",
   "metadata": {},
   "outputs": [],
   "source": [
    "# import pandas as pd\n",
    "\n",
    "# # Assuming 'dataset' is your DataFrame\n",
    "# # Convert 'item_date' to a string\n",
    "# datas['item_date'] = datas['item_date'].astype(str)\n",
    "\n",
    "# # Use string slicing to format the date (YYYYMMDD to YYYY-MM-DD)\n",
    "# datas['item_date'] = datas['item_date'].apply(lambda x: f\"{x[:4]}-{x[4:6]}-{x[6:8]}\")\n",
    "\n",
    "# # Now, the 'item_date' column should have the date in the desired format\n"
   ]
  },
  {
   "cell_type": "code",
   "execution_count": 15,
   "id": "fe87eb63",
   "metadata": {},
   "outputs": [],
   "source": [
    "datas['customer'].fillna(datas['customer'].mean(), inplace = True)\n",
    "datas['country'].fillna(datas['country'].mean(), inplace = True)\n",
    "datas['application'].fillna(datas['application'].mean(), inplace = True)\n",
    "datas['thickness'].fillna(datas['thickness'].mean(), inplace = True)\n",
    "# datas['material_ref'].fillna(datas['material_ref'].mode()[0],inplace=True)\n",
    "datas['selling_price'].fillna(datas['selling_price'].mean(),inplace=True)\n",
    "datas['status'].fillna(datas['status'].mode()[0],inplace=True)"
   ]
  },
  {
   "cell_type": "code",
   "execution_count": 16,
   "id": "38832a20",
   "metadata": {},
   "outputs": [],
   "source": [
    "# datas['delivery_date'] = pd.to_datetime(datas['delivery_date'], format='%Y%m%d', errors='coerce')"
   ]
  },
  {
   "cell_type": "code",
   "execution_count": 17,
   "id": "e970a8f5",
   "metadata": {},
   "outputs": [],
   "source": [
    "# datas['item_date'].fillna(datas['item_date'].mode()[0], inplace = True)\n",
    "# datas['delivery_date'].fillna(datas['delivery_date'].mean(), inplace = True)"
   ]
  },
  {
   "cell_type": "code",
   "execution_count": 18,
   "id": "73c85e45",
   "metadata": {},
   "outputs": [
    {
     "data": {
      "text/html": [
       "<div>\n",
       "<style scoped>\n",
       "    .dataframe tbody tr th:only-of-type {\n",
       "        vertical-align: middle;\n",
       "    }\n",
       "\n",
       "    .dataframe tbody tr th {\n",
       "        vertical-align: top;\n",
       "    }\n",
       "\n",
       "    .dataframe thead th {\n",
       "        text-align: right;\n",
       "    }\n",
       "</style>\n",
       "<table border=\"1\" class=\"dataframe\">\n",
       "  <thead>\n",
       "    <tr style=\"text-align: right;\">\n",
       "      <th></th>\n",
       "      <th>id</th>\n",
       "      <th>item_date</th>\n",
       "      <th>quantity_tons</th>\n",
       "      <th>customer</th>\n",
       "      <th>country</th>\n",
       "      <th>status</th>\n",
       "      <th>item type</th>\n",
       "      <th>application</th>\n",
       "      <th>thickness</th>\n",
       "      <th>width</th>\n",
       "      <th>material_ref</th>\n",
       "      <th>product_ref</th>\n",
       "      <th>delivery_date</th>\n",
       "      <th>selling_price</th>\n",
       "    </tr>\n",
       "  </thead>\n",
       "  <tbody>\n",
       "    <tr>\n",
       "      <th>0</th>\n",
       "      <td>EC06F063-9DF0-440C-8764-0B0C05A4F6AE</td>\n",
       "      <td>1970-01-01 00:00:00.020210401</td>\n",
       "      <td>54.151139</td>\n",
       "      <td>30156308.0</td>\n",
       "      <td>28.0</td>\n",
       "      <td>Won</td>\n",
       "      <td>W</td>\n",
       "      <td>10.0</td>\n",
       "      <td>2.00</td>\n",
       "      <td>1500.0</td>\n",
       "      <td>DEQ1 S460MC</td>\n",
       "      <td>1670798778</td>\n",
       "      <td>1970-01-01 00:00:00.020210701</td>\n",
       "      <td>854.00</td>\n",
       "    </tr>\n",
       "    <tr>\n",
       "      <th>2</th>\n",
       "      <td>E140FF1B-2407-4C02-A0DD-780A093B1158</td>\n",
       "      <td>1970-01-01 00:00:00.020210401</td>\n",
       "      <td>386.127949</td>\n",
       "      <td>30153963.0</td>\n",
       "      <td>30.0</td>\n",
       "      <td>Won</td>\n",
       "      <td>WI</td>\n",
       "      <td>28.0</td>\n",
       "      <td>0.38</td>\n",
       "      <td>952.0</td>\n",
       "      <td>S0380700</td>\n",
       "      <td>628377</td>\n",
       "      <td>1970-01-01 00:00:00.020210101</td>\n",
       "      <td>644.33</td>\n",
       "    </tr>\n",
       "    <tr>\n",
       "      <th>3</th>\n",
       "      <td>F8D507A0-9C62-4EFE-831E-33E1DA53BB50</td>\n",
       "      <td>1970-01-01 00:00:00.020210401</td>\n",
       "      <td>202.411065</td>\n",
       "      <td>30349574.0</td>\n",
       "      <td>32.0</td>\n",
       "      <td>Won</td>\n",
       "      <td>S</td>\n",
       "      <td>59.0</td>\n",
       "      <td>2.30</td>\n",
       "      <td>1317.0</td>\n",
       "      <td>DX51D+ZM310MAO 2.3X1317</td>\n",
       "      <td>1668701718</td>\n",
       "      <td>1970-01-01 00:00:00.020210101</td>\n",
       "      <td>768.00</td>\n",
       "    </tr>\n",
       "    <tr>\n",
       "      <th>4</th>\n",
       "      <td>4E1C4E78-152B-430A-8094-ADD889C9D0AD</td>\n",
       "      <td>1970-01-01 00:00:00.020210401</td>\n",
       "      <td>785.526262</td>\n",
       "      <td>30211560.0</td>\n",
       "      <td>28.0</td>\n",
       "      <td>Won</td>\n",
       "      <td>W</td>\n",
       "      <td>10.0</td>\n",
       "      <td>4.00</td>\n",
       "      <td>2000.0</td>\n",
       "      <td>2_S275JR+AR-CL1</td>\n",
       "      <td>640665</td>\n",
       "      <td>1970-01-01 00:00:00.020210301</td>\n",
       "      <td>577.00</td>\n",
       "    </tr>\n",
       "    <tr>\n",
       "      <th>6</th>\n",
       "      <td>E1B47219-42C8-411D-AE46-AD5256DC4757</td>\n",
       "      <td>1970-01-01 00:00:00.020210401</td>\n",
       "      <td>3.522613</td>\n",
       "      <td>30209509.0</td>\n",
       "      <td>30.0</td>\n",
       "      <td>Draft</td>\n",
       "      <td>W</td>\n",
       "      <td>41.0</td>\n",
       "      <td>0.38</td>\n",
       "      <td>1125.0</td>\n",
       "      <td>NBW_L+_A_1125_0.4</td>\n",
       "      <td>611993</td>\n",
       "      <td>1970-01-01 00:00:00.020210701</td>\n",
       "      <td>18.00</td>\n",
       "    </tr>\n",
       "    <tr>\n",
       "      <th>...</th>\n",
       "      <td>...</td>\n",
       "      <td>...</td>\n",
       "      <td>...</td>\n",
       "      <td>...</td>\n",
       "      <td>...</td>\n",
       "      <td>...</td>\n",
       "      <td>...</td>\n",
       "      <td>...</td>\n",
       "      <td>...</td>\n",
       "      <td>...</td>\n",
       "      <td>...</td>\n",
       "      <td>...</td>\n",
       "      <td>...</td>\n",
       "      <td>...</td>\n",
       "    </tr>\n",
       "    <tr>\n",
       "      <th>181601</th>\n",
       "      <td>9520F0DD-4EA3-4D35-B23A-35908C5E77CA</td>\n",
       "      <td>1970-01-01 00:00:00.020200702</td>\n",
       "      <td>3.739725626</td>\n",
       "      <td>30267349.0</td>\n",
       "      <td>84.0</td>\n",
       "      <td>Revised</td>\n",
       "      <td>W</td>\n",
       "      <td>10.0</td>\n",
       "      <td>2.00</td>\n",
       "      <td>1500.0</td>\n",
       "      <td>1S220A100P6FSB</td>\n",
       "      <td>164141591</td>\n",
       "      <td>1970-01-01 00:00:00.020200701</td>\n",
       "      <td>622.81</td>\n",
       "    </tr>\n",
       "    <tr>\n",
       "      <th>181602</th>\n",
       "      <td>D85912F7-0002-4EC5-9CFD-AD3803F44D91</td>\n",
       "      <td>1970-01-01 00:00:00.020200702</td>\n",
       "      <td>20.15511929</td>\n",
       "      <td>30267349.0</td>\n",
       "      <td>84.0</td>\n",
       "      <td>Revised</td>\n",
       "      <td>W</td>\n",
       "      <td>10.0</td>\n",
       "      <td>2.00</td>\n",
       "      <td>1500.0</td>\n",
       "      <td>1S220A100P6FSA</td>\n",
       "      <td>164141591</td>\n",
       "      <td>1970-01-01 00:00:00.020200701</td>\n",
       "      <td>619.81</td>\n",
       "    </tr>\n",
       "    <tr>\n",
       "      <th>181603</th>\n",
       "      <td>E6A94878-F80E-4852-A217-928D6D9C4A28</td>\n",
       "      <td>1970-01-01 00:00:00.020200702</td>\n",
       "      <td>15.74226571</td>\n",
       "      <td>30267349.0</td>\n",
       "      <td>84.0</td>\n",
       "      <td>Revised</td>\n",
       "      <td>W</td>\n",
       "      <td>10.0</td>\n",
       "      <td>2.00</td>\n",
       "      <td>1000.0</td>\n",
       "      <td>1S220A100P6FSA</td>\n",
       "      <td>164141591</td>\n",
       "      <td>1970-01-01 00:00:00.020200701</td>\n",
       "      <td>628.52</td>\n",
       "    </tr>\n",
       "    <tr>\n",
       "      <th>181604</th>\n",
       "      <td>B40F8127-D4AC-44B6-B200-FED2690EA8EF</td>\n",
       "      <td>1970-01-01 00:00:00.020200702</td>\n",
       "      <td>16.39100871</td>\n",
       "      <td>30267349.0</td>\n",
       "      <td>84.0</td>\n",
       "      <td>Revised</td>\n",
       "      <td>W</td>\n",
       "      <td>10.0</td>\n",
       "      <td>2.00</td>\n",
       "      <td>1250.0</td>\n",
       "      <td>1S220A100P6FSA</td>\n",
       "      <td>164141591</td>\n",
       "      <td>1970-01-01 00:00:00.020200701</td>\n",
       "      <td>615.81</td>\n",
       "    </tr>\n",
       "    <tr>\n",
       "      <th>181605</th>\n",
       "      <td>3BCD0A7E-A2D9-40B1-8A86-35439AEDDFF3</td>\n",
       "      <td>1970-01-01 00:00:00.020200702</td>\n",
       "      <td>34.42679898</td>\n",
       "      <td>30201369.0</td>\n",
       "      <td>25.0</td>\n",
       "      <td>Won</td>\n",
       "      <td>S</td>\n",
       "      <td>41.0</td>\n",
       "      <td>0.60</td>\n",
       "      <td>1288.0</td>\n",
       "      <td>202006170005.IO.1.1</td>\n",
       "      <td>611993</td>\n",
       "      <td>1970-01-01 00:00:00.020200701</td>\n",
       "      <td>981.00</td>\n",
       "    </tr>\n",
       "  </tbody>\n",
       "</table>\n",
       "<p>81024 rows × 14 columns</p>\n",
       "</div>"
      ],
      "text/plain": [
       "                                          id                     item_date  \\\n",
       "0       EC06F063-9DF0-440C-8764-0B0C05A4F6AE 1970-01-01 00:00:00.020210401   \n",
       "2       E140FF1B-2407-4C02-A0DD-780A093B1158 1970-01-01 00:00:00.020210401   \n",
       "3       F8D507A0-9C62-4EFE-831E-33E1DA53BB50 1970-01-01 00:00:00.020210401   \n",
       "4       4E1C4E78-152B-430A-8094-ADD889C9D0AD 1970-01-01 00:00:00.020210401   \n",
       "6       E1B47219-42C8-411D-AE46-AD5256DC4757 1970-01-01 00:00:00.020210401   \n",
       "...                                      ...                           ...   \n",
       "181601  9520F0DD-4EA3-4D35-B23A-35908C5E77CA 1970-01-01 00:00:00.020200702   \n",
       "181602  D85912F7-0002-4EC5-9CFD-AD3803F44D91 1970-01-01 00:00:00.020200702   \n",
       "181603  E6A94878-F80E-4852-A217-928D6D9C4A28 1970-01-01 00:00:00.020200702   \n",
       "181604  B40F8127-D4AC-44B6-B200-FED2690EA8EF 1970-01-01 00:00:00.020200702   \n",
       "181605  3BCD0A7E-A2D9-40B1-8A86-35439AEDDFF3 1970-01-01 00:00:00.020200702   \n",
       "\n",
       "       quantity_tons    customer  country   status item type  application  \\\n",
       "0          54.151139  30156308.0     28.0      Won         W         10.0   \n",
       "2         386.127949  30153963.0     30.0      Won        WI         28.0   \n",
       "3         202.411065  30349574.0     32.0      Won         S         59.0   \n",
       "4         785.526262  30211560.0     28.0      Won         W         10.0   \n",
       "6           3.522613  30209509.0     30.0    Draft         W         41.0   \n",
       "...              ...         ...      ...      ...       ...          ...   \n",
       "181601   3.739725626  30267349.0     84.0  Revised         W         10.0   \n",
       "181602   20.15511929  30267349.0     84.0  Revised         W         10.0   \n",
       "181603   15.74226571  30267349.0     84.0  Revised         W         10.0   \n",
       "181604   16.39100871  30267349.0     84.0  Revised         W         10.0   \n",
       "181605   34.42679898  30201369.0     25.0      Won         S         41.0   \n",
       "\n",
       "        thickness   width             material_ref  product_ref  \\\n",
       "0            2.00  1500.0              DEQ1 S460MC   1670798778   \n",
       "2            0.38   952.0                 S0380700       628377   \n",
       "3            2.30  1317.0  DX51D+ZM310MAO 2.3X1317   1668701718   \n",
       "4            4.00  2000.0          2_S275JR+AR-CL1       640665   \n",
       "6            0.38  1125.0        NBW_L+_A_1125_0.4       611993   \n",
       "...           ...     ...                      ...          ...   \n",
       "181601       2.00  1500.0           1S220A100P6FSB    164141591   \n",
       "181602       2.00  1500.0           1S220A100P6FSA    164141591   \n",
       "181603       2.00  1000.0           1S220A100P6FSA    164141591   \n",
       "181604       2.00  1250.0           1S220A100P6FSA    164141591   \n",
       "181605       0.60  1288.0      202006170005.IO.1.1       611993   \n",
       "\n",
       "                       delivery_date  selling_price  \n",
       "0      1970-01-01 00:00:00.020210701         854.00  \n",
       "2      1970-01-01 00:00:00.020210101         644.33  \n",
       "3      1970-01-01 00:00:00.020210101         768.00  \n",
       "4      1970-01-01 00:00:00.020210301         577.00  \n",
       "6      1970-01-01 00:00:00.020210701          18.00  \n",
       "...                              ...            ...  \n",
       "181601 1970-01-01 00:00:00.020200701         622.81  \n",
       "181602 1970-01-01 00:00:00.020200701         619.81  \n",
       "181603 1970-01-01 00:00:00.020200701         628.52  \n",
       "181604 1970-01-01 00:00:00.020200701         615.81  \n",
       "181605 1970-01-01 00:00:00.020200701         981.00  \n",
       "\n",
       "[81024 rows x 14 columns]"
      ]
     },
     "execution_count": 18,
     "metadata": {},
     "output_type": "execute_result"
    }
   ],
   "source": [
    "datas"
   ]
  },
  {
   "cell_type": "code",
   "execution_count": 19,
   "id": "8e1ab208",
   "metadata": {},
   "outputs": [
    {
     "data": {
      "text/plain": [
       "id               0\n",
       "item_date        0\n",
       "quantity_tons    0\n",
       "customer         0\n",
       "country          0\n",
       "status           0\n",
       "item type        0\n",
       "application      0\n",
       "thickness        0\n",
       "width            0\n",
       "material_ref     0\n",
       "product_ref      0\n",
       "delivery_date    0\n",
       "selling_price    0\n",
       "dtype: int64"
      ]
     },
     "execution_count": 19,
     "metadata": {},
     "output_type": "execute_result"
    }
   ],
   "source": [
    "datas.isnull().sum()"
   ]
  },
  {
   "cell_type": "code",
   "execution_count": 20,
   "id": "87b22b15",
   "metadata": {},
   "outputs": [
    {
     "data": {
      "text/html": [
       "<div>\n",
       "<style scoped>\n",
       "    .dataframe tbody tr th:only-of-type {\n",
       "        vertical-align: middle;\n",
       "    }\n",
       "\n",
       "    .dataframe tbody tr th {\n",
       "        vertical-align: top;\n",
       "    }\n",
       "\n",
       "    .dataframe thead th {\n",
       "        text-align: right;\n",
       "    }\n",
       "</style>\n",
       "<table border=\"1\" class=\"dataframe\">\n",
       "  <thead>\n",
       "    <tr style=\"text-align: right;\">\n",
       "      <th></th>\n",
       "      <th>id</th>\n",
       "      <th>item_date</th>\n",
       "      <th>quantity_tons</th>\n",
       "      <th>customer</th>\n",
       "      <th>country</th>\n",
       "      <th>status</th>\n",
       "      <th>item type</th>\n",
       "      <th>application</th>\n",
       "      <th>thickness</th>\n",
       "      <th>width</th>\n",
       "      <th>material_ref</th>\n",
       "      <th>product_ref</th>\n",
       "      <th>delivery_date</th>\n",
       "      <th>selling_price</th>\n",
       "    </tr>\n",
       "  </thead>\n",
       "  <tbody>\n",
       "    <tr>\n",
       "      <th>0</th>\n",
       "      <td>EC06F063-9DF0-440C-8764-0B0C05A4F6AE</td>\n",
       "      <td>1970-01-01 00:00:00.020210401</td>\n",
       "      <td>54.151139</td>\n",
       "      <td>30156308.0</td>\n",
       "      <td>28.0</td>\n",
       "      <td>Won</td>\n",
       "      <td>W</td>\n",
       "      <td>10.0</td>\n",
       "      <td>2.00</td>\n",
       "      <td>1500.0</td>\n",
       "      <td>DEQ1 S460MC</td>\n",
       "      <td>1670798778</td>\n",
       "      <td>1970-01-01 00:00:00.020210701</td>\n",
       "      <td>854.00</td>\n",
       "    </tr>\n",
       "    <tr>\n",
       "      <th>2</th>\n",
       "      <td>E140FF1B-2407-4C02-A0DD-780A093B1158</td>\n",
       "      <td>1970-01-01 00:00:00.020210401</td>\n",
       "      <td>386.127949</td>\n",
       "      <td>30153963.0</td>\n",
       "      <td>30.0</td>\n",
       "      <td>Won</td>\n",
       "      <td>WI</td>\n",
       "      <td>28.0</td>\n",
       "      <td>0.38</td>\n",
       "      <td>952.0</td>\n",
       "      <td>S0380700</td>\n",
       "      <td>628377</td>\n",
       "      <td>1970-01-01 00:00:00.020210101</td>\n",
       "      <td>644.33</td>\n",
       "    </tr>\n",
       "    <tr>\n",
       "      <th>3</th>\n",
       "      <td>F8D507A0-9C62-4EFE-831E-33E1DA53BB50</td>\n",
       "      <td>1970-01-01 00:00:00.020210401</td>\n",
       "      <td>202.411065</td>\n",
       "      <td>30349574.0</td>\n",
       "      <td>32.0</td>\n",
       "      <td>Won</td>\n",
       "      <td>S</td>\n",
       "      <td>59.0</td>\n",
       "      <td>2.30</td>\n",
       "      <td>1317.0</td>\n",
       "      <td>DX51D+ZM310MAO 2.3X1317</td>\n",
       "      <td>1668701718</td>\n",
       "      <td>1970-01-01 00:00:00.020210101</td>\n",
       "      <td>768.00</td>\n",
       "    </tr>\n",
       "    <tr>\n",
       "      <th>4</th>\n",
       "      <td>4E1C4E78-152B-430A-8094-ADD889C9D0AD</td>\n",
       "      <td>1970-01-01 00:00:00.020210401</td>\n",
       "      <td>785.526262</td>\n",
       "      <td>30211560.0</td>\n",
       "      <td>28.0</td>\n",
       "      <td>Won</td>\n",
       "      <td>W</td>\n",
       "      <td>10.0</td>\n",
       "      <td>4.00</td>\n",
       "      <td>2000.0</td>\n",
       "      <td>2_S275JR+AR-CL1</td>\n",
       "      <td>640665</td>\n",
       "      <td>1970-01-01 00:00:00.020210301</td>\n",
       "      <td>577.00</td>\n",
       "    </tr>\n",
       "    <tr>\n",
       "      <th>6</th>\n",
       "      <td>E1B47219-42C8-411D-AE46-AD5256DC4757</td>\n",
       "      <td>1970-01-01 00:00:00.020210401</td>\n",
       "      <td>3.522613</td>\n",
       "      <td>30209509.0</td>\n",
       "      <td>30.0</td>\n",
       "      <td>Draft</td>\n",
       "      <td>W</td>\n",
       "      <td>41.0</td>\n",
       "      <td>0.38</td>\n",
       "      <td>1125.0</td>\n",
       "      <td>NBW_L+_A_1125_0.4</td>\n",
       "      <td>611993</td>\n",
       "      <td>1970-01-01 00:00:00.020210701</td>\n",
       "      <td>18.00</td>\n",
       "    </tr>\n",
       "    <tr>\n",
       "      <th>...</th>\n",
       "      <td>...</td>\n",
       "      <td>...</td>\n",
       "      <td>...</td>\n",
       "      <td>...</td>\n",
       "      <td>...</td>\n",
       "      <td>...</td>\n",
       "      <td>...</td>\n",
       "      <td>...</td>\n",
       "      <td>...</td>\n",
       "      <td>...</td>\n",
       "      <td>...</td>\n",
       "      <td>...</td>\n",
       "      <td>...</td>\n",
       "      <td>...</td>\n",
       "    </tr>\n",
       "    <tr>\n",
       "      <th>181601</th>\n",
       "      <td>9520F0DD-4EA3-4D35-B23A-35908C5E77CA</td>\n",
       "      <td>1970-01-01 00:00:00.020200702</td>\n",
       "      <td>3.739725626</td>\n",
       "      <td>30267349.0</td>\n",
       "      <td>84.0</td>\n",
       "      <td>Revised</td>\n",
       "      <td>W</td>\n",
       "      <td>10.0</td>\n",
       "      <td>2.00</td>\n",
       "      <td>1500.0</td>\n",
       "      <td>1S220A100P6FSB</td>\n",
       "      <td>164141591</td>\n",
       "      <td>1970-01-01 00:00:00.020200701</td>\n",
       "      <td>622.81</td>\n",
       "    </tr>\n",
       "    <tr>\n",
       "      <th>181602</th>\n",
       "      <td>D85912F7-0002-4EC5-9CFD-AD3803F44D91</td>\n",
       "      <td>1970-01-01 00:00:00.020200702</td>\n",
       "      <td>20.15511929</td>\n",
       "      <td>30267349.0</td>\n",
       "      <td>84.0</td>\n",
       "      <td>Revised</td>\n",
       "      <td>W</td>\n",
       "      <td>10.0</td>\n",
       "      <td>2.00</td>\n",
       "      <td>1500.0</td>\n",
       "      <td>1S220A100P6FSA</td>\n",
       "      <td>164141591</td>\n",
       "      <td>1970-01-01 00:00:00.020200701</td>\n",
       "      <td>619.81</td>\n",
       "    </tr>\n",
       "    <tr>\n",
       "      <th>181603</th>\n",
       "      <td>E6A94878-F80E-4852-A217-928D6D9C4A28</td>\n",
       "      <td>1970-01-01 00:00:00.020200702</td>\n",
       "      <td>15.74226571</td>\n",
       "      <td>30267349.0</td>\n",
       "      <td>84.0</td>\n",
       "      <td>Revised</td>\n",
       "      <td>W</td>\n",
       "      <td>10.0</td>\n",
       "      <td>2.00</td>\n",
       "      <td>1000.0</td>\n",
       "      <td>1S220A100P6FSA</td>\n",
       "      <td>164141591</td>\n",
       "      <td>1970-01-01 00:00:00.020200701</td>\n",
       "      <td>628.52</td>\n",
       "    </tr>\n",
       "    <tr>\n",
       "      <th>181604</th>\n",
       "      <td>B40F8127-D4AC-44B6-B200-FED2690EA8EF</td>\n",
       "      <td>1970-01-01 00:00:00.020200702</td>\n",
       "      <td>16.39100871</td>\n",
       "      <td>30267349.0</td>\n",
       "      <td>84.0</td>\n",
       "      <td>Revised</td>\n",
       "      <td>W</td>\n",
       "      <td>10.0</td>\n",
       "      <td>2.00</td>\n",
       "      <td>1250.0</td>\n",
       "      <td>1S220A100P6FSA</td>\n",
       "      <td>164141591</td>\n",
       "      <td>1970-01-01 00:00:00.020200701</td>\n",
       "      <td>615.81</td>\n",
       "    </tr>\n",
       "    <tr>\n",
       "      <th>181605</th>\n",
       "      <td>3BCD0A7E-A2D9-40B1-8A86-35439AEDDFF3</td>\n",
       "      <td>1970-01-01 00:00:00.020200702</td>\n",
       "      <td>34.42679898</td>\n",
       "      <td>30201369.0</td>\n",
       "      <td>25.0</td>\n",
       "      <td>Won</td>\n",
       "      <td>S</td>\n",
       "      <td>41.0</td>\n",
       "      <td>0.60</td>\n",
       "      <td>1288.0</td>\n",
       "      <td>202006170005.IO.1.1</td>\n",
       "      <td>611993</td>\n",
       "      <td>1970-01-01 00:00:00.020200701</td>\n",
       "      <td>981.00</td>\n",
       "    </tr>\n",
       "  </tbody>\n",
       "</table>\n",
       "<p>81024 rows × 14 columns</p>\n",
       "</div>"
      ],
      "text/plain": [
       "                                          id                     item_date  \\\n",
       "0       EC06F063-9DF0-440C-8764-0B0C05A4F6AE 1970-01-01 00:00:00.020210401   \n",
       "2       E140FF1B-2407-4C02-A0DD-780A093B1158 1970-01-01 00:00:00.020210401   \n",
       "3       F8D507A0-9C62-4EFE-831E-33E1DA53BB50 1970-01-01 00:00:00.020210401   \n",
       "4       4E1C4E78-152B-430A-8094-ADD889C9D0AD 1970-01-01 00:00:00.020210401   \n",
       "6       E1B47219-42C8-411D-AE46-AD5256DC4757 1970-01-01 00:00:00.020210401   \n",
       "...                                      ...                           ...   \n",
       "181601  9520F0DD-4EA3-4D35-B23A-35908C5E77CA 1970-01-01 00:00:00.020200702   \n",
       "181602  D85912F7-0002-4EC5-9CFD-AD3803F44D91 1970-01-01 00:00:00.020200702   \n",
       "181603  E6A94878-F80E-4852-A217-928D6D9C4A28 1970-01-01 00:00:00.020200702   \n",
       "181604  B40F8127-D4AC-44B6-B200-FED2690EA8EF 1970-01-01 00:00:00.020200702   \n",
       "181605  3BCD0A7E-A2D9-40B1-8A86-35439AEDDFF3 1970-01-01 00:00:00.020200702   \n",
       "\n",
       "       quantity_tons    customer  country   status item type  application  \\\n",
       "0          54.151139  30156308.0     28.0      Won         W         10.0   \n",
       "2         386.127949  30153963.0     30.0      Won        WI         28.0   \n",
       "3         202.411065  30349574.0     32.0      Won         S         59.0   \n",
       "4         785.526262  30211560.0     28.0      Won         W         10.0   \n",
       "6           3.522613  30209509.0     30.0    Draft         W         41.0   \n",
       "...              ...         ...      ...      ...       ...          ...   \n",
       "181601   3.739725626  30267349.0     84.0  Revised         W         10.0   \n",
       "181602   20.15511929  30267349.0     84.0  Revised         W         10.0   \n",
       "181603   15.74226571  30267349.0     84.0  Revised         W         10.0   \n",
       "181604   16.39100871  30267349.0     84.0  Revised         W         10.0   \n",
       "181605   34.42679898  30201369.0     25.0      Won         S         41.0   \n",
       "\n",
       "        thickness   width             material_ref  product_ref  \\\n",
       "0            2.00  1500.0              DEQ1 S460MC   1670798778   \n",
       "2            0.38   952.0                 S0380700       628377   \n",
       "3            2.30  1317.0  DX51D+ZM310MAO 2.3X1317   1668701718   \n",
       "4            4.00  2000.0          2_S275JR+AR-CL1       640665   \n",
       "6            0.38  1125.0        NBW_L+_A_1125_0.4       611993   \n",
       "...           ...     ...                      ...          ...   \n",
       "181601       2.00  1500.0           1S220A100P6FSB    164141591   \n",
       "181602       2.00  1500.0           1S220A100P6FSA    164141591   \n",
       "181603       2.00  1000.0           1S220A100P6FSA    164141591   \n",
       "181604       2.00  1250.0           1S220A100P6FSA    164141591   \n",
       "181605       0.60  1288.0      202006170005.IO.1.1       611993   \n",
       "\n",
       "                       delivery_date  selling_price  \n",
       "0      1970-01-01 00:00:00.020210701         854.00  \n",
       "2      1970-01-01 00:00:00.020210101         644.33  \n",
       "3      1970-01-01 00:00:00.020210101         768.00  \n",
       "4      1970-01-01 00:00:00.020210301         577.00  \n",
       "6      1970-01-01 00:00:00.020210701          18.00  \n",
       "...                              ...            ...  \n",
       "181601 1970-01-01 00:00:00.020200701         622.81  \n",
       "181602 1970-01-01 00:00:00.020200701         619.81  \n",
       "181603 1970-01-01 00:00:00.020200701         628.52  \n",
       "181604 1970-01-01 00:00:00.020200701         615.81  \n",
       "181605 1970-01-01 00:00:00.020200701         981.00  \n",
       "\n",
       "[81024 rows x 14 columns]"
      ]
     },
     "execution_count": 20,
     "metadata": {},
     "output_type": "execute_result"
    }
   ],
   "source": [
    "datas"
   ]
  },
  {
   "cell_type": "code",
   "execution_count": 21,
   "id": "3a442a4f",
   "metadata": {},
   "outputs": [
    {
     "data": {
      "text/plain": [
       "id               0\n",
       "item_date        0\n",
       "quantity_tons    0\n",
       "customer         0\n",
       "country          0\n",
       "status           0\n",
       "item type        0\n",
       "application      0\n",
       "thickness        0\n",
       "width            0\n",
       "material_ref     0\n",
       "product_ref      0\n",
       "delivery_date    0\n",
       "selling_price    0\n",
       "dtype: int64"
      ]
     },
     "execution_count": 21,
     "metadata": {},
     "output_type": "execute_result"
    }
   ],
   "source": [
    "datas.isnull().sum()"
   ]
  },
  {
   "cell_type": "code",
   "execution_count": 22,
   "id": "ef8e6641",
   "metadata": {},
   "outputs": [
    {
     "data": {
      "text/plain": [
       "id                       object\n",
       "item_date        datetime64[ns]\n",
       "quantity_tons            object\n",
       "customer                float64\n",
       "country                 float64\n",
       "status                   object\n",
       "item type                object\n",
       "application             float64\n",
       "thickness               float64\n",
       "width                   float64\n",
       "material_ref             object\n",
       "product_ref               int64\n",
       "delivery_date    datetime64[ns]\n",
       "selling_price           float64\n",
       "dtype: object"
      ]
     },
     "execution_count": 22,
     "metadata": {},
     "output_type": "execute_result"
    }
   ],
   "source": [
    "datas.dtypes"
   ]
  },
  {
   "cell_type": "markdown",
   "id": "5d78b886",
   "metadata": {},
   "source": [
    "# # Treating outliers and cliping methods"
   ]
  },
  {
   "cell_type": "code",
   "execution_count": 23,
   "id": "4feeefd1",
   "metadata": {},
   "outputs": [],
   "source": [
    "datas['quantity_tons'] = pd.to_numeric(datas['quantity_tons'], errors='coerce')"
   ]
  },
  {
   "cell_type": "code",
   "execution_count": 24,
   "id": "de17e4a1",
   "metadata": {
    "scrolled": false
   },
   "outputs": [
    {
     "data": {
      "text/html": [
       "<div>\n",
       "<style scoped>\n",
       "    .dataframe tbody tr th:only-of-type {\n",
       "        vertical-align: middle;\n",
       "    }\n",
       "\n",
       "    .dataframe tbody tr th {\n",
       "        vertical-align: top;\n",
       "    }\n",
       "\n",
       "    .dataframe thead th {\n",
       "        text-align: right;\n",
       "    }\n",
       "</style>\n",
       "<table border=\"1\" class=\"dataframe\">\n",
       "  <thead>\n",
       "    <tr style=\"text-align: right;\">\n",
       "      <th></th>\n",
       "      <th>quantity_tons</th>\n",
       "      <th>customer</th>\n",
       "      <th>country</th>\n",
       "      <th>application</th>\n",
       "      <th>thickness</th>\n",
       "      <th>width</th>\n",
       "      <th>product_ref</th>\n",
       "      <th>selling_price</th>\n",
       "    </tr>\n",
       "  </thead>\n",
       "  <tbody>\n",
       "    <tr>\n",
       "      <th>count</th>\n",
       "      <td>8.102400e+04</td>\n",
       "      <td>8.102400e+04</td>\n",
       "      <td>81024.000000</td>\n",
       "      <td>81024.000000</td>\n",
       "      <td>81024.000000</td>\n",
       "      <td>81024.000000</td>\n",
       "      <td>8.102400e+04</td>\n",
       "      <td>81024.000000</td>\n",
       "    </tr>\n",
       "    <tr>\n",
       "      <th>mean</th>\n",
       "      <td>1.244196e+04</td>\n",
       "      <td>3.022684e+07</td>\n",
       "      <td>45.627913</td>\n",
       "      <td>26.346786</td>\n",
       "      <td>2.298850</td>\n",
       "      <td>1287.291045</td>\n",
       "      <td>3.943268e+08</td>\n",
       "      <td>804.297823</td>\n",
       "    </tr>\n",
       "    <tr>\n",
       "      <th>std</th>\n",
       "      <td>3.513121e+06</td>\n",
       "      <td>6.982724e+04</td>\n",
       "      <td>24.320401</td>\n",
       "      <td>17.865641</td>\n",
       "      <td>2.940936</td>\n",
       "      <td>246.046127</td>\n",
       "      <td>6.749962e+08</td>\n",
       "      <td>368.064795</td>\n",
       "    </tr>\n",
       "    <tr>\n",
       "      <th>min</th>\n",
       "      <td>1.867763e-03</td>\n",
       "      <td>3.014772e+07</td>\n",
       "      <td>25.000000</td>\n",
       "      <td>2.000000</td>\n",
       "      <td>0.180000</td>\n",
       "      <td>20.500000</td>\n",
       "      <td>6.117280e+05</td>\n",
       "      <td>-1160.000000</td>\n",
       "    </tr>\n",
       "    <tr>\n",
       "      <th>25%</th>\n",
       "      <td>1.060901e+01</td>\n",
       "      <td>3.016154e+07</td>\n",
       "      <td>27.000000</td>\n",
       "      <td>10.000000</td>\n",
       "      <td>0.650000</td>\n",
       "      <td>1174.000000</td>\n",
       "      <td>6.119930e+05</td>\n",
       "      <td>656.000000</td>\n",
       "    </tr>\n",
       "    <tr>\n",
       "      <th>50%</th>\n",
       "      <td>3.046236e+01</td>\n",
       "      <td>3.020337e+07</td>\n",
       "      <td>30.000000</td>\n",
       "      <td>15.000000</td>\n",
       "      <td>1.420000</td>\n",
       "      <td>1250.000000</td>\n",
       "      <td>6.406650e+05</td>\n",
       "      <td>802.000000</td>\n",
       "    </tr>\n",
       "    <tr>\n",
       "      <th>75%</th>\n",
       "      <td>7.506915e+01</td>\n",
       "      <td>3.027219e+07</td>\n",
       "      <td>78.000000</td>\n",
       "      <td>41.000000</td>\n",
       "      <td>3.000000</td>\n",
       "      <td>1500.000000</td>\n",
       "      <td>1.641416e+08</td>\n",
       "      <td>937.000000</td>\n",
       "    </tr>\n",
       "    <tr>\n",
       "      <th>max</th>\n",
       "      <td>1.000000e+09</td>\n",
       "      <td>3.040817e+07</td>\n",
       "      <td>113.000000</td>\n",
       "      <td>79.000000</td>\n",
       "      <td>400.000000</td>\n",
       "      <td>2150.000000</td>\n",
       "      <td>1.721130e+09</td>\n",
       "      <td>81236.140000</td>\n",
       "    </tr>\n",
       "  </tbody>\n",
       "</table>\n",
       "</div>"
      ],
      "text/plain": [
       "       quantity_tons      customer       country   application     thickness  \\\n",
       "count   8.102400e+04  8.102400e+04  81024.000000  81024.000000  81024.000000   \n",
       "mean    1.244196e+04  3.022684e+07     45.627913     26.346786      2.298850   \n",
       "std     3.513121e+06  6.982724e+04     24.320401     17.865641      2.940936   \n",
       "min     1.867763e-03  3.014772e+07     25.000000      2.000000      0.180000   \n",
       "25%     1.060901e+01  3.016154e+07     27.000000     10.000000      0.650000   \n",
       "50%     3.046236e+01  3.020337e+07     30.000000     15.000000      1.420000   \n",
       "75%     7.506915e+01  3.027219e+07     78.000000     41.000000      3.000000   \n",
       "max     1.000000e+09  3.040817e+07    113.000000     79.000000    400.000000   \n",
       "\n",
       "              width   product_ref  selling_price  \n",
       "count  81024.000000  8.102400e+04   81024.000000  \n",
       "mean    1287.291045  3.943268e+08     804.297823  \n",
       "std      246.046127  6.749962e+08     368.064795  \n",
       "min       20.500000  6.117280e+05   -1160.000000  \n",
       "25%     1174.000000  6.119930e+05     656.000000  \n",
       "50%     1250.000000  6.406650e+05     802.000000  \n",
       "75%     1500.000000  1.641416e+08     937.000000  \n",
       "max     2150.000000  1.721130e+09   81236.140000  "
      ]
     },
     "execution_count": 24,
     "metadata": {},
     "output_type": "execute_result"
    }
   ],
   "source": [
    "datas.describe()"
   ]
  },
  {
   "cell_type": "code",
   "execution_count": 25,
   "id": "03f54c12",
   "metadata": {},
   "outputs": [],
   "source": [
    "#categorical variables\n",
    "categorical_col=['status','item type','material_ref','product_ref']\n",
    "#continuous variable\n",
    "Continues_col = ['quantity_tons','customer','country','application','thickness','width','selling_price']"
   ]
  },
  {
   "cell_type": "code",
   "execution_count": 26,
   "id": "0e30b572",
   "metadata": {},
   "outputs": [
    {
     "name": "stdout",
     "output_type": "stream",
     "text": [
      "quantity_tons -- 284.6471445233792\n",
      "customer -- 0.9481255076859122\n",
      "country -- 0.6415189202742501\n",
      "application -- 0.506656959512981\n",
      "thickness -- 32.463130467874734\n",
      "width -- 0.5194467013684223\n",
      "selling_price -- 129.38031327288627\n"
     ]
    }
   ],
   "source": [
    "for i in Continues_col:\n",
    "    print(i,\"--\",datas[i].skew())"
   ]
  },
  {
   "cell_type": "code",
   "execution_count": null,
   "id": "17fb3e9d",
   "metadata": {},
   "outputs": [],
   "source": []
  },
  {
   "cell_type": "code",
   "execution_count": null,
   "id": "3b4923f2",
   "metadata": {},
   "outputs": [],
   "source": []
  },
  {
   "cell_type": "markdown",
   "id": "08dc1ba0",
   "metadata": {},
   "source": [
    "# Quantity_tons"
   ]
  },
  {
   "cell_type": "code",
   "execution_count": 27,
   "id": "24fcc11a",
   "metadata": {},
   "outputs": [
    {
     "data": {
      "text/plain": [
       "(171.75935447, -86.08119639)"
      ]
     },
     "execution_count": 27,
     "metadata": {},
     "output_type": "execute_result"
    }
   ],
   "source": [
    "datas['quantity_tons'] = pd.to_numeric(datas['quantity_tons'], errors='coerce')\n",
    "q3 = datas.quantity_tons.quantile(0.75)\n",
    "q1 = datas.quantity_tons.quantile(0.25)\n",
    "iqr = (q3 - q1)\n",
    "upper_tres = q3 + (1.5*iqr)\n",
    "lower_tres = q1 - (1.5*iqr)\n",
    "upper_tres,lower_tres"
   ]
  },
  {
   "cell_type": "code",
   "execution_count": 28,
   "id": "e855b2a0",
   "metadata": {},
   "outputs": [],
   "source": [
    "datas['quantity_tons'] = datas['quantity_tons'].clip(upper_tres,lower_tres)"
   ]
  },
  {
   "cell_type": "code",
   "execution_count": 29,
   "id": "65a2eb9a",
   "metadata": {},
   "outputs": [
    {
     "data": {
      "image/png": "[encoded data removed]",
      "text/plain": [
       "<Figure size 640x480 with 1 Axes>"
      ]
     },
     "metadata": {},
     "output_type": "display_data"
    }
   ],
   "source": [
    "import seaborn as sns\n",
    "import matplotlib.pyplot as plt\n",
    "\n",
    "# Assuming you have a DataFrame named 'datas' with your data\n",
    "sns.boxplot(x='quantity_tons', data=datas)\n",
    "\n",
    "# Show the plot\n",
    "plt.show()\n"
   ]
  },
  {
   "cell_type": "markdown",
   "id": "ecb42407",
   "metadata": {},
   "source": [
    "# Application"
   ]
  },
  {
   "cell_type": "code",
   "execution_count": 30,
   "id": "16caa189",
   "metadata": {},
   "outputs": [
    {
     "data": {
      "text/plain": [
       "(87.5, -36.5)"
      ]
     },
     "execution_count": 30,
     "metadata": {},
     "output_type": "execute_result"
    }
   ],
   "source": [
    "q3 = datas.application.quantile(0.75)\n",
    "q1 = datas.application.quantile(0.25)\n",
    "iqr = (q3 - q1)\n",
    "upper_tres = q3 + (1.5*iqr)\n",
    "lower_tres = q1 - (1.5*iqr)\n",
    "upper_tres,lower_tres"
   ]
  },
  {
   "cell_type": "code",
   "execution_count": 31,
   "id": "e56c57ed",
   "metadata": {},
   "outputs": [],
   "source": [
    "datas['application'] = datas['application'].clip(upper_tres,lower_tres)"
   ]
  },
  {
   "cell_type": "code",
   "execution_count": 32,
   "id": "2bfecaa9",
   "metadata": {},
   "outputs": [
    {
     "data": {
      "image/png": "[encoded data removed]",
      "text/plain": [
       "<Figure size 640x480 with 1 Axes>"
      ]
     },
     "metadata": {},
     "output_type": "display_data"
    }
   ],
   "source": [
    "# Creating plot\n",
    "plt.boxplot(datas['application'])\n",
    " \n",
    "# show plot\n",
    "plt.show()"
   ]
  },
  {
   "cell_type": "markdown",
   "id": "049cd9e1",
   "metadata": {},
   "source": [
    "# Thickness"
   ]
  },
  {
   "cell_type": "code",
   "execution_count": 33,
   "id": "a2af2534",
   "metadata": {},
   "outputs": [
    {
     "data": {
      "text/plain": [
       "(6.525, -2.8750000000000004)"
      ]
     },
     "execution_count": 33,
     "metadata": {},
     "output_type": "execute_result"
    }
   ],
   "source": [
    "q3 = datas.thickness.quantile(0.75)\n",
    "q1 = datas.thickness.quantile(0.25)\n",
    "iqr = (q3 - q1)\n",
    "upper_tres = q3 + (1.5*iqr)\n",
    "lower_tres = q1 - (1.5*iqr)\n",
    "upper_tres,lower_tres"
   ]
  },
  {
   "cell_type": "code",
   "execution_count": 34,
   "id": "96b0889a",
   "metadata": {},
   "outputs": [],
   "source": [
    "datas['thickness'] = datas['thickness'].clip(upper_tres,lower_tres)"
   ]
  },
  {
   "cell_type": "code",
   "execution_count": 35,
   "id": "89ab5485",
   "metadata": {},
   "outputs": [
    {
     "data": {
      "image/png": "[encoded data removed]",
      "text/plain": [
       "<Figure size 640x480 with 1 Axes>"
      ]
     },
     "metadata": {},
     "output_type": "display_data"
    }
   ],
   "source": [
    "# Creating plot\n",
    "plt.boxplot(datas['thickness'])\n",
    " \n",
    "# show plot\n",
    "plt.show()"
   ]
  },
  {
   "cell_type": "markdown",
   "id": "de08b77f",
   "metadata": {},
   "source": [
    "# width"
   ]
  },
  {
   "cell_type": "code",
   "execution_count": 36,
   "id": "4cf52775",
   "metadata": {},
   "outputs": [
    {
     "data": {
      "text/plain": [
       "(1989.0, 685.0)"
      ]
     },
     "execution_count": 36,
     "metadata": {},
     "output_type": "execute_result"
    }
   ],
   "source": [
    "q3 = datas.width.quantile(0.75)\n",
    "q1 = datas.width.quantile(0.25)\n",
    "iqr = (q3 - q1)\n",
    "upper_tres = q3 + (1.5*iqr)\n",
    "lower_tres = q1 - (1.5*iqr)\n",
    "upper_tres,lower_tres"
   ]
  },
  {
   "cell_type": "code",
   "execution_count": 37,
   "id": "061e0839",
   "metadata": {},
   "outputs": [],
   "source": [
    "datas['width'] = datas['width'].clip(upper_tres,lower_tres)"
   ]
  },
  {
   "cell_type": "code",
   "execution_count": 38,
   "id": "ea305aeb",
   "metadata": {},
   "outputs": [
    {
     "data": {
      "image/png": "[encoded data removed]",
      "text/plain": [
       "<Figure size 640x480 with 1 Axes>"
      ]
     },
     "metadata": {},
     "output_type": "display_data"
    }
   ],
   "source": [
    "# Creating plot\n",
    "plt.boxplot(datas['width'])\n",
    " \n",
    "# show plot\n",
    "plt.show()"
   ]
  },
  {
   "cell_type": "markdown",
   "id": "8777d5e9",
   "metadata": {},
   "source": [
    "# selling price"
   ]
  },
  {
   "cell_type": "code",
   "execution_count": 39,
   "id": "8651b9b8",
   "metadata": {},
   "outputs": [
    {
     "data": {
      "text/plain": [
       "(1358.5, 234.5)"
      ]
     },
     "execution_count": 39,
     "metadata": {},
     "output_type": "execute_result"
    }
   ],
   "source": [
    "q3 = datas.selling_price.quantile(0.75)\n",
    "q1 = datas.selling_price.quantile(0.25)\n",
    "iqr = (q3 - q1)\n",
    "upper_tres = q3 + (1.5*iqr)\n",
    "lower_tres = q1 - (1.5*iqr)\n",
    "upper_tres,lower_tres"
   ]
  },
  {
   "cell_type": "code",
   "execution_count": 40,
   "id": "bfe422ae",
   "metadata": {},
   "outputs": [],
   "source": [
    "datas['selling_price'] = datas['selling_price'].clip(upper_tres,lower_tres)"
   ]
  },
  {
   "cell_type": "code",
   "execution_count": 41,
   "id": "e6b5e828",
   "metadata": {},
   "outputs": [
    {
     "data": {
      "image/png": "[encoded data removed]",
      "text/plain": [
       "<Figure size 640x480 with 1 Axes>"
      ]
     },
     "metadata": {},
     "output_type": "display_data"
    }
   ],
   "source": [
    "# Creating plot\n",
    "plt.boxplot(datas['selling_price'])\n",
    " \n",
    "# show plot\n",
    "plt.show()"
   ]
  },
  {
   "cell_type": "markdown",
   "id": "85bf7fcb",
   "metadata": {},
   "source": [
    "# skewness"
   ]
  },
  {
   "cell_type": "code",
   "execution_count": null,
   "id": "deac4ca6",
   "metadata": {},
   "outputs": [],
   "source": [
    "Skewness:\n",
    "\n",
    "Definition: Skewness measures the asymmetry of the probability distribution of a dataset. \n",
    "It quantifies how the data is distributed in terms of its shape and whether it is symmetric or not.\n",
    "\n",
    "Purpose: Skewness helps you understand the shape of the data distribution. \n",
    "It tells you if the data is more concentrated on one side of the mean or if it's evenly distributed. \n",
    "Positive skewness indicates a right-skewed distribution, while negative skewness indicates a left-skewed distribution."
   ]
  },
  {
   "cell_type": "code",
   "execution_count": 42,
   "id": "edf04180",
   "metadata": {},
   "outputs": [
    {
     "data": {
      "text/plain": [
       "<Figure size 800x600 with 0 Axes>"
      ]
     },
     "metadata": {},
     "output_type": "display_data"
    },
    {
     "data": {
      "image/png": "[encoded data removed]",
      "text/plain": [
       "<Figure size 500x500 with 1 Axes>"
      ]
     },
     "metadata": {},
     "output_type": "display_data"
    }
   ],
   "source": [
    "plt.figure(figsize=(8, 6))  # Adjust the figure size as needed\n",
    "sns.displot(datas['width'], kde=True)\n",
    "plt.xlabel('Width')\n",
    "plt.ylabel('Density')\n",
    "plt.title('Distribution of \"width\" Column with KDE')\n",
    "plt.grid(True)\n",
    "\n",
    "# Show the plot\n",
    "plt.tight_layout()\n",
    "plt.show()"
   ]
  },
  {
   "cell_type": "code",
   "execution_count": 43,
   "id": "edc8cf46",
   "metadata": {},
   "outputs": [
    {
     "data": {
      "text/plain": [
       "<Figure size 800x600 with 0 Axes>"
      ]
     },
     "metadata": {},
     "output_type": "display_data"
    },
    {
     "data": {
      "image/png": "[encoded data removed]",
      "text/plain": [
       "<Figure size 500x500 with 1 Axes>"
      ]
     },
     "metadata": {},
     "output_type": "display_data"
    }
   ],
   "source": [
    "plt.figure(figsize=(8, 6))  # Adjust the figure size as needed\n",
    "sns.displot(datas['selling_price'], kde=True)\n",
    "plt.xlabel('selling_price')\n",
    "plt.ylabel('Density')\n",
    "plt.title('Distribution of \"selling_price\" Column with KDE')\n",
    "plt.grid(True)\n",
    "\n",
    "# Show the plot\n",
    "plt.tight_layout()\n",
    "plt.show()"
   ]
  },
  {
   "cell_type": "code",
   "execution_count": 44,
   "id": "fed1c86b",
   "metadata": {},
   "outputs": [
    {
     "data": {
      "text/plain": [
       "<Figure size 800x600 with 0 Axes>"
      ]
     },
     "metadata": {},
     "output_type": "display_data"
    },
    {
     "data": {
      "image/png": "[encoded data removed]",
      "text/plain": [
       "<Figure size 500x500 with 1 Axes>"
      ]
     },
     "metadata": {},
     "output_type": "display_data"
    }
   ],
   "source": [
    "plt.figure(figsize=(8, 6))  # Adjust the figure size as needed\n",
    "sns.displot(datas['application'], kde=True)\n",
    "plt.xlabel('application')\n",
    "plt.ylabel('Density')\n",
    "plt.title('Distribution of \"application\" Column with KDE')\n",
    "plt.grid(True)\n",
    "\n",
    "# Show the plot\n",
    "plt.tight_layout()\n",
    "plt.show()"
   ]
  },
  {
   "cell_type": "code",
   "execution_count": 45,
   "id": "b9cfb8b9",
   "metadata": {},
   "outputs": [
    {
     "data": {
      "text/plain": [
       "<Figure size 800x600 with 0 Axes>"
      ]
     },
     "metadata": {},
     "output_type": "display_data"
    },
    {
     "data": {
      "image/png": "[encoded data removed]",
      "text/plain": [
       "<Figure size 500x500 with 1 Axes>"
      ]
     },
     "metadata": {},
     "output_type": "display_data"
    }
   ],
   "source": [
    "plt.figure(figsize=(8, 6))  # Adjust the figure size as needed\n",
    "sns.displot(datas['quantity_tons'], kde=True)\n",
    "plt.xlabel('quantity_tons')\n",
    "plt.ylabel('Density')\n",
    "plt.title('Distribution of \"quantity_tons\" Column with KDE')\n",
    "plt.grid(True)\n",
    "\n",
    "# Show the plot\n",
    "plt.tight_layout()\n",
    "plt.show()"
   ]
  },
  {
   "cell_type": "code",
   "execution_count": 46,
   "id": "cca1f9ed",
   "metadata": {},
   "outputs": [
    {
     "data": {
      "text/plain": [
       "<Figure size 800x600 with 0 Axes>"
      ]
     },
     "metadata": {},
     "output_type": "display_data"
    },
    {
     "data": {
      "image/png": "[encoded data removed]",
      "text/plain": [
       "<Figure size 500x500 with 1 Axes>"
      ]
     },
     "metadata": {},
     "output_type": "display_data"
    }
   ],
   "source": [
    "plt.figure(figsize=(8, 6))  # Adjust the figure size as needed\n",
    "sns.displot(datas['thickness'], kde=True)\n",
    "plt.xlabel('thickness')\n",
    "plt.ylabel('Density')\n",
    "plt.title('Distribution of \"thickness\" Column with KDE')\n",
    "plt.grid(True)\n",
    "\n",
    "# Show the plot\n",
    "plt.tight_layout()\n",
    "plt.show()"
   ]
  },
  {
   "cell_type": "markdown",
   "id": "b8c7dd12",
   "metadata": {},
   "source": [
    "# Treating skewness"
   ]
  },
  {
   "cell_type": "code",
   "execution_count": null,
   "id": "88635b2b",
   "metadata": {},
   "outputs": [],
   "source": [
    "Identify Skewness:\n",
    "\n",
    "    Begin by visually inspecting your data using histograms, density plots, or \n",
    "    skewness coefficients to determine whether skewness is present and its direction (positive or negative).\n",
    "    Choose Appropriate Transformation:\n",
    "\n",
    "Select a transformation method based on the type of skewness:\n",
    "Positive Skewness (Right Skewed):\n",
    "     Apply a logarithmic transformation (e.g., natural logarithm or base 10).\n",
    "    Try a square root transformation.\n",
    "    Consider a Box-Cox transformation if appropriate.\n",
    "Negative Skewness (Left Skewed):\n",
    "    Consider an inverse transformation (e.g., 1/x).\n",
    "\n",
    "If this value is between: -0.5 and 0.5, the distribution of the value is almost symmetrical.\n",
    "-1 and -0.5, the data is negatively skewed, \n",
    " and \n",
    "f it is between 0.5 to 1, \n",
    "the data is positively skewed. The skewness is moderate"
   ]
  },
  {
   "cell_type": "code",
   "execution_count": null,
   "id": "76d1ae39",
   "metadata": {},
   "outputs": [],
   "source": [
    "# Positive skewness (Right Skewed)\n",
    "log_transformed_data = np.log(data)\n",
    "sqrt_transformed_data = np.sqrt(data)\n",
    "\n",
    "# Negative skewness \n",
    "inverse_transformed_data = 1 / data"
   ]
  },
  {
   "cell_type": "markdown",
   "id": "499ab633",
   "metadata": {},
   "source": [
    "# If this value is between: -0.5 and 0.5, the distribution of the value is almost symmetrical.\n",
    "# -1 and -0.5, the data is negatively skewed, \n",
    "# and \n",
    "# f it is between 0.5 to 1, the data is positively skewed."
   ]
  },
  {
   "cell_type": "code",
   "execution_count": 47,
   "id": "b178f4a8",
   "metadata": {},
   "outputs": [],
   "source": [
    "datas['thickness_log'] =np.log(datas['thickness'])"
   ]
  },
  {
   "cell_type": "code",
   "execution_count": 48,
   "id": "dcc48367",
   "metadata": {},
   "outputs": [
    {
     "data": {
      "text/plain": [
       "(1.2425099057623985, 0.23559031372106684)"
      ]
     },
     "execution_count": 48,
     "metadata": {},
     "output_type": "execute_result"
    }
   ],
   "source": [
    "datas['thickness'].skew(),datas['thickness_log'].skew()"
   ]
  },
  {
   "cell_type": "code",
   "execution_count": 49,
   "id": "d6fe7890",
   "metadata": {},
   "outputs": [],
   "source": [
    "datas['width_log'] = np.cbrt(datas['width'])"
   ]
  },
  {
   "cell_type": "code",
   "execution_count": 50,
   "id": "cec3a9b2",
   "metadata": {},
   "outputs": [
    {
     "data": {
      "text/plain": [
       "(0.7054910340415504, 0.16994993515908066)"
      ]
     },
     "execution_count": 50,
     "metadata": {},
     "output_type": "execute_result"
    }
   ],
   "source": [
    "datas['width'].skew(),datas['width_log'].skew()"
   ]
  },
  {
   "cell_type": "code",
   "execution_count": 51,
   "id": "401e353b",
   "metadata": {},
   "outputs": [
    {
     "data": {
      "text/plain": [
       "dtype('float64')"
      ]
     },
     "execution_count": 51,
     "metadata": {},
     "output_type": "execute_result"
    }
   ],
   "source": [
    "datas['width_log'].dtype"
   ]
  },
  {
   "cell_type": "code",
   "execution_count": 52,
   "id": "6bb27cf3",
   "metadata": {},
   "outputs": [
    {
     "data": {
      "text/plain": [
       "0.12081611251480388"
      ]
     },
     "execution_count": 52,
     "metadata": {},
     "output_type": "execute_result"
    }
   ],
   "source": [
    "datas['selling_price'].skew()# This is normally symmertrical so no need transformation"
   ]
  },
  {
   "cell_type": "code",
   "execution_count": 53,
   "id": "0566b006",
   "metadata": {},
   "outputs": [
    {
     "data": {
      "text/plain": [
       "dtype('float64')"
      ]
     },
     "execution_count": 53,
     "metadata": {},
     "output_type": "execute_result"
    }
   ],
   "source": [
    "datas['selling_price'].dtype"
   ]
  },
  {
   "cell_type": "code",
   "execution_count": 54,
   "id": "aa4d658a",
   "metadata": {},
   "outputs": [],
   "source": [
    "from scipy import stats\n",
    "datas['quantity_tons_log'], lam = stats.boxcox(datas['quantity_tons'])"
   ]
  },
  {
   "cell_type": "code",
   "execution_count": 55,
   "id": "efed15cb",
   "metadata": {},
   "outputs": [
    {
     "data": {
      "text/plain": [
       "(0         6.051334\n",
       " 2         8.880757\n",
       " 3         8.880757\n",
       " 4         8.880757\n",
       " 6         1.427984\n",
       "             ...   \n",
       " 181601    1.504963\n",
       " 181602    4.088238\n",
       " 181603    3.653948\n",
       " 181604    3.723493\n",
       " 181605    5.104417\n",
       " Name: quantity_tons_log, Length: 81024, dtype: float64,\n",
       " dtype('float64'))"
      ]
     },
     "execution_count": 55,
     "metadata": {},
     "output_type": "execute_result"
    }
   ],
   "source": [
    "datas['quantity_tons_log'], lam .dtype"
   ]
  },
  {
   "cell_type": "code",
   "execution_count": 56,
   "id": "86d91ea4",
   "metadata": {},
   "outputs": [
    {
     "data": {
      "text/plain": [
       "(1.1933036401800192, -0.05410425366150814)"
      ]
     },
     "execution_count": 56,
     "metadata": {},
     "output_type": "execute_result"
    }
   ],
   "source": [
    "datas['quantity_tons'].skew(),datas['quantity_tons_log'].skew()"
   ]
  },
  {
   "cell_type": "code",
   "execution_count": 57,
   "id": "83b4c046",
   "metadata": {},
   "outputs": [],
   "source": [
    "datas['application_log'] = np.log(datas['application'])"
   ]
  },
  {
   "cell_type": "code",
   "execution_count": 58,
   "id": "7ece338b",
   "metadata": {},
   "outputs": [
    {
     "data": {
      "text/plain": [
       "(0.506656959512981, 0.12628523471536643)"
      ]
     },
     "execution_count": 58,
     "metadata": {},
     "output_type": "execute_result"
    }
   ],
   "source": [
    "datas['application'].skew(),datas['application_log'].skew()"
   ]
  },
  {
   "cell_type": "code",
   "execution_count": 59,
   "id": "f781afff",
   "metadata": {},
   "outputs": [
    {
     "data": {
      "text/plain": [
       "dtype('float64')"
      ]
     },
     "execution_count": 59,
     "metadata": {},
     "output_type": "execute_result"
    }
   ],
   "source": [
    "datas['application_log'].dtype"
   ]
  },
  {
   "cell_type": "code",
   "execution_count": 60,
   "id": "e033e680",
   "metadata": {},
   "outputs": [
    {
     "data": {
      "text/plain": [
       "<Axes: xlabel='thickness_log', ylabel='Density'>"
      ]
     },
     "execution_count": 60,
     "metadata": {},
     "output_type": "execute_result"
    },
    {
     "data": {
      "image/png": "[encoded data removed]",
      "text/plain": [
       "<Figure size 1000x500 with 2 Axes>"
      ]
     },
     "metadata": {},
     "output_type": "display_data"
    }
   ],
   "source": [
    "fig, ax = plt.subplots(1, 2, figsize=(10, 5))\n",
    "sns.distplot(datas['thickness'], hist = False, kde = True,\n",
    "            kde_kws = {'shade': True, 'linewidth': 2},\n",
    "            label = \"Normal\", color =\"green\", ax=ax[0])\n",
    "sns.distplot(datas['thickness_log'], hist = False, kde = True,\n",
    "            kde_kws = {'shade': True, 'linewidth': 2},\n",
    "            label = \"Normal\", color =\"green\", ax=ax[1])"
   ]
  },
  {
   "cell_type": "code",
   "execution_count": 61,
   "id": "fffda87b",
   "metadata": {},
   "outputs": [
    {
     "data": {
      "text/plain": [
       "<Axes: xlabel='application_log', ylabel='Density'>"
      ]
     },
     "execution_count": 61,
     "metadata": {},
     "output_type": "execute_result"
    },
    {
     "data": {
      "image/png": "[encoded data removed]",
      "text/plain": [
       "<Figure size 1000x500 with 2 Axes>"
      ]
     },
     "metadata": {},
     "output_type": "display_data"
    }
   ],
   "source": [
    "fig, ax = plt.subplots(1, 2, figsize=(10, 5))\n",
    "sns.distplot(datas['application'], hist = False, kde = True,\n",
    "            kde_kws = {'shade': True, 'linewidth': 2},\n",
    "            label = \"Normal\", color =\"green\", ax=ax[0])\n",
    "sns.distplot(datas['application_log'], hist = False, kde = True,\n",
    "            kde_kws = {'shade': True, 'linewidth': 2},\n",
    "            label = \"Normal\", color =\"green\", ax=ax[1])"
   ]
  },
  {
   "cell_type": "code",
   "execution_count": 62,
   "id": "aaee5224",
   "metadata": {},
   "outputs": [
    {
     "data": {
      "text/plain": [
       "<Axes: xlabel='quantity_tons_log', ylabel='Density'>"
      ]
     },
     "execution_count": 62,
     "metadata": {},
     "output_type": "execute_result"
    },
    {
     "data": {
      "image/png": "[encoded data removed]",
      "text/plain": [
       "<Figure size 1000x500 with 2 Axes>"
      ]
     },
     "metadata": {},
     "output_type": "display_data"
    }
   ],
   "source": [
    "fig, ax = plt.subplots(1, 2, figsize=(10, 5))\n",
    "sns.distplot(datas['quantity_tons'], hist = False, kde = True,\n",
    "            kde_kws = {'shade': True, 'linewidth': 2},\n",
    "            label = \"Normal\", color =\"green\", ax=ax[0])\n",
    "sns.distplot(datas['quantity_tons_log'], hist = False, kde = True,\n",
    "            kde_kws = {'shade': True, 'linewidth': 2},\n",
    "            label = \"Normal\", color =\"green\", ax=ax[1])"
   ]
  },
  {
   "cell_type": "code",
   "execution_count": 63,
   "id": "d23c12ec",
   "metadata": {},
   "outputs": [
    {
     "data": {
      "text/plain": [
       "<Axes: xlabel='width_log', ylabel='Density'>"
      ]
     },
     "execution_count": 63,
     "metadata": {},
     "output_type": "execute_result"
    },
    {
     "data": {
      "image/png": "[encoded data removed]",
      "text/plain": [
       "<Figure size 1000x500 with 2 Axes>"
      ]
     },
     "metadata": {},
     "output_type": "display_data"
    }
   ],
   "source": [
    "fig, ax = plt.subplots(1, 2, figsize=(10, 5))\n",
    "sns.distplot(datas['width'], hist = False, kde = True,\n",
    "            kde_kws = {'shade': True, 'linewidth': 2},\n",
    "            label = \"Normal\", color =\"green\", ax=ax[0])\n",
    "sns.distplot(datas['width_log'], hist = False, kde = True,\n",
    "            kde_kws = {'shade': True, 'linewidth': 2},\n",
    "            label = \"Normal\", color =\"green\", ax=ax[1])"
   ]
  },
  {
   "cell_type": "code",
   "execution_count": 64,
   "id": "d5707f51",
   "metadata": {},
   "outputs": [
    {
     "data": {
      "text/plain": [
       "<Axes: xlabel='selling_price', ylabel='Density'>"
      ]
     },
     "execution_count": 64,
     "metadata": {},
     "output_type": "execute_result"
    },
    {
     "data": {
      "image/png": "[encoded data removed]",
      "text/plain": [
       "<Figure size 1000x500 with 2 Axes>"
      ]
     },
     "metadata": {},
     "output_type": "display_data"
    }
   ],
   "source": [
    "fig, ax = plt.subplots(1, 2, figsize=(10, 5))\n",
    "sns.distplot(datas['selling_price'], hist = False, kde = True,\n",
    "            kde_kws = {'shade': True, 'linewidth': 2},\n",
    "            label = \"Normal\", color =\"green\", ax=ax[0])\n",
    "sns.distplot(datas['selling_price'], hist = False, kde = True,\n",
    "            kde_kws = {'shade': True, 'linewidth': 2},\n",
    "            label = \"Normal\", color =\"green\", ax=ax[1])"
   ]
  },
  {
   "cell_type": "markdown",
   "id": "8d8e9a7b",
   "metadata": {},
   "source": [
    "# Encoding"
   ]
  },
  {
   "cell_type": "code",
   "execution_count": null,
   "id": "21f7a630",
   "metadata": {},
   "outputs": [],
   "source": [
    "One-Hot Encoding: One-hot encoding is a popular technique where each category is converted into a binary vector. Each category is represented by a unique column, and the presence of a category is indicated by a 1 in the corresponding column, while all other columns contain 0s.\n",
    "\n",
    "Example:\n",
    "Original categorical column: [\"Red\", \"Green\", \"Blue\"]\n",
    "One-hot encoded columns:\n",
    "\n",
    "Red: [1, 0, 0]\n",
    "Green: [0, 1, 0]\n",
    "Blue: [0, 0, 1]\n",
    "    \n",
    "Label Encoding: Label encoding involves assigning a unique integer to each category. \n",
    "This method is suitable for ordinal data, where there is an inherent order among categories.\n",
    "However, it may not be suitable for nominal data.\n",
    "\n",
    "Example:\n",
    "Original categorical column: [\"Low\", \"Medium\", \"High\"]\n",
    "Label encoded column: [0, 1, 2]\n",
    "\n",
    "Binary Encoding: Binary encoding combines the advantages of one-hot encoding and label encoding. \n",
    "It converts categories into binary code and then encodes them as integers.\n",
    "It can be more memory-efficient than one-hot encoding.\n",
    "\n",
    "Ordinal Encoding: Ordinal encoding is used when there is a clear order or ranking among categories.\n",
    "Categories are mapped to integers according to their order.\n",
    "\n",
    "Example:\n",
    "Original categorical column: [\"Low\", \"Medium\", \"High\"]\n",
    "Ordinal encoded column: [0, 1, 2]\n",
    "\n",
    "The choice of encoding method depends on the nature of the data, the machine learning algorithm being used, and \n",
    "the specific problem you are trying to solve. Choosing the right encoding method is crucial to ensure that \n",
    "the encoded data represents the underlying information accurately and does not introduce biases into your\n",
    "machine learning models."
   ]
  },
  {
   "cell_type": "code",
   "execution_count": 65,
   "id": "12986bec",
   "metadata": {},
   "outputs": [
    {
     "data": {
      "text/plain": [
       "id                   81024\n",
       "item_date              230\n",
       "quantity_tons        72253\n",
       "customer               694\n",
       "country                 16\n",
       "status                   8\n",
       "item type                6\n",
       "application             29\n",
       "thickness              364\n",
       "width                  921\n",
       "material_ref         11495\n",
       "product_ref             26\n",
       "delivery_date           22\n",
       "selling_price         5467\n",
       "thickness_log          364\n",
       "width_log              921\n",
       "quantity_tons_log    72253\n",
       "application_log         29\n",
       "dtype: int64"
      ]
     },
     "execution_count": 65,
     "metadata": {},
     "output_type": "execute_result"
    }
   ],
   "source": [
    "datas.nunique()"
   ]
  },
  {
   "cell_type": "code",
   "execution_count": 66,
   "id": "22a075eb",
   "metadata": {},
   "outputs": [
    {
     "data": {
      "text/html": [
       "<div>\n",
       "<style scoped>\n",
       "    .dataframe tbody tr th:only-of-type {\n",
       "        vertical-align: middle;\n",
       "    }\n",
       "\n",
       "    .dataframe tbody tr th {\n",
       "        vertical-align: top;\n",
       "    }\n",
       "\n",
       "    .dataframe thead th {\n",
       "        text-align: right;\n",
       "    }\n",
       "</style>\n",
       "<table border=\"1\" class=\"dataframe\">\n",
       "  <thead>\n",
       "    <tr style=\"text-align: right;\">\n",
       "      <th></th>\n",
       "      <th>id</th>\n",
       "      <th>item_date</th>\n",
       "      <th>quantity_tons</th>\n",
       "      <th>customer</th>\n",
       "      <th>country</th>\n",
       "      <th>application</th>\n",
       "      <th>thickness</th>\n",
       "      <th>width</th>\n",
       "      <th>material_ref</th>\n",
       "      <th>product_ref</th>\n",
       "      <th>...</th>\n",
       "      <th>item type_S</th>\n",
       "      <th>item type_W</th>\n",
       "      <th>item type_WI</th>\n",
       "      <th>status_Lost</th>\n",
       "      <th>status_Not lost for AM</th>\n",
       "      <th>status_Offerable</th>\n",
       "      <th>status_Offered</th>\n",
       "      <th>status_Revised</th>\n",
       "      <th>status_To be approved</th>\n",
       "      <th>status_Won</th>\n",
       "    </tr>\n",
       "  </thead>\n",
       "  <tbody>\n",
       "    <tr>\n",
       "      <th>0</th>\n",
       "      <td>EC06F063-9DF0-440C-8764-0B0C05A4F6AE</td>\n",
       "      <td>1970-01-01 00:00:00.020210401</td>\n",
       "      <td>54.151139</td>\n",
       "      <td>30156308.0</td>\n",
       "      <td>28.0</td>\n",
       "      <td>10.0</td>\n",
       "      <td>2.00</td>\n",
       "      <td>1500.0</td>\n",
       "      <td>DEQ1 S460MC</td>\n",
       "      <td>1670798778</td>\n",
       "      <td>...</td>\n",
       "      <td>0</td>\n",
       "      <td>1</td>\n",
       "      <td>0</td>\n",
       "      <td>0</td>\n",
       "      <td>0</td>\n",
       "      <td>0</td>\n",
       "      <td>0</td>\n",
       "      <td>0</td>\n",
       "      <td>0</td>\n",
       "      <td>1</td>\n",
       "    </tr>\n",
       "    <tr>\n",
       "      <th>2</th>\n",
       "      <td>E140FF1B-2407-4C02-A0DD-780A093B1158</td>\n",
       "      <td>1970-01-01 00:00:00.020210401</td>\n",
       "      <td>171.759354</td>\n",
       "      <td>30153963.0</td>\n",
       "      <td>30.0</td>\n",
       "      <td>28.0</td>\n",
       "      <td>0.38</td>\n",
       "      <td>952.0</td>\n",
       "      <td>S0380700</td>\n",
       "      <td>628377</td>\n",
       "      <td>...</td>\n",
       "      <td>0</td>\n",
       "      <td>0</td>\n",
       "      <td>1</td>\n",
       "      <td>0</td>\n",
       "      <td>0</td>\n",
       "      <td>0</td>\n",
       "      <td>0</td>\n",
       "      <td>0</td>\n",
       "      <td>0</td>\n",
       "      <td>1</td>\n",
       "    </tr>\n",
       "    <tr>\n",
       "      <th>3</th>\n",
       "      <td>F8D507A0-9C62-4EFE-831E-33E1DA53BB50</td>\n",
       "      <td>1970-01-01 00:00:00.020210401</td>\n",
       "      <td>171.759354</td>\n",
       "      <td>30349574.0</td>\n",
       "      <td>32.0</td>\n",
       "      <td>59.0</td>\n",
       "      <td>2.30</td>\n",
       "      <td>1317.0</td>\n",
       "      <td>DX51D+ZM310MAO 2.3X1317</td>\n",
       "      <td>1668701718</td>\n",
       "      <td>...</td>\n",
       "      <td>1</td>\n",
       "      <td>0</td>\n",
       "      <td>0</td>\n",
       "      <td>0</td>\n",
       "      <td>0</td>\n",
       "      <td>0</td>\n",
       "      <td>0</td>\n",
       "      <td>0</td>\n",
       "      <td>0</td>\n",
       "      <td>1</td>\n",
       "    </tr>\n",
       "    <tr>\n",
       "      <th>4</th>\n",
       "      <td>4E1C4E78-152B-430A-8094-ADD889C9D0AD</td>\n",
       "      <td>1970-01-01 00:00:00.020210401</td>\n",
       "      <td>171.759354</td>\n",
       "      <td>30211560.0</td>\n",
       "      <td>28.0</td>\n",
       "      <td>10.0</td>\n",
       "      <td>4.00</td>\n",
       "      <td>1989.0</td>\n",
       "      <td>2_S275JR+AR-CL1</td>\n",
       "      <td>640665</td>\n",
       "      <td>...</td>\n",
       "      <td>0</td>\n",
       "      <td>1</td>\n",
       "      <td>0</td>\n",
       "      <td>0</td>\n",
       "      <td>0</td>\n",
       "      <td>0</td>\n",
       "      <td>0</td>\n",
       "      <td>0</td>\n",
       "      <td>0</td>\n",
       "      <td>1</td>\n",
       "    </tr>\n",
       "    <tr>\n",
       "      <th>6</th>\n",
       "      <td>E1B47219-42C8-411D-AE46-AD5256DC4757</td>\n",
       "      <td>1970-01-01 00:00:00.020210401</td>\n",
       "      <td>3.522613</td>\n",
       "      <td>30209509.0</td>\n",
       "      <td>30.0</td>\n",
       "      <td>41.0</td>\n",
       "      <td>0.38</td>\n",
       "      <td>1125.0</td>\n",
       "      <td>NBW_L+_A_1125_0.4</td>\n",
       "      <td>611993</td>\n",
       "      <td>...</td>\n",
       "      <td>0</td>\n",
       "      <td>1</td>\n",
       "      <td>0</td>\n",
       "      <td>0</td>\n",
       "      <td>0</td>\n",
       "      <td>0</td>\n",
       "      <td>0</td>\n",
       "      <td>0</td>\n",
       "      <td>0</td>\n",
       "      <td>0</td>\n",
       "    </tr>\n",
       "    <tr>\n",
       "      <th>...</th>\n",
       "      <td>...</td>\n",
       "      <td>...</td>\n",
       "      <td>...</td>\n",
       "      <td>...</td>\n",
       "      <td>...</td>\n",
       "      <td>...</td>\n",
       "      <td>...</td>\n",
       "      <td>...</td>\n",
       "      <td>...</td>\n",
       "      <td>...</td>\n",
       "      <td>...</td>\n",
       "      <td>...</td>\n",
       "      <td>...</td>\n",
       "      <td>...</td>\n",
       "      <td>...</td>\n",
       "      <td>...</td>\n",
       "      <td>...</td>\n",
       "      <td>...</td>\n",
       "      <td>...</td>\n",
       "      <td>...</td>\n",
       "      <td>...</td>\n",
       "    </tr>\n",
       "    <tr>\n",
       "      <th>181601</th>\n",
       "      <td>9520F0DD-4EA3-4D35-B23A-35908C5E77CA</td>\n",
       "      <td>1970-01-01 00:00:00.020200702</td>\n",
       "      <td>3.739726</td>\n",
       "      <td>30267349.0</td>\n",
       "      <td>84.0</td>\n",
       "      <td>10.0</td>\n",
       "      <td>2.00</td>\n",
       "      <td>1500.0</td>\n",
       "      <td>1S220A100P6FSB</td>\n",
       "      <td>164141591</td>\n",
       "      <td>...</td>\n",
       "      <td>0</td>\n",
       "      <td>1</td>\n",
       "      <td>0</td>\n",
       "      <td>0</td>\n",
       "      <td>0</td>\n",
       "      <td>0</td>\n",
       "      <td>0</td>\n",
       "      <td>1</td>\n",
       "      <td>0</td>\n",
       "      <td>0</td>\n",
       "    </tr>\n",
       "    <tr>\n",
       "      <th>181602</th>\n",
       "      <td>D85912F7-0002-4EC5-9CFD-AD3803F44D91</td>\n",
       "      <td>1970-01-01 00:00:00.020200702</td>\n",
       "      <td>20.155119</td>\n",
       "      <td>30267349.0</td>\n",
       "      <td>84.0</td>\n",
       "      <td>10.0</td>\n",
       "      <td>2.00</td>\n",
       "      <td>1500.0</td>\n",
       "      <td>1S220A100P6FSA</td>\n",
       "      <td>164141591</td>\n",
       "      <td>...</td>\n",
       "      <td>0</td>\n",
       "      <td>1</td>\n",
       "      <td>0</td>\n",
       "      <td>0</td>\n",
       "      <td>0</td>\n",
       "      <td>0</td>\n",
       "      <td>0</td>\n",
       "      <td>1</td>\n",
       "      <td>0</td>\n",
       "      <td>0</td>\n",
       "    </tr>\n",
       "    <tr>\n",
       "      <th>181603</th>\n",
       "      <td>E6A94878-F80E-4852-A217-928D6D9C4A28</td>\n",
       "      <td>1970-01-01 00:00:00.020200702</td>\n",
       "      <td>15.742266</td>\n",
       "      <td>30267349.0</td>\n",
       "      <td>84.0</td>\n",
       "      <td>10.0</td>\n",
       "      <td>2.00</td>\n",
       "      <td>1000.0</td>\n",
       "      <td>1S220A100P6FSA</td>\n",
       "      <td>164141591</td>\n",
       "      <td>...</td>\n",
       "      <td>0</td>\n",
       "      <td>1</td>\n",
       "      <td>0</td>\n",
       "      <td>0</td>\n",
       "      <td>0</td>\n",
       "      <td>0</td>\n",
       "      <td>0</td>\n",
       "      <td>1</td>\n",
       "      <td>0</td>\n",
       "      <td>0</td>\n",
       "    </tr>\n",
       "    <tr>\n",
       "      <th>181604</th>\n",
       "      <td>B40F8127-D4AC-44B6-B200-FED2690EA8EF</td>\n",
       "      <td>1970-01-01 00:00:00.020200702</td>\n",
       "      <td>16.391009</td>\n",
       "      <td>30267349.0</td>\n",
       "      <td>84.0</td>\n",
       "      <td>10.0</td>\n",
       "      <td>2.00</td>\n",
       "      <td>1250.0</td>\n",
       "      <td>1S220A100P6FSA</td>\n",
       "      <td>164141591</td>\n",
       "      <td>...</td>\n",
       "      <td>0</td>\n",
       "      <td>1</td>\n",
       "      <td>0</td>\n",
       "      <td>0</td>\n",
       "      <td>0</td>\n",
       "      <td>0</td>\n",
       "      <td>0</td>\n",
       "      <td>1</td>\n",
       "      <td>0</td>\n",
       "      <td>0</td>\n",
       "    </tr>\n",
       "    <tr>\n",
       "      <th>181605</th>\n",
       "      <td>3BCD0A7E-A2D9-40B1-8A86-35439AEDDFF3</td>\n",
       "      <td>1970-01-01 00:00:00.020200702</td>\n",
       "      <td>34.426799</td>\n",
       "      <td>30201369.0</td>\n",
       "      <td>25.0</td>\n",
       "      <td>41.0</td>\n",
       "      <td>0.60</td>\n",
       "      <td>1288.0</td>\n",
       "      <td>202006170005.IO.1.1</td>\n",
       "      <td>611993</td>\n",
       "      <td>...</td>\n",
       "      <td>1</td>\n",
       "      <td>0</td>\n",
       "      <td>0</td>\n",
       "      <td>0</td>\n",
       "      <td>0</td>\n",
       "      <td>0</td>\n",
       "      <td>0</td>\n",
       "      <td>0</td>\n",
       "      <td>0</td>\n",
       "      <td>1</td>\n",
       "    </tr>\n",
       "  </tbody>\n",
       "</table>\n",
       "<p>81024 rows × 28 columns</p>\n",
       "</div>"
      ],
      "text/plain": [
       "                                          id                     item_date  \\\n",
       "0       EC06F063-9DF0-440C-8764-0B0C05A4F6AE 1970-01-01 00:00:00.020210401   \n",
       "2       E140FF1B-2407-4C02-A0DD-780A093B1158 1970-01-01 00:00:00.020210401   \n",
       "3       F8D507A0-9C62-4EFE-831E-33E1DA53BB50 1970-01-01 00:00:00.020210401   \n",
       "4       4E1C4E78-152B-430A-8094-ADD889C9D0AD 1970-01-01 00:00:00.020210401   \n",
       "6       E1B47219-42C8-411D-AE46-AD5256DC4757 1970-01-01 00:00:00.020210401   \n",
       "...                                      ...                           ...   \n",
       "181601  9520F0DD-4EA3-4D35-B23A-35908C5E77CA 1970-01-01 00:00:00.020200702   \n",
       "181602  D85912F7-0002-4EC5-9CFD-AD3803F44D91 1970-01-01 00:00:00.020200702   \n",
       "181603  E6A94878-F80E-4852-A217-928D6D9C4A28 1970-01-01 00:00:00.020200702   \n",
       "181604  B40F8127-D4AC-44B6-B200-FED2690EA8EF 1970-01-01 00:00:00.020200702   \n",
       "181605  3BCD0A7E-A2D9-40B1-8A86-35439AEDDFF3 1970-01-01 00:00:00.020200702   \n",
       "\n",
       "        quantity_tons    customer  country  application  thickness   width  \\\n",
       "0           54.151139  30156308.0     28.0         10.0       2.00  1500.0   \n",
       "2          171.759354  30153963.0     30.0         28.0       0.38   952.0   \n",
       "3          171.759354  30349574.0     32.0         59.0       2.30  1317.0   \n",
       "4          171.759354  30211560.0     28.0         10.0       4.00  1989.0   \n",
       "6            3.522613  30209509.0     30.0         41.0       0.38  1125.0   \n",
       "...               ...         ...      ...          ...        ...     ...   \n",
       "181601       3.739726  30267349.0     84.0         10.0       2.00  1500.0   \n",
       "181602      20.155119  30267349.0     84.0         10.0       2.00  1500.0   \n",
       "181603      15.742266  30267349.0     84.0         10.0       2.00  1000.0   \n",
       "181604      16.391009  30267349.0     84.0         10.0       2.00  1250.0   \n",
       "181605      34.426799  30201369.0     25.0         41.0       0.60  1288.0   \n",
       "\n",
       "                   material_ref  product_ref  ... item type_S  item type_W  \\\n",
       "0                   DEQ1 S460MC   1670798778  ...           0            1   \n",
       "2                      S0380700       628377  ...           0            0   \n",
       "3       DX51D+ZM310MAO 2.3X1317   1668701718  ...           1            0   \n",
       "4               2_S275JR+AR-CL1       640665  ...           0            1   \n",
       "6             NBW_L+_A_1125_0.4       611993  ...           0            1   \n",
       "...                         ...          ...  ...         ...          ...   \n",
       "181601           1S220A100P6FSB    164141591  ...           0            1   \n",
       "181602           1S220A100P6FSA    164141591  ...           0            1   \n",
       "181603           1S220A100P6FSA    164141591  ...           0            1   \n",
       "181604           1S220A100P6FSA    164141591  ...           0            1   \n",
       "181605      202006170005.IO.1.1       611993  ...           1            0   \n",
       "\n",
       "        item type_WI  status_Lost  status_Not lost for AM  status_Offerable  \\\n",
       "0                  0            0                       0                 0   \n",
       "2                  1            0                       0                 0   \n",
       "3                  0            0                       0                 0   \n",
       "4                  0            0                       0                 0   \n",
       "6                  0            0                       0                 0   \n",
       "...              ...          ...                     ...               ...   \n",
       "181601             0            0                       0                 0   \n",
       "181602             0            0                       0                 0   \n",
       "181603             0            0                       0                 0   \n",
       "181604             0            0                       0                 0   \n",
       "181605             0            0                       0                 0   \n",
       "\n",
       "        status_Offered  status_Revised  status_To be approved  status_Won  \n",
       "0                    0               0                      0           1  \n",
       "2                    0               0                      0           1  \n",
       "3                    0               0                      0           1  \n",
       "4                    0               0                      0           1  \n",
       "6                    0               0                      0           0  \n",
       "...                ...             ...                    ...         ...  \n",
       "181601               0               1                      0           0  \n",
       "181602               0               1                      0           0  \n",
       "181603               0               1                      0           0  \n",
       "181604               0               1                      0           0  \n",
       "181605               0               0                      0           1  \n",
       "\n",
       "[81024 rows x 28 columns]"
      ]
     },
     "execution_count": 66,
     "metadata": {},
     "output_type": "execute_result"
    }
   ],
   "source": [
    "one_hot_encoded = pd.get_dummies(datas, columns=['item type','status'], drop_first=True)\n",
    "one_hot_encoded\n"
   ]
  },
  {
   "cell_type": "code",
   "execution_count": 67,
   "id": "100541d7",
   "metadata": {},
   "outputs": [
    {
     "data": {
      "text/plain": [
       "Index(['id', 'item_date', 'quantity_tons', 'customer', 'country',\n",
       "       'application', 'thickness', 'width', 'material_ref', 'product_ref',\n",
       "       'delivery_date', 'selling_price', 'thickness_log', 'width_log',\n",
       "       'quantity_tons_log', 'application_log', 'item type_Others',\n",
       "       'item type_PL', 'item type_S', 'item type_W', 'item type_WI',\n",
       "       'status_Lost', 'status_Not lost for AM', 'status_Offerable',\n",
       "       'status_Offered', 'status_Revised', 'status_To be approved',\n",
       "       'status_Won'],\n",
       "      dtype='object')"
      ]
     },
     "execution_count": 67,
     "metadata": {},
     "output_type": "execute_result"
    }
   ],
   "source": [
    "one_hot_encoded.columns"
   ]
  },
  {
   "cell_type": "code",
   "execution_count": 68,
   "id": "2400048a",
   "metadata": {},
   "outputs": [
    {
     "data": {
      "text/plain": [
       "id                                object\n",
       "item_date                 datetime64[ns]\n",
       "quantity_tons                    float64\n",
       "customer                         float64\n",
       "country                          float64\n",
       "application                      float64\n",
       "thickness                        float64\n",
       "width                            float64\n",
       "material_ref                      object\n",
       "product_ref                        int64\n",
       "delivery_date             datetime64[ns]\n",
       "selling_price                    float64\n",
       "thickness_log                    float64\n",
       "width_log                        float64\n",
       "quantity_tons_log                float64\n",
       "application_log                  float64\n",
       "item type_Others                   uint8\n",
       "item type_PL                       uint8\n",
       "item type_S                        uint8\n",
       "item type_W                        uint8\n",
       "item type_WI                       uint8\n",
       "status_Lost                        uint8\n",
       "status_Not lost for AM             uint8\n",
       "status_Offerable                   uint8\n",
       "status_Offered                     uint8\n",
       "status_Revised                     uint8\n",
       "status_To be approved              uint8\n",
       "status_Won                         uint8\n",
       "dtype: object"
      ]
     },
     "execution_count": 68,
     "metadata": {},
     "output_type": "execute_result"
    }
   ],
   "source": [
    "one_hot_encoded.dtypes"
   ]
  },
  {
   "cell_type": "markdown",
   "id": "993ce73b",
   "metadata": {},
   "source": [
    "# Feature engineering"
   ]
  },
  {
   "cell_type": "code",
   "execution_count": 69,
   "id": "fc4b39b2",
   "metadata": {},
   "outputs": [],
   "source": [
    "#correlation-features are strongly correlated with the target variable and, therefore, likely to be important for prediction"
   ]
  },
  {
   "cell_type": "code",
   "execution_count": 70,
   "id": "0aa55e3c",
   "metadata": {},
   "outputs": [
    {
     "data": {
      "image/png": "[encoded data removed]",
      "text/plain": [
       "<Figure size 2000x1000 with 2 Axes>"
      ]
     },
     "metadata": {},
     "output_type": "display_data"
    }
   ],
   "source": [
    "# Select only numeric columns from your DataFrame\n",
    "numeric_data = datas.select_dtypes(include=[np.number])\n",
    "\n",
    "# Create a correlation matrix for numeric columns\n",
    "correlation_matrix = numeric_data.corr().abs()\n",
    "#if this code not working add [255] code top of this code\n",
    "# Create a heatmap\n",
    "plt.figure(figsize=(20, 10))\n",
    "sns.heatmap(correlation_matrix, annot=True)\n",
    "plt.show()"
   ]
  },
  {
   "cell_type": "markdown",
   "id": "7d9e67da",
   "metadata": {},
   "source": [
    "# Model Building and Evaluation"
   ]
  },
  {
   "cell_type": "markdown",
   "id": "bfc8f87b",
   "metadata": {},
   "source": [
    "# Split the dataset into training and testing/validation set"
   ]
  },
  {
   "cell_type": "code",
   "execution_count": 71,
   "id": "4ec5a72f",
   "metadata": {},
   "outputs": [],
   "source": [
    "# independent features after encoding\n",
    "X = one_hot_encoded[[ 'thickness_log', 'width_log',\n",
    "       'quantity_tons_log', 'application_log', 'item type_Others',\n",
    "       'item type_PL', 'item type_S', 'item type_W', 'item type_WI',\n",
    "       'status_Lost', 'status_Not lost for AM', 'status_Offerable',\n",
    "       'status_Offered', 'status_Revised', 'status_To be approved',\n",
    "       'status_Won']].values\n",
    "#important feature\n",
    "\n",
    "y=datas[['selling_price']].values#predicted targets"
   ]
  },
  {
   "cell_type": "code",
   "execution_count": 72,
   "id": "a3faa5cc",
   "metadata": {},
   "outputs": [
    {
     "data": {
      "text/plain": [
       "(81024, 16)"
      ]
     },
     "execution_count": 72,
     "metadata": {},
     "output_type": "execute_result"
    }
   ],
   "source": [
    "X.shape"
   ]
  },
  {
   "cell_type": "code",
   "execution_count": 73,
   "id": "35dfee04",
   "metadata": {},
   "outputs": [
    {
     "data": {
      "text/plain": [
       "(81024, 1)"
      ]
     },
     "execution_count": 73,
     "metadata": {},
     "output_type": "execute_result"
    }
   ],
   "source": [
    "y.shape"
   ]
  },
  {
   "cell_type": "code",
   "execution_count": 74,
   "id": "2b4ec4ca",
   "metadata": {},
   "outputs": [],
   "source": [
    "# import pandas\n",
    "# a={'name':['raja','rakessh'],\n",
    "#    'age':[25,26]}\n",
    "# frame=pd.DataFrame(a)\n",
    "# frame"
   ]
  },
  {
   "cell_type": "code",
   "execution_count": 75,
   "id": "38052a67",
   "metadata": {},
   "outputs": [],
   "source": [
    "# frame['place']=['chennai','kovai']"
   ]
  },
  {
   "cell_type": "code",
   "execution_count": 76,
   "id": "5ab5e973",
   "metadata": {},
   "outputs": [],
   "source": [
    "#scales features to a specified range, typically [0, 1],"
   ]
  },
  {
   "cell_type": "code",
   "execution_count": 77,
   "id": "189c8948",
   "metadata": {},
   "outputs": [
    {
     "data": {
      "text/plain": [
       "array([[ 0.38618471,  0.91521775,  0.44533218, ..., -0.12784562,\n",
       "        -0.17271603,  0.60554632],\n",
       "       [-1.54561776, -1.51228717,  1.615364  , ..., -0.12784562,\n",
       "        -0.17271603,  0.60554632],\n",
       "       [ 0.54875916,  0.18257195,  1.615364  , ..., -0.12784562,\n",
       "        -0.17271603,  0.60554632],\n",
       "       ...,\n",
       "       [ 0.38618471, -1.26704363, -0.54604254, ...,  7.82193425,\n",
       "        -0.17271603, -1.65140133],\n",
       "       [ 0.38618471, -0.10262175, -0.5172839 , ...,  7.82193425,\n",
       "        -0.17271603, -1.65140133],\n",
       "       [-1.01430541,  0.06034592,  0.05376014, ..., -0.12784562,\n",
       "        -0.17271603,  0.60554632]])"
      ]
     },
     "execution_count": 77,
     "metadata": {},
     "output_type": "execute_result"
    }
   ],
   "source": [
    "scaler = StandardScaler()\n",
    "X = scaler.fit_transform(X)\n",
    "X\n"
   ]
  },
  {
   "cell_type": "code",
   "execution_count": 78,
   "id": "e009627f",
   "metadata": {},
   "outputs": [],
   "source": [
    "# test and train split\n",
    "X_train, X_test, y_train, y_test = train_test_split(X, y, test_size=0.1, random_state=42)"
   ]
  },
  {
   "cell_type": "markdown",
   "id": "37ccc572",
   "metadata": {},
   "source": [
    "# Model fitiing"
   ]
  },
  {
   "cell_type": "code",
   "execution_count": 79,
   "id": "23f7807f",
   "metadata": {},
   "outputs": [
    {
     "ename": "SyntaxError",
     "evalue": "unterminated string literal (detected at line 19) (3159513113.py, line 19)",
     "output_type": "error",
     "traceback": [
      "\u001b[1;36m  Cell \u001b[1;32mIn[79], line 19\u001b[1;36m\u001b[0m\n\u001b[1;33m    K-Nearest Neighbors (K-NN) Regression: Predicts values based on the average of the k-nearest neighbors' target values.\u001b[0m\n\u001b[1;37m                                                                                                          ^\u001b[0m\n\u001b[1;31mSyntaxError\u001b[0m\u001b[1;31m:\u001b[0m unterminated string literal (detected at line 19)\n"
     ]
    }
   ],
   "source": [
    "Regression Algorithms:\n",
    "\n",
    "Linear Regression: Models the linear relationship between input features and the target variable.\n",
    "\n",
    "Decision Tree Regression: Uses decision trees to make predictions in regression tasks.\n",
    "\n",
    "Random Forest Regression: An ensemble of decision trees for improved regression performance.\n",
    "\n",
    "Support Vector Regression (SVR): Extends support vector machines to regression problems.\n",
    "\n",
    "Lasso Regression: Linear regression with L1 regularization, useful for feature selection.\n",
    "\n",
    "Ridge Regression: Linear regression with L2 regularization, which helps prevent overfitting.\n",
    "\n",
    "ElasticNet Regression: Combines L1 and L2 regularization.\n",
    "\n",
    "Gradient Boosting (e.g., XGBoost, LightGBM): Ensemble methods that can be used for regression tasks.\n",
    "\n",
    "K-Nearest Neighbors (K-NN) Regression: Predicts values based on the average of the k-nearest neighbors' target values.\n",
    "\n",
    "Polynomial Regression: Fits a polynomial function to the data.\n",
    "\n",
    "Classification Algorithms:\n",
    "\n",
    "Logistic Regression: Used for binary classification problems.\n",
    "\n",
    "Decision Trees: Decision trees can be used for both binary and multi-class classification.\n",
    "\n",
    "Random Forest: An ensemble of decision trees for classification tasks.\n",
    "\n",
    "Support Vector Machines (SVM): Effective for both binary and multi-class classification.\n",
    "\n",
    "Naive Bayes: Uses Bayes' theorem for classification, often used for text classification.\n",
    "\n",
    "K-Nearest Neighbors (K-NN) Classification: Classifies data points based on the majority class of their k-nearest neighbors.\n",
    "\n",
    "Gradient Boosting (e.g., XGBoost, LightGBM): Ensemble methods that can be used for classification tasks.\n",
    "\n",
    "Neural Networks (Deep Learning): Multi-layer neural networks for complex classification problems.\n",
    "\n",
    "Linear Discriminant Analysis (LDA): Reduces dimensionality while preserving class separability.\n",
    "\n",
    "Principal Component Analysis (PCA): Dimensionality reduction technique often used before applying other classifiers."
   ]
  },
  {
   "cell_type": "code",
   "execution_count": null,
   "id": "f1f2aa73",
   "metadata": {},
   "outputs": [],
   "source": []
  },
  {
   "cell_type": "code",
   "execution_count": null,
   "id": "587c5d8b",
   "metadata": {},
   "outputs": [],
   "source": [
    "# Import the necessary libraries\n",
    "from sklearn import datasets\n",
    "from sklearn.model_selection import train_test_split\n",
    "from sklearn.ensemble import RandomForestRegressor\n",
    "from sklearn.metrics import mean_squared_error, r2_score\n",
    "# Create a Random Forest regression model\n",
    "random_forest_regressor = RandomForestRegressor(n_estimators=100, random_state=42)  \n",
    "# You can choose the number of trees (n_estimators) and other hyperparameters\n",
    "\n",
    "# Train the Random Forest model on the training data\n",
    "random_forest_regressor.fit(X_train, y_train)\n",
    "\n",
    "# Make predictions on the test data\n",
    "y_pred = random_forest_regressor.predict(X_test)\n",
    "\n",
    "# Evaluate the model using mean squared error (MSE) and R-squared (R2)\n",
    "mse = mean_squared_error(y_test, y_pred)\n",
    "r2 = r2_score(y_test, y_pred)\n",
    "print(\"Mean Squared Error (MSE):\", mse)\n",
    "print(\"R-squared (R2):\", r2)"
   ]
  },
  {
   "cell_type": "code",
   "execution_count": null,
   "id": "9972a59c",
   "metadata": {},
   "outputs": [],
   "source": [
    "from sklearn.model_selection import cross_val_score\n",
    "\n",
    "k = 5\n",
    "cv_scores = cross_val_score(model, X, y, cv=k, scoring='neg_mean_squared_error')\n",
    "print(cv_scores)\n",
    "\n",
    "# Note: Negative of MSE is used because scikit-learn reports negative values for loss functions.\n",
    "\n",
    "# Convert negative scores back to positive\n",
    "# mse_scores = -cv_scores\n",
    "\n",
    "# # Calculate Mean and Standard Deviation of MSE scores\n",
    "# mean_mse = np.mean(mse_scores)\n",
    "# std_mse = np.std(mse_scores)\n",
    "\n",
    "# print(f'Mean MSE across {k}-folds: {mean_mse}')\n",
    "# print(f'Standard Deviation of MSE: {std_mse}')"
   ]
  },
  {
   "cell_type": "code",
   "execution_count": null,
   "id": "8cf9be82",
   "metadata": {},
   "outputs": [],
   "source": [
    "# Train the model on the training data\n",
    "model.fit(X_train, y_train)\n",
    "\n",
    "# Calculate training score\n",
    "training_score = model.score(X_train, y_train)\n",
    "\n",
    "# Perform 5-fold cross-validation\n",
    "cv_scores = cross_val_score(model, X_train, y_train, cv=5, scoring='r2')\n",
    "\n",
    "# Calculate Mean Cross-Validation Score\n",
    "mean_cv_score = np.mean(cv_scores)\n",
    "\n",
    "# Print scores\n",
    "print(f'Training Score: {training_score}')\n",
    "print(f'Cross-Validation Score: {mean_cv_score}')"
   ]
  },
  {
   "cell_type": "code",
   "execution_count": null,
   "id": "d42dc95b",
   "metadata": {},
   "outputs": [],
   "source": []
  },
  {
   "cell_type": "markdown",
   "id": "c2b0a203",
   "metadata": {},
   "source": [
    "# evaluation metrics"
   ]
  },
  {
   "cell_type": "code",
   "execution_count": null,
   "id": "53133991",
   "metadata": {},
   "outputs": [],
   "source": [
    "#extra_tree_model"
   ]
  },
  {
   "cell_type": "code",
   "execution_count": 212,
   "id": "d2a6b841",
   "metadata": {},
   "outputs": [
    {
     "name": "stdout",
     "output_type": "stream",
     "text": [
      "MAE : 113.32812056859922 \n",
      "MSE : 22679.568198290617 \n",
      "R2 : 0.47996390118883103\n"
     ]
    }
   ],
   "source": [
    "from sklearn.metrics import mean_absolute_error,mean_squared_error,r2_score\n",
    "MAE=mean_absolute_error(y_test,predict_val)\n",
    "MSE=mean_squared_error(y_test,predict_val)\n",
    "r2 = r2_score(y_test,predict_val)\n",
    "\n",
    "print(\"MAE :\",MAE,\"\\nMSE :\",MSE,\"\\nR2 :\",r2)"
   ]
  },
  {
   "cell_type": "code",
   "execution_count": null,
   "id": "65723c6d",
   "metadata": {},
   "outputs": [],
   "source": [
    "#linera regression"
   ]
  },
  {
   "cell_type": "code",
   "execution_count": null,
   "id": "31ddd4fb",
   "metadata": {},
   "outputs": [],
   "source": [
    "from sklearn.metrics import mean_squared_error, r2_score\n",
    "\n",
    "mse = mean_squared_error(y_test, y_pred)\n",
    "r_squared = r2_score(y_test, y_pred)\n",
    "# (The R-squared value will be between 0 and 1, where higher values indicate a better fit of the model to the data.)\n",
    "\n",
    "print(f\"Mean Squared Error: {mse}\")\n",
    "print(f\"R-squared: {r_squared}\")\n"
   ]
  },
  {
   "cell_type": "code",
   "execution_count": null,
   "id": "96aa0d20",
   "metadata": {},
   "outputs": [],
   "source": [
    "The code you've provided is an example of a Python dictionary called param_grid. This dictionary is commonly used in the context of hyperparameter tuning for machine learning models, particularly for decision trees and random forests. Let me explain each part of the param_grid dictionary:\n",
    "\n",
    "'max_depth': This is a hyperparameter for decision trees and random forests that determines the maximum depth of the tree.\n",
    "    A higher value allows the tree to be deeper, potentially capturing more complex relationships in the data. \n",
    "    The values [2, 5, 10, 20] represent different candidate values for max_depth that you want to try during hyperparameter \n",
    "    tuning.\n",
    "\n",
    "'min_samples_split': This hyperparameter specifies the minimum number of samples \n",
    "    required to split an internal node in a decision tree or random forest. \n",
    "    Smaller values can lead to more complex trees, while larger values can result in simpler trees.\n",
    "    The values [2, 5, 10] represent different candidate values for min_samples_split.\n",
    "\n",
    "'min_samples_leaf': This hyperparameter determines the minimum number of samples \n",
    "    required to be in a leaf node (a terminal node) of the tree.\n",
    "    Like min_samples_split, smaller values lead to more complex trees,\n",
    "    while larger values lead to simpler trees. The values [1, 2, 4] represent different candidate values for min_samples_leaf.\n",
    "\n",
    "'max_features': This hyperparameter controls the maximum number of features to consider when\n",
    "    making a split in a decision tree or random forest. It can help prevent overfitting by limiting\n",
    "    the number of features used at each split. The values ['auto', 'sqrt', 'log2'] represent \n",
    "    different ways to choose the maximum number of features: 'auto' typically means using all features,\n",
    "        'sqrt' means using the square root of the total number of features, and 'log2' means \n",
    "        using the base-2 logarithm of the total number of features.\n",
    "\n",
    "The purpose of this param_grid dictionary is to define a grid of hyperparameters\n",
    "and their potential values that you want to search through during a hyperparameter tuning process.\n",
    "Techniques like grid search or random search can use this grid to systematically explore different\n",
    "combinations of hyperparameters to find the set of hyperparameters that result in the best model\n",
    "performance on a validation dataset. This helps in optimizing the model for a specific machine\n",
    "learning task by selecting the most suitable hyperparameters from the provided options.\n"
   ]
  },
  {
   "cell_type": "code",
   "execution_count": 87,
   "id": "4796affd",
   "metadata": {},
   "outputs": [
    {
     "name": "stdout",
     "output_type": "stream",
     "text": [
      "Best hyperparameters: {'max_depth': 20, 'max_features': 'sqrt', 'min_samples_leaf': 1, 'min_samples_split': 5}\n"
     ]
    }
   ],
   "source": [
    "# hyperparameters\n",
    "param_grid = {'max_depth': [2, 5, 10, 20],\n",
    "              'min_samples_split': [2, 5, 10],\n",
    "              'min_samples_leaf': [1, 2, 4],\n",
    "              'max_features': ['auto', 'sqrt', 'log2']}\n",
    "# gridsearchcv\n",
    "grid_search = GridSearchCV(estimator=random_forest_regressor, param_grid=param_grid, cv=5)\n",
    "grid_search.fit(X_train, y_train)\n",
    "print(\"Best hyperparameters:\", grid_search.best_params_)"
   ]
  },
  {
   "cell_type": "code",
   "execution_count": 88,
   "id": "66d795a0",
   "metadata": {},
   "outputs": [],
   "source": [
    "best_model = grid_search.best_estimator_\n",
    "y_pred = best_model.predict(X_test)"
   ]
  },
  {
   "cell_type": "code",
   "execution_count": 89,
   "id": "1caf26e0",
   "metadata": {},
   "outputs": [
    {
     "name": "stdout",
     "output_type": "stream",
     "text": [
      "Mean squared error: 18533.148513533026\n",
      "R-squared: 0.5750401344769805\n"
     ]
    }
   ],
   "source": [
    "# evalution metrics\n",
    "mse = mean_squared_error(y_test, y_pred)\n",
    "r2 = r2_score(y_test, y_pred)\n",
    "print('Mean squared error:', mse)\n",
    "print('R-squared:', r2)\n"
   ]
  },
  {
   "cell_type": "code",
   "execution_count": 91,
   "id": "fac7c00d",
   "metadata": {},
   "outputs": [],
   "source": [
    "# Saving the model\n",
    "import pickle\n",
    "with open('model.pkl', 'wb') as file:\n",
    "    pickle.dump(best_model, file)\n",
    "with open('scaler.pkl', 'wb') as f:\n",
    "    pickle.dump(scaler, f)\n",
    "with open('t.pkl', 'wb') as f:\n",
    "    pickle.dump(one_hot_encoded, f)\n",
    "with open('s.pkl', 'wb') as f:\n",
    "    pickle.dump(one_hot_encoded, f)"
   ]
  },
  {
   "cell_type": "code",
   "execution_count": null,
   "id": "c42db861",
   "metadata": {},
   "outputs": [],
   "source": [
    "'thickness_log', 'width_log',\n",
    "       'quantity_tons_log', 'application_log', 'item type_Others',\n",
    "       'item type_PL', 'item type_S', 'item type_W', 'item type_WI',\n",
    "       'status_Lost', 'status_Not lost for AM', 'status_Offerable',\n",
    "       'status_Offered', 'status_Revised', 'status_To be approved',\n",
    "       'status_Won'"
   ]
  },
  {
   "cell_type": "code",
   "execution_count": 98,
   "id": "9eb298e2",
   "metadata": {},
   "outputs": [
    {
     "data": {
      "text/plain": [
       "Index(['id', 'item_date', 'quantity_tons', 'customer', 'country',\n",
       "       'application', 'thickness', 'width', 'material_ref', 'product_ref',\n",
       "       'delivery_date', 'selling_price', 'thickness_log', 'width_log',\n",
       "       'quantity_tons_log', 'application_log', 'item type_Others',\n",
       "       'item type_PL', 'item type_S', 'item type_W', 'item type_WI',\n",
       "       'status_Lost', 'status_Not lost for AM', 'status_Offerable',\n",
       "       'status_Offered', 'status_Revised', 'status_To be approved',\n",
       "       'status_Won'],\n",
       "      dtype='object')"
      ]
     },
     "execution_count": 98,
     "metadata": {},
     "output_type": "execute_result"
    }
   ],
   "source": [
    "one_hot_encoded.columns"
   ]
  },
  {
   "cell_type": "code",
   "execution_count": 101,
   "id": "de9375ee",
   "metadata": {},
   "outputs": [
    {
     "data": {
      "text/html": [
       "<div>\n",
       "<style scoped>\n",
       "    .dataframe tbody tr th:only-of-type {\n",
       "        vertical-align: middle;\n",
       "    }\n",
       "\n",
       "    .dataframe tbody tr th {\n",
       "        vertical-align: top;\n",
       "    }\n",
       "\n",
       "    .dataframe thead th {\n",
       "        text-align: right;\n",
       "    }\n",
       "</style>\n",
       "<table border=\"1\" class=\"dataframe\">\n",
       "  <thead>\n",
       "    <tr style=\"text-align: right;\">\n",
       "      <th></th>\n",
       "      <th>id</th>\n",
       "      <th>item_date</th>\n",
       "      <th>quantity_tons</th>\n",
       "      <th>customer</th>\n",
       "      <th>country</th>\n",
       "      <th>application</th>\n",
       "      <th>thickness</th>\n",
       "      <th>width</th>\n",
       "      <th>material_ref</th>\n",
       "      <th>product_ref</th>\n",
       "      <th>delivery_date</th>\n",
       "      <th>selling_price</th>\n",
       "      <th>thickness_log</th>\n",
       "      <th>width_log</th>\n",
       "      <th>quantity_tons_log</th>\n",
       "      <th>application_log</th>\n",
       "      <th>item type_Others</th>\n",
       "      <th>item type_PL</th>\n",
       "      <th>item type_S</th>\n",
       "      <th>item type_W</th>\n",
       "      <th>item type_WI</th>\n",
       "      <th>status_Lost</th>\n",
       "      <th>status_Not lost for AM</th>\n",
       "      <th>status_Offerable</th>\n",
       "      <th>status_Offered</th>\n",
       "      <th>status_Revised</th>\n",
       "      <th>status_To be approved</th>\n",
       "      <th>status_Won</th>\n",
       "    </tr>\n",
       "  </thead>\n",
       "  <tbody>\n",
       "    <tr>\n",
       "      <th>0</th>\n",
       "      <td>EC06F063-9DF0-440C-8764-0B0C05A4F6AE</td>\n",
       "      <td>1970-01-01 00:00:00.020210401</td>\n",
       "      <td>54.151139</td>\n",
       "      <td>30156308.0</td>\n",
       "      <td>28.0</td>\n",
       "      <td>10.0</td>\n",
       "      <td>2.00</td>\n",
       "      <td>1500.0</td>\n",
       "      <td>DEQ1 S460MC</td>\n",
       "      <td>1670798778</td>\n",
       "      <td>1970-01-01 00:00:00.020210701</td>\n",
       "      <td>854.00</td>\n",
       "      <td>0.693147</td>\n",
       "      <td>11.447142</td>\n",
       "      <td>6.051334</td>\n",
       "      <td>2.302585</td>\n",
       "      <td>0</td>\n",
       "      <td>0</td>\n",
       "      <td>0</td>\n",
       "      <td>1</td>\n",
       "      <td>0</td>\n",
       "      <td>0</td>\n",
       "      <td>0</td>\n",
       "      <td>0</td>\n",
       "      <td>0</td>\n",
       "      <td>0</td>\n",
       "      <td>0</td>\n",
       "      <td>1</td>\n",
       "    </tr>\n",
       "    <tr>\n",
       "      <th>2</th>\n",
       "      <td>E140FF1B-2407-4C02-A0DD-780A093B1158</td>\n",
       "      <td>1970-01-01 00:00:00.020210401</td>\n",
       "      <td>171.759354</td>\n",
       "      <td>30153963.0</td>\n",
       "      <td>30.0</td>\n",
       "      <td>28.0</td>\n",
       "      <td>0.38</td>\n",
       "      <td>952.0</td>\n",
       "      <td>S0380700</td>\n",
       "      <td>628377</td>\n",
       "      <td>1970-01-01 00:00:00.020210101</td>\n",
       "      <td>644.33</td>\n",
       "      <td>-0.967584</td>\n",
       "      <td>9.837369</td>\n",
       "      <td>8.880757</td>\n",
       "      <td>3.332205</td>\n",
       "      <td>0</td>\n",
       "      <td>0</td>\n",
       "      <td>0</td>\n",
       "      <td>0</td>\n",
       "      <td>1</td>\n",
       "      <td>0</td>\n",
       "      <td>0</td>\n",
       "      <td>0</td>\n",
       "      <td>0</td>\n",
       "      <td>0</td>\n",
       "      <td>0</td>\n",
       "      <td>1</td>\n",
       "    </tr>\n",
       "    <tr>\n",
       "      <th>3</th>\n",
       "      <td>F8D507A0-9C62-4EFE-831E-33E1DA53BB50</td>\n",
       "      <td>1970-01-01 00:00:00.020210401</td>\n",
       "      <td>171.759354</td>\n",
       "      <td>30349574.0</td>\n",
       "      <td>32.0</td>\n",
       "      <td>59.0</td>\n",
       "      <td>2.30</td>\n",
       "      <td>1317.0</td>\n",
       "      <td>DX51D+ZM310MAO 2.3X1317</td>\n",
       "      <td>1668701718</td>\n",
       "      <td>1970-01-01 00:00:00.020210101</td>\n",
       "      <td>768.00</td>\n",
       "      <td>0.832909</td>\n",
       "      <td>10.961296</td>\n",
       "      <td>8.880757</td>\n",
       "      <td>4.077537</td>\n",
       "      <td>0</td>\n",
       "      <td>0</td>\n",
       "      <td>1</td>\n",
       "      <td>0</td>\n",
       "      <td>0</td>\n",
       "      <td>0</td>\n",
       "      <td>0</td>\n",
       "      <td>0</td>\n",
       "      <td>0</td>\n",
       "      <td>0</td>\n",
       "      <td>0</td>\n",
       "      <td>1</td>\n",
       "    </tr>\n",
       "    <tr>\n",
       "      <th>4</th>\n",
       "      <td>4E1C4E78-152B-430A-8094-ADD889C9D0AD</td>\n",
       "      <td>1970-01-01 00:00:00.020210401</td>\n",
       "      <td>171.759354</td>\n",
       "      <td>30211560.0</td>\n",
       "      <td>28.0</td>\n",
       "      <td>10.0</td>\n",
       "      <td>4.00</td>\n",
       "      <td>1989.0</td>\n",
       "      <td>2_S275JR+AR-CL1</td>\n",
       "      <td>640665</td>\n",
       "      <td>1970-01-01 00:00:00.020210301</td>\n",
       "      <td>577.00</td>\n",
       "      <td>1.386294</td>\n",
       "      <td>12.576069</td>\n",
       "      <td>8.880757</td>\n",
       "      <td>2.302585</td>\n",
       "      <td>0</td>\n",
       "      <td>0</td>\n",
       "      <td>0</td>\n",
       "      <td>1</td>\n",
       "      <td>0</td>\n",
       "      <td>0</td>\n",
       "      <td>0</td>\n",
       "      <td>0</td>\n",
       "      <td>0</td>\n",
       "      <td>0</td>\n",
       "      <td>0</td>\n",
       "      <td>1</td>\n",
       "    </tr>\n",
       "    <tr>\n",
       "      <th>6</th>\n",
       "      <td>E1B47219-42C8-411D-AE46-AD5256DC4757</td>\n",
       "      <td>1970-01-01 00:00:00.020210401</td>\n",
       "      <td>3.522613</td>\n",
       "      <td>30209509.0</td>\n",
       "      <td>30.0</td>\n",
       "      <td>41.0</td>\n",
       "      <td>0.38</td>\n",
       "      <td>1125.0</td>\n",
       "      <td>NBW_L+_A_1125_0.4</td>\n",
       "      <td>611993</td>\n",
       "      <td>1970-01-01 00:00:00.020210701</td>\n",
       "      <td>234.50</td>\n",
       "      <td>-0.967584</td>\n",
       "      <td>10.400419</td>\n",
       "      <td>1.427984</td>\n",
       "      <td>3.713572</td>\n",
       "      <td>0</td>\n",
       "      <td>0</td>\n",
       "      <td>0</td>\n",
       "      <td>1</td>\n",
       "      <td>0</td>\n",
       "      <td>0</td>\n",
       "      <td>0</td>\n",
       "      <td>0</td>\n",
       "      <td>0</td>\n",
       "      <td>0</td>\n",
       "      <td>0</td>\n",
       "      <td>0</td>\n",
       "    </tr>\n",
       "    <tr>\n",
       "      <th>...</th>\n",
       "      <td>...</td>\n",
       "      <td>...</td>\n",
       "      <td>...</td>\n",
       "      <td>...</td>\n",
       "      <td>...</td>\n",
       "      <td>...</td>\n",
       "      <td>...</td>\n",
       "      <td>...</td>\n",
       "      <td>...</td>\n",
       "      <td>...</td>\n",
       "      <td>...</td>\n",
       "      <td>...</td>\n",
       "      <td>...</td>\n",
       "      <td>...</td>\n",
       "      <td>...</td>\n",
       "      <td>...</td>\n",
       "      <td>...</td>\n",
       "      <td>...</td>\n",
       "      <td>...</td>\n",
       "      <td>...</td>\n",
       "      <td>...</td>\n",
       "      <td>...</td>\n",
       "      <td>...</td>\n",
       "      <td>...</td>\n",
       "      <td>...</td>\n",
       "      <td>...</td>\n",
       "      <td>...</td>\n",
       "      <td>...</td>\n",
       "    </tr>\n",
       "    <tr>\n",
       "      <th>181601</th>\n",
       "      <td>9520F0DD-4EA3-4D35-B23A-35908C5E77CA</td>\n",
       "      <td>1970-01-01 00:00:00.020200702</td>\n",
       "      <td>3.739726</td>\n",
       "      <td>30267349.0</td>\n",
       "      <td>84.0</td>\n",
       "      <td>10.0</td>\n",
       "      <td>2.00</td>\n",
       "      <td>1500.0</td>\n",
       "      <td>1S220A100P6FSB</td>\n",
       "      <td>164141591</td>\n",
       "      <td>1970-01-01 00:00:00.020200701</td>\n",
       "      <td>622.81</td>\n",
       "      <td>0.693147</td>\n",
       "      <td>11.447142</td>\n",
       "      <td>1.504963</td>\n",
       "      <td>2.302585</td>\n",
       "      <td>0</td>\n",
       "      <td>0</td>\n",
       "      <td>0</td>\n",
       "      <td>1</td>\n",
       "      <td>0</td>\n",
       "      <td>0</td>\n",
       "      <td>0</td>\n",
       "      <td>0</td>\n",
       "      <td>0</td>\n",
       "      <td>1</td>\n",
       "      <td>0</td>\n",
       "      <td>0</td>\n",
       "    </tr>\n",
       "    <tr>\n",
       "      <th>181602</th>\n",
       "      <td>D85912F7-0002-4EC5-9CFD-AD3803F44D91</td>\n",
       "      <td>1970-01-01 00:00:00.020200702</td>\n",
       "      <td>20.155119</td>\n",
       "      <td>30267349.0</td>\n",
       "      <td>84.0</td>\n",
       "      <td>10.0</td>\n",
       "      <td>2.00</td>\n",
       "      <td>1500.0</td>\n",
       "      <td>1S220A100P6FSA</td>\n",
       "      <td>164141591</td>\n",
       "      <td>1970-01-01 00:00:00.020200701</td>\n",
       "      <td>619.81</td>\n",
       "      <td>0.693147</td>\n",
       "      <td>11.447142</td>\n",
       "      <td>4.088238</td>\n",
       "      <td>2.302585</td>\n",
       "      <td>0</td>\n",
       "      <td>0</td>\n",
       "      <td>0</td>\n",
       "      <td>1</td>\n",
       "      <td>0</td>\n",
       "      <td>0</td>\n",
       "      <td>0</td>\n",
       "      <td>0</td>\n",
       "      <td>0</td>\n",
       "      <td>1</td>\n",
       "      <td>0</td>\n",
       "      <td>0</td>\n",
       "    </tr>\n",
       "    <tr>\n",
       "      <th>181603</th>\n",
       "      <td>E6A94878-F80E-4852-A217-928D6D9C4A28</td>\n",
       "      <td>1970-01-01 00:00:00.020200702</td>\n",
       "      <td>15.742266</td>\n",
       "      <td>30267349.0</td>\n",
       "      <td>84.0</td>\n",
       "      <td>10.0</td>\n",
       "      <td>2.00</td>\n",
       "      <td>1000.0</td>\n",
       "      <td>1S220A100P6FSA</td>\n",
       "      <td>164141591</td>\n",
       "      <td>1970-01-01 00:00:00.020200701</td>\n",
       "      <td>628.52</td>\n",
       "      <td>0.693147</td>\n",
       "      <td>10.000000</td>\n",
       "      <td>3.653948</td>\n",
       "      <td>2.302585</td>\n",
       "      <td>0</td>\n",
       "      <td>0</td>\n",
       "      <td>0</td>\n",
       "      <td>1</td>\n",
       "      <td>0</td>\n",
       "      <td>0</td>\n",
       "      <td>0</td>\n",
       "      <td>0</td>\n",
       "      <td>0</td>\n",
       "      <td>1</td>\n",
       "      <td>0</td>\n",
       "      <td>0</td>\n",
       "    </tr>\n",
       "    <tr>\n",
       "      <th>181604</th>\n",
       "      <td>B40F8127-D4AC-44B6-B200-FED2690EA8EF</td>\n",
       "      <td>1970-01-01 00:00:00.020200702</td>\n",
       "      <td>16.391009</td>\n",
       "      <td>30267349.0</td>\n",
       "      <td>84.0</td>\n",
       "      <td>10.0</td>\n",
       "      <td>2.00</td>\n",
       "      <td>1250.0</td>\n",
       "      <td>1S220A100P6FSA</td>\n",
       "      <td>164141591</td>\n",
       "      <td>1970-01-01 00:00:00.020200701</td>\n",
       "      <td>615.81</td>\n",
       "      <td>0.693147</td>\n",
       "      <td>10.772173</td>\n",
       "      <td>3.723493</td>\n",
       "      <td>2.302585</td>\n",
       "      <td>0</td>\n",
       "      <td>0</td>\n",
       "      <td>0</td>\n",
       "      <td>1</td>\n",
       "      <td>0</td>\n",
       "      <td>0</td>\n",
       "      <td>0</td>\n",
       "      <td>0</td>\n",
       "      <td>0</td>\n",
       "      <td>1</td>\n",
       "      <td>0</td>\n",
       "      <td>0</td>\n",
       "    </tr>\n",
       "    <tr>\n",
       "      <th>181605</th>\n",
       "      <td>3BCD0A7E-A2D9-40B1-8A86-35439AEDDFF3</td>\n",
       "      <td>1970-01-01 00:00:00.020200702</td>\n",
       "      <td>34.426799</td>\n",
       "      <td>30201369.0</td>\n",
       "      <td>25.0</td>\n",
       "      <td>41.0</td>\n",
       "      <td>0.60</td>\n",
       "      <td>1288.0</td>\n",
       "      <td>202006170005.IO.1.1</td>\n",
       "      <td>611993</td>\n",
       "      <td>1970-01-01 00:00:00.020200701</td>\n",
       "      <td>981.00</td>\n",
       "      <td>-0.510826</td>\n",
       "      <td>10.880244</td>\n",
       "      <td>5.104417</td>\n",
       "      <td>3.713572</td>\n",
       "      <td>0</td>\n",
       "      <td>0</td>\n",
       "      <td>1</td>\n",
       "      <td>0</td>\n",
       "      <td>0</td>\n",
       "      <td>0</td>\n",
       "      <td>0</td>\n",
       "      <td>0</td>\n",
       "      <td>0</td>\n",
       "      <td>0</td>\n",
       "      <td>0</td>\n",
       "      <td>1</td>\n",
       "    </tr>\n",
       "  </tbody>\n",
       "</table>\n",
       "<p>81024 rows × 28 columns</p>\n",
       "</div>"
      ],
      "text/plain": [
       "                                          id                     item_date  \\\n",
       "0       EC06F063-9DF0-440C-8764-0B0C05A4F6AE 1970-01-01 00:00:00.020210401   \n",
       "2       E140FF1B-2407-4C02-A0DD-780A093B1158 1970-01-01 00:00:00.020210401   \n",
       "3       F8D507A0-9C62-4EFE-831E-33E1DA53BB50 1970-01-01 00:00:00.020210401   \n",
       "4       4E1C4E78-152B-430A-8094-ADD889C9D0AD 1970-01-01 00:00:00.020210401   \n",
       "6       E1B47219-42C8-411D-AE46-AD5256DC4757 1970-01-01 00:00:00.020210401   \n",
       "...                                      ...                           ...   \n",
       "181601  9520F0DD-4EA3-4D35-B23A-35908C5E77CA 1970-01-01 00:00:00.020200702   \n",
       "181602  D85912F7-0002-4EC5-9CFD-AD3803F44D91 1970-01-01 00:00:00.020200702   \n",
       "181603  E6A94878-F80E-4852-A217-928D6D9C4A28 1970-01-01 00:00:00.020200702   \n",
       "181604  B40F8127-D4AC-44B6-B200-FED2690EA8EF 1970-01-01 00:00:00.020200702   \n",
       "181605  3BCD0A7E-A2D9-40B1-8A86-35439AEDDFF3 1970-01-01 00:00:00.020200702   \n",
       "\n",
       "        quantity_tons    customer  country  application  thickness   width  \\\n",
       "0           54.151139  30156308.0     28.0         10.0       2.00  1500.0   \n",
       "2          171.759354  30153963.0     30.0         28.0       0.38   952.0   \n",
       "3          171.759354  30349574.0     32.0         59.0       2.30  1317.0   \n",
       "4          171.759354  30211560.0     28.0         10.0       4.00  1989.0   \n",
       "6            3.522613  30209509.0     30.0         41.0       0.38  1125.0   \n",
       "...               ...         ...      ...          ...        ...     ...   \n",
       "181601       3.739726  30267349.0     84.0         10.0       2.00  1500.0   \n",
       "181602      20.155119  30267349.0     84.0         10.0       2.00  1500.0   \n",
       "181603      15.742266  30267349.0     84.0         10.0       2.00  1000.0   \n",
       "181604      16.391009  30267349.0     84.0         10.0       2.00  1250.0   \n",
       "181605      34.426799  30201369.0     25.0         41.0       0.60  1288.0   \n",
       "\n",
       "                   material_ref  product_ref                 delivery_date  \\\n",
       "0                   DEQ1 S460MC   1670798778 1970-01-01 00:00:00.020210701   \n",
       "2                      S0380700       628377 1970-01-01 00:00:00.020210101   \n",
       "3       DX51D+ZM310MAO 2.3X1317   1668701718 1970-01-01 00:00:00.020210101   \n",
       "4               2_S275JR+AR-CL1       640665 1970-01-01 00:00:00.020210301   \n",
       "6             NBW_L+_A_1125_0.4       611993 1970-01-01 00:00:00.020210701   \n",
       "...                         ...          ...                           ...   \n",
       "181601           1S220A100P6FSB    164141591 1970-01-01 00:00:00.020200701   \n",
       "181602           1S220A100P6FSA    164141591 1970-01-01 00:00:00.020200701   \n",
       "181603           1S220A100P6FSA    164141591 1970-01-01 00:00:00.020200701   \n",
       "181604           1S220A100P6FSA    164141591 1970-01-01 00:00:00.020200701   \n",
       "181605      202006170005.IO.1.1       611993 1970-01-01 00:00:00.020200701   \n",
       "\n",
       "        selling_price  thickness_log  width_log  quantity_tons_log  \\\n",
       "0              854.00       0.693147  11.447142           6.051334   \n",
       "2              644.33      -0.967584   9.837369           8.880757   \n",
       "3              768.00       0.832909  10.961296           8.880757   \n",
       "4              577.00       1.386294  12.576069           8.880757   \n",
       "6              234.50      -0.967584  10.400419           1.427984   \n",
       "...               ...            ...        ...                ...   \n",
       "181601         622.81       0.693147  11.447142           1.504963   \n",
       "181602         619.81       0.693147  11.447142           4.088238   \n",
       "181603         628.52       0.693147  10.000000           3.653948   \n",
       "181604         615.81       0.693147  10.772173           3.723493   \n",
       "181605         981.00      -0.510826  10.880244           5.104417   \n",
       "\n",
       "        application_log  item type_Others  item type_PL  item type_S  \\\n",
       "0              2.302585                 0             0            0   \n",
       "2              3.332205                 0             0            0   \n",
       "3              4.077537                 0             0            1   \n",
       "4              2.302585                 0             0            0   \n",
       "6              3.713572                 0             0            0   \n",
       "...                 ...               ...           ...          ...   \n",
       "181601         2.302585                 0             0            0   \n",
       "181602         2.302585                 0             0            0   \n",
       "181603         2.302585                 0             0            0   \n",
       "181604         2.302585                 0             0            0   \n",
       "181605         3.713572                 0             0            1   \n",
       "\n",
       "        item type_W  item type_WI  status_Lost  status_Not lost for AM  \\\n",
       "0                 1             0            0                       0   \n",
       "2                 0             1            0                       0   \n",
       "3                 0             0            0                       0   \n",
       "4                 1             0            0                       0   \n",
       "6                 1             0            0                       0   \n",
       "...             ...           ...          ...                     ...   \n",
       "181601            1             0            0                       0   \n",
       "181602            1             0            0                       0   \n",
       "181603            1             0            0                       0   \n",
       "181604            1             0            0                       0   \n",
       "181605            0             0            0                       0   \n",
       "\n",
       "        status_Offerable  status_Offered  status_Revised  \\\n",
       "0                      0               0               0   \n",
       "2                      0               0               0   \n",
       "3                      0               0               0   \n",
       "4                      0               0               0   \n",
       "6                      0               0               0   \n",
       "...                  ...             ...             ...   \n",
       "181601                 0               0               1   \n",
       "181602                 0               0               1   \n",
       "181603                 0               0               1   \n",
       "181604                 0               0               1   \n",
       "181605                 0               0               0   \n",
       "\n",
       "        status_To be approved  status_Won  \n",
       "0                           0           1  \n",
       "2                           0           1  \n",
       "3                           0           1  \n",
       "4                           0           1  \n",
       "6                           0           0  \n",
       "...                       ...         ...  \n",
       "181601                      0           0  \n",
       "181602                      0           0  \n",
       "181603                      0           0  \n",
       "181604                      0           0  \n",
       "181605                      0           1  \n",
       "\n",
       "[81024 rows x 28 columns]"
      ]
     },
     "execution_count": 101,
     "metadata": {},
     "output_type": "execute_result"
    }
   ],
   "source": [
    "one_hot_encoded"
   ]
  },
  {
   "cell_type": "code",
   "execution_count": 100,
   "id": "2265d8ff",
   "metadata": {},
   "outputs": [],
   "source": [
    "pd.set_option('display.max_columns', 500)"
   ]
  },
  {
   "cell_type": "code",
   "execution_count": 104,
   "id": "56bf28ec",
   "metadata": {},
   "outputs": [
    {
     "name": "stdout",
     "output_type": "stream",
     "text": [
      "Predicted selling price: [640.01840516]\n"
     ]
    }
   ],
   "source": [
    "new_sample = np.array([[1.386294, 12.576069, 8.880757, 4.077537, 0,0,0,1,0,0,0,0,0,0,0,1]])\n",
    "# new_sample_ohe = one_hot_encoded.transform(new_sample[:, [7]]).toarray()\n",
    "# new_sample_be = one_hot_encoded.transform(new_sample[:, [8]]).toarray()\n",
    "# new_sample = np.concatenate((new_sample[:, [0,1,2, 3, 4, 5, 6,]], new_sample_ohe, new_sample_be), axis=1)\n",
    "new_sample1 = scaler.transform(new_sample)\n",
    "new_pred = best_model.predict(new_sample1)\n",
    "print('Predicted selling price:', (new_pred))"
   ]
  },
  {
   "cell_type": "code",
   "execution_count": null,
   "id": "e49685cb",
   "metadata": {},
   "outputs": [],
   "source": []
  },
  {
   "cell_type": "code",
   "execution_count": null,
   "id": "5f5ed938",
   "metadata": {},
   "outputs": [],
   "source": []
  },
  {
   "cell_type": "code",
   "execution_count": null,
   "id": "0ed4c03c",
   "metadata": {},
   "outputs": [],
   "source": []
  },
  {
   "cell_type": "code",
   "execution_count": null,
   "id": "32bc3bae",
   "metadata": {},
   "outputs": [],
   "source": []
  },
  {
   "cell_type": "code",
   "execution_count": null,
   "id": "36e3aee5",
   "metadata": {},
   "outputs": [],
   "source": []
  },
  {
   "cell_type": "code",
   "execution_count": null,
   "id": "d8b94afb",
   "metadata": {},
   "outputs": [],
   "source": []
  },
  {
   "cell_type": "code",
   "execution_count": null,
   "id": "f49d3af5",
   "metadata": {},
   "outputs": [],
   "source": []
  },
  {
   "cell_type": "code",
   "execution_count": null,
   "id": "97b53bf4",
   "metadata": {},
   "outputs": [],
   "source": []
  },
  {
   "cell_type": "code",
   "execution_count": null,
   "id": "98a217b4",
   "metadata": {},
   "outputs": [],
   "source": []
  },
  {
   "cell_type": "code",
   "execution_count": null,
   "id": "48d6cce5",
   "metadata": {},
   "outputs": [],
   "source": []
  }
 ],
 "metadata": {
  "kernelspec": {
   "display_name": "Python 3 (ipykernel)",
   "language": "python",
   "name": "python3"
  },
  "language_info": {
   "codemirror_mode": {
    "name": "ipython",
    "version": 3
   },
   "file_extension": ".py",
   "mimetype": "text/x-python",
   "name": "python",
   "nbconvert_exporter": "python",
   "pygments_lexer": "ipython3",
   "version": "3.11.2"
  }
 },
 "nbformat": 4,
 "nbformat_minor": 5
}
