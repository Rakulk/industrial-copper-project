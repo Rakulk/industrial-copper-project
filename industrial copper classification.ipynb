{
 "cells": [
  {
   "cell_type": "code",
   "execution_count": null,
   "id": "5aa06eca",
   "metadata": {},
   "outputs": [],
   "source": [
    "!pip install scikit-learn\n"
   ]
  },
  {
   "cell_type": "code",
   "execution_count": 1,
   "id": "fb1af2a0",
   "metadata": {},
   "outputs": [],
   "source": [
    "import warnings\n",
    "warnings.filterwarnings(\"ignore\")\n",
    "import pandas as pd\n",
    "import numpy as np\n",
    "import seaborn as sns\n",
    "from matplotlib import pyplot as plt\n",
    "from scipy import stats\n",
    "from sklearn.preprocessing import StandardScaler,OneHotEncoder,LabelBinarizer\n",
    "from sklearn.model_selection import train_test_split\n",
    "from sklearn.ensemble import ExtraTreesRegressor\n",
    "from sklearn.ensemble import ExtraTreesClassifier\n",
    "from sklearn.metrics import r2_score, mean_absolute_error,mean_squared_error\n",
    "from sklearn.metrics import accuracy_score, confusion_matrix,classification_report, roc_curve, auc\n",
    "from sklearn.model_selection import cross_val_score, GridSearchCV"
   ]
  },
  {
   "cell_type": "code",
   "execution_count": 2,
   "id": "498fe3c8",
   "metadata": {},
   "outputs": [
    {
     "data": {
      "text/html": [
       "<div>\n",
       "<style scoped>\n",
       "    .dataframe tbody tr th:only-of-type {\n",
       "        vertical-align: middle;\n",
       "    }\n",
       "\n",
       "    .dataframe tbody tr th {\n",
       "        vertical-align: top;\n",
       "    }\n",
       "\n",
       "    .dataframe thead th {\n",
       "        text-align: right;\n",
       "    }\n",
       "</style>\n",
       "<table border=\"1\" class=\"dataframe\">\n",
       "  <thead>\n",
       "    <tr style=\"text-align: right;\">\n",
       "      <th></th>\n",
       "      <th>id</th>\n",
       "      <th>item_date</th>\n",
       "      <th>quantity tons</th>\n",
       "      <th>customer</th>\n",
       "      <th>country</th>\n",
       "      <th>status</th>\n",
       "      <th>item type</th>\n",
       "      <th>application</th>\n",
       "      <th>thickness</th>\n",
       "      <th>width</th>\n",
       "      <th>material_ref</th>\n",
       "      <th>product_ref</th>\n",
       "      <th>delivery date</th>\n",
       "      <th>selling_price</th>\n",
       "    </tr>\n",
       "  </thead>\n",
       "  <tbody>\n",
       "    <tr>\n",
       "      <th>0</th>\n",
       "      <td>EC06F063-9DF0-440C-8764-0B0C05A4F6AE</td>\n",
       "      <td>20210401.0</td>\n",
       "      <td>54.151139</td>\n",
       "      <td>30156308.0</td>\n",
       "      <td>28.0</td>\n",
       "      <td>Won</td>\n",
       "      <td>W</td>\n",
       "      <td>10.0</td>\n",
       "      <td>2.00</td>\n",
       "      <td>1500.0</td>\n",
       "      <td>DEQ1 S460MC</td>\n",
       "      <td>1670798778</td>\n",
       "      <td>20210701.0</td>\n",
       "      <td>854.00</td>\n",
       "    </tr>\n",
       "    <tr>\n",
       "      <th>1</th>\n",
       "      <td>4E5F4B3D-DDDF-499D-AFDE-A3227EC49425</td>\n",
       "      <td>20210401.0</td>\n",
       "      <td>768.024839</td>\n",
       "      <td>30202938.0</td>\n",
       "      <td>25.0</td>\n",
       "      <td>Won</td>\n",
       "      <td>W</td>\n",
       "      <td>41.0</td>\n",
       "      <td>0.80</td>\n",
       "      <td>1210.0</td>\n",
       "      <td>0000000000000000000000000000000000104991</td>\n",
       "      <td>1668701718</td>\n",
       "      <td>20210401.0</td>\n",
       "      <td>1047.00</td>\n",
       "    </tr>\n",
       "    <tr>\n",
       "      <th>2</th>\n",
       "      <td>E140FF1B-2407-4C02-A0DD-780A093B1158</td>\n",
       "      <td>20210401.0</td>\n",
       "      <td>386.127949</td>\n",
       "      <td>30153963.0</td>\n",
       "      <td>30.0</td>\n",
       "      <td>Won</td>\n",
       "      <td>WI</td>\n",
       "      <td>28.0</td>\n",
       "      <td>0.38</td>\n",
       "      <td>952.0</td>\n",
       "      <td>S0380700</td>\n",
       "      <td>628377</td>\n",
       "      <td>20210101.0</td>\n",
       "      <td>644.33</td>\n",
       "    </tr>\n",
       "    <tr>\n",
       "      <th>3</th>\n",
       "      <td>F8D507A0-9C62-4EFE-831E-33E1DA53BB50</td>\n",
       "      <td>20210401.0</td>\n",
       "      <td>202.411065</td>\n",
       "      <td>30349574.0</td>\n",
       "      <td>32.0</td>\n",
       "      <td>Won</td>\n",
       "      <td>S</td>\n",
       "      <td>59.0</td>\n",
       "      <td>2.30</td>\n",
       "      <td>1317.0</td>\n",
       "      <td>DX51D+ZM310MAO 2.3X1317</td>\n",
       "      <td>1668701718</td>\n",
       "      <td>20210101.0</td>\n",
       "      <td>768.00</td>\n",
       "    </tr>\n",
       "    <tr>\n",
       "      <th>4</th>\n",
       "      <td>4E1C4E78-152B-430A-8094-ADD889C9D0AD</td>\n",
       "      <td>20210401.0</td>\n",
       "      <td>785.526262</td>\n",
       "      <td>30211560.0</td>\n",
       "      <td>28.0</td>\n",
       "      <td>Won</td>\n",
       "      <td>W</td>\n",
       "      <td>10.0</td>\n",
       "      <td>4.00</td>\n",
       "      <td>2000.0</td>\n",
       "      <td>2_S275JR+AR-CL1</td>\n",
       "      <td>640665</td>\n",
       "      <td>20210301.0</td>\n",
       "      <td>577.00</td>\n",
       "    </tr>\n",
       "    <tr>\n",
       "      <th>...</th>\n",
       "      <td>...</td>\n",
       "      <td>...</td>\n",
       "      <td>...</td>\n",
       "      <td>...</td>\n",
       "      <td>...</td>\n",
       "      <td>...</td>\n",
       "      <td>...</td>\n",
       "      <td>...</td>\n",
       "      <td>...</td>\n",
       "      <td>...</td>\n",
       "      <td>...</td>\n",
       "      <td>...</td>\n",
       "      <td>...</td>\n",
       "      <td>...</td>\n",
       "    </tr>\n",
       "    <tr>\n",
       "      <th>181668</th>\n",
       "      <td>DE633116-D1DF-4846-982E-55EFC3658A76</td>\n",
       "      <td>20200702.0</td>\n",
       "      <td>102.4824216</td>\n",
       "      <td>30200854.0</td>\n",
       "      <td>25.0</td>\n",
       "      <td>Won</td>\n",
       "      <td>W</td>\n",
       "      <td>41.0</td>\n",
       "      <td>0.96</td>\n",
       "      <td>1220.0</td>\n",
       "      <td>0000000000000000000000000000000001000777</td>\n",
       "      <td>164141591</td>\n",
       "      <td>20200701.0</td>\n",
       "      <td>591.00</td>\n",
       "    </tr>\n",
       "    <tr>\n",
       "      <th>181669</th>\n",
       "      <td>A48374B1-E6DB-45F2-889A-1F9C27C099EB</td>\n",
       "      <td>20200702.0</td>\n",
       "      <td>208.0864686</td>\n",
       "      <td>30200854.0</td>\n",
       "      <td>25.0</td>\n",
       "      <td>Won</td>\n",
       "      <td>W</td>\n",
       "      <td>41.0</td>\n",
       "      <td>0.95</td>\n",
       "      <td>1500.0</td>\n",
       "      <td>0000000000000000000000000000000001000227</td>\n",
       "      <td>164141591</td>\n",
       "      <td>20200701.0</td>\n",
       "      <td>589.00</td>\n",
       "    </tr>\n",
       "    <tr>\n",
       "      <th>181670</th>\n",
       "      <td>91643238-5C7B-4237-9A5F-63AE3D35F320</td>\n",
       "      <td>20200702.0</td>\n",
       "      <td>4.235593568</td>\n",
       "      <td>30200854.0</td>\n",
       "      <td>25.0</td>\n",
       "      <td>Won</td>\n",
       "      <td>W</td>\n",
       "      <td>41.0</td>\n",
       "      <td>0.71</td>\n",
       "      <td>1250.0</td>\n",
       "      <td>0000000000000000000000000000000001004216</td>\n",
       "      <td>164141591</td>\n",
       "      <td>20200701.0</td>\n",
       "      <td>619.00</td>\n",
       "    </tr>\n",
       "    <tr>\n",
       "      <th>181671</th>\n",
       "      <td>7AFFD323-01D9-4E15-B80D-7D1B03498FC8</td>\n",
       "      <td>20200702.0</td>\n",
       "      <td>-2000</td>\n",
       "      <td>30200854.0</td>\n",
       "      <td>25.0</td>\n",
       "      <td>Won</td>\n",
       "      <td>W</td>\n",
       "      <td>41.0</td>\n",
       "      <td>0.85</td>\n",
       "      <td>1250.0</td>\n",
       "      <td>0000000000000000000000000000000001001149</td>\n",
       "      <td>164141591</td>\n",
       "      <td>20200701.0</td>\n",
       "      <td>601.00</td>\n",
       "    </tr>\n",
       "    <tr>\n",
       "      <th>181672</th>\n",
       "      <td>AD0CA853-AE3C-4B2F-9FBB-8B0B965F84BC</td>\n",
       "      <td>20200702.0</td>\n",
       "      <td>406.6865384</td>\n",
       "      <td>30200854.0</td>\n",
       "      <td>25.0</td>\n",
       "      <td>Won</td>\n",
       "      <td>W</td>\n",
       "      <td>41.0</td>\n",
       "      <td>0.71</td>\n",
       "      <td>1240.0</td>\n",
       "      <td>0000000000000000000000000000000001005439</td>\n",
       "      <td>164141591</td>\n",
       "      <td>20200701.0</td>\n",
       "      <td>607.00</td>\n",
       "    </tr>\n",
       "  </tbody>\n",
       "</table>\n",
       "<p>181673 rows × 14 columns</p>\n",
       "</div>"
      ],
      "text/plain": [
       "                                          id   item_date quantity tons  \\\n",
       "0       EC06F063-9DF0-440C-8764-0B0C05A4F6AE  20210401.0     54.151139   \n",
       "1       4E5F4B3D-DDDF-499D-AFDE-A3227EC49425  20210401.0    768.024839   \n",
       "2       E140FF1B-2407-4C02-A0DD-780A093B1158  20210401.0    386.127949   \n",
       "3       F8D507A0-9C62-4EFE-831E-33E1DA53BB50  20210401.0    202.411065   \n",
       "4       4E1C4E78-152B-430A-8094-ADD889C9D0AD  20210401.0    785.526262   \n",
       "...                                      ...         ...           ...   \n",
       "181668  DE633116-D1DF-4846-982E-55EFC3658A76  20200702.0   102.4824216   \n",
       "181669  A48374B1-E6DB-45F2-889A-1F9C27C099EB  20200702.0   208.0864686   \n",
       "181670  91643238-5C7B-4237-9A5F-63AE3D35F320  20200702.0   4.235593568   \n",
       "181671  7AFFD323-01D9-4E15-B80D-7D1B03498FC8  20200702.0         -2000   \n",
       "181672  AD0CA853-AE3C-4B2F-9FBB-8B0B965F84BC  20200702.0   406.6865384   \n",
       "\n",
       "          customer  country status item type  application  thickness   width  \\\n",
       "0       30156308.0     28.0    Won         W         10.0       2.00  1500.0   \n",
       "1       30202938.0     25.0    Won         W         41.0       0.80  1210.0   \n",
       "2       30153963.0     30.0    Won        WI         28.0       0.38   952.0   \n",
       "3       30349574.0     32.0    Won         S         59.0       2.30  1317.0   \n",
       "4       30211560.0     28.0    Won         W         10.0       4.00  2000.0   \n",
       "...            ...      ...    ...       ...          ...        ...     ...   \n",
       "181668  30200854.0     25.0    Won         W         41.0       0.96  1220.0   \n",
       "181669  30200854.0     25.0    Won         W         41.0       0.95  1500.0   \n",
       "181670  30200854.0     25.0    Won         W         41.0       0.71  1250.0   \n",
       "181671  30200854.0     25.0    Won         W         41.0       0.85  1250.0   \n",
       "181672  30200854.0     25.0    Won         W         41.0       0.71  1240.0   \n",
       "\n",
       "                                    material_ref  product_ref  delivery date  \\\n",
       "0                                    DEQ1 S460MC   1670798778     20210701.0   \n",
       "1       0000000000000000000000000000000000104991   1668701718     20210401.0   \n",
       "2                                       S0380700       628377     20210101.0   \n",
       "3                        DX51D+ZM310MAO 2.3X1317   1668701718     20210101.0   \n",
       "4                                2_S275JR+AR-CL1       640665     20210301.0   \n",
       "...                                          ...          ...            ...   \n",
       "181668  0000000000000000000000000000000001000777    164141591     20200701.0   \n",
       "181669  0000000000000000000000000000000001000227    164141591     20200701.0   \n",
       "181670  0000000000000000000000000000000001004216    164141591     20200701.0   \n",
       "181671  0000000000000000000000000000000001001149    164141591     20200701.0   \n",
       "181672  0000000000000000000000000000000001005439    164141591     20200701.0   \n",
       "\n",
       "        selling_price  \n",
       "0              854.00  \n",
       "1             1047.00  \n",
       "2              644.33  \n",
       "3              768.00  \n",
       "4              577.00  \n",
       "...               ...  \n",
       "181668         591.00  \n",
       "181669         589.00  \n",
       "181670         619.00  \n",
       "181671         601.00  \n",
       "181672         607.00  \n",
       "\n",
       "[181673 rows x 14 columns]"
      ]
     },
     "execution_count": 2,
     "metadata": {},
     "output_type": "execute_result"
    }
   ],
   "source": [
    "dataset=pd.read_csv('Copper_Set.xlsx - Result 1.csv')\n",
    "dataset"
   ]
  },
  {
   "cell_type": "code",
   "execution_count": 3,
   "id": "abf143b2",
   "metadata": {},
   "outputs": [
    {
     "data": {
      "text/html": [
       "<div>\n",
       "<style scoped>\n",
       "    .dataframe tbody tr th:only-of-type {\n",
       "        vertical-align: middle;\n",
       "    }\n",
       "\n",
       "    .dataframe tbody tr th {\n",
       "        vertical-align: top;\n",
       "    }\n",
       "\n",
       "    .dataframe thead th {\n",
       "        text-align: right;\n",
       "    }\n",
       "</style>\n",
       "<table border=\"1\" class=\"dataframe\">\n",
       "  <thead>\n",
       "    <tr style=\"text-align: right;\">\n",
       "      <th></th>\n",
       "      <th>id</th>\n",
       "      <th>item_date</th>\n",
       "      <th>quantity tons</th>\n",
       "      <th>customer</th>\n",
       "      <th>country</th>\n",
       "      <th>status</th>\n",
       "      <th>item type</th>\n",
       "      <th>application</th>\n",
       "      <th>thickness</th>\n",
       "      <th>width</th>\n",
       "      <th>material_ref</th>\n",
       "      <th>product_ref</th>\n",
       "      <th>delivery date</th>\n",
       "      <th>selling_price</th>\n",
       "    </tr>\n",
       "  </thead>\n",
       "  <tbody>\n",
       "    <tr>\n",
       "      <th>0</th>\n",
       "      <td>EC06F063-9DF0-440C-8764-0B0C05A4F6AE</td>\n",
       "      <td>20210401.0</td>\n",
       "      <td>54.151139</td>\n",
       "      <td>30156308.0</td>\n",
       "      <td>28.0</td>\n",
       "      <td>Won</td>\n",
       "      <td>W</td>\n",
       "      <td>10.0</td>\n",
       "      <td>2.00</td>\n",
       "      <td>1500.0</td>\n",
       "      <td>DEQ1 S460MC</td>\n",
       "      <td>1670798778</td>\n",
       "      <td>20210701.0</td>\n",
       "      <td>854.00</td>\n",
       "    </tr>\n",
       "    <tr>\n",
       "      <th>1</th>\n",
       "      <td>4E5F4B3D-DDDF-499D-AFDE-A3227EC49425</td>\n",
       "      <td>20210401.0</td>\n",
       "      <td>768.024839</td>\n",
       "      <td>30202938.0</td>\n",
       "      <td>25.0</td>\n",
       "      <td>Won</td>\n",
       "      <td>W</td>\n",
       "      <td>41.0</td>\n",
       "      <td>0.80</td>\n",
       "      <td>1210.0</td>\n",
       "      <td>0000000000000000000000000000000000104991</td>\n",
       "      <td>1668701718</td>\n",
       "      <td>20210401.0</td>\n",
       "      <td>1047.00</td>\n",
       "    </tr>\n",
       "    <tr>\n",
       "      <th>2</th>\n",
       "      <td>E140FF1B-2407-4C02-A0DD-780A093B1158</td>\n",
       "      <td>20210401.0</td>\n",
       "      <td>386.127949</td>\n",
       "      <td>30153963.0</td>\n",
       "      <td>30.0</td>\n",
       "      <td>Won</td>\n",
       "      <td>WI</td>\n",
       "      <td>28.0</td>\n",
       "      <td>0.38</td>\n",
       "      <td>952.0</td>\n",
       "      <td>S0380700</td>\n",
       "      <td>628377</td>\n",
       "      <td>20210101.0</td>\n",
       "      <td>644.33</td>\n",
       "    </tr>\n",
       "    <tr>\n",
       "      <th>3</th>\n",
       "      <td>F8D507A0-9C62-4EFE-831E-33E1DA53BB50</td>\n",
       "      <td>20210401.0</td>\n",
       "      <td>202.411065</td>\n",
       "      <td>30349574.0</td>\n",
       "      <td>32.0</td>\n",
       "      <td>Won</td>\n",
       "      <td>S</td>\n",
       "      <td>59.0</td>\n",
       "      <td>2.30</td>\n",
       "      <td>1317.0</td>\n",
       "      <td>DX51D+ZM310MAO 2.3X1317</td>\n",
       "      <td>1668701718</td>\n",
       "      <td>20210101.0</td>\n",
       "      <td>768.00</td>\n",
       "    </tr>\n",
       "    <tr>\n",
       "      <th>4</th>\n",
       "      <td>4E1C4E78-152B-430A-8094-ADD889C9D0AD</td>\n",
       "      <td>20210401.0</td>\n",
       "      <td>785.526262</td>\n",
       "      <td>30211560.0</td>\n",
       "      <td>28.0</td>\n",
       "      <td>Won</td>\n",
       "      <td>W</td>\n",
       "      <td>10.0</td>\n",
       "      <td>4.00</td>\n",
       "      <td>2000.0</td>\n",
       "      <td>2_S275JR+AR-CL1</td>\n",
       "      <td>640665</td>\n",
       "      <td>20210301.0</td>\n",
       "      <td>577.00</td>\n",
       "    </tr>\n",
       "    <tr>\n",
       "      <th>...</th>\n",
       "      <td>...</td>\n",
       "      <td>...</td>\n",
       "      <td>...</td>\n",
       "      <td>...</td>\n",
       "      <td>...</td>\n",
       "      <td>...</td>\n",
       "      <td>...</td>\n",
       "      <td>...</td>\n",
       "      <td>...</td>\n",
       "      <td>...</td>\n",
       "      <td>...</td>\n",
       "      <td>...</td>\n",
       "      <td>...</td>\n",
       "      <td>...</td>\n",
       "    </tr>\n",
       "    <tr>\n",
       "      <th>181668</th>\n",
       "      <td>DE633116-D1DF-4846-982E-55EFC3658A76</td>\n",
       "      <td>20200702.0</td>\n",
       "      <td>102.4824216</td>\n",
       "      <td>30200854.0</td>\n",
       "      <td>25.0</td>\n",
       "      <td>Won</td>\n",
       "      <td>W</td>\n",
       "      <td>41.0</td>\n",
       "      <td>0.96</td>\n",
       "      <td>1220.0</td>\n",
       "      <td>0000000000000000000000000000000001000777</td>\n",
       "      <td>164141591</td>\n",
       "      <td>20200701.0</td>\n",
       "      <td>591.00</td>\n",
       "    </tr>\n",
       "    <tr>\n",
       "      <th>181669</th>\n",
       "      <td>A48374B1-E6DB-45F2-889A-1F9C27C099EB</td>\n",
       "      <td>20200702.0</td>\n",
       "      <td>208.0864686</td>\n",
       "      <td>30200854.0</td>\n",
       "      <td>25.0</td>\n",
       "      <td>Won</td>\n",
       "      <td>W</td>\n",
       "      <td>41.0</td>\n",
       "      <td>0.95</td>\n",
       "      <td>1500.0</td>\n",
       "      <td>0000000000000000000000000000000001000227</td>\n",
       "      <td>164141591</td>\n",
       "      <td>20200701.0</td>\n",
       "      <td>589.00</td>\n",
       "    </tr>\n",
       "    <tr>\n",
       "      <th>181670</th>\n",
       "      <td>91643238-5C7B-4237-9A5F-63AE3D35F320</td>\n",
       "      <td>20200702.0</td>\n",
       "      <td>4.235593568</td>\n",
       "      <td>30200854.0</td>\n",
       "      <td>25.0</td>\n",
       "      <td>Won</td>\n",
       "      <td>W</td>\n",
       "      <td>41.0</td>\n",
       "      <td>0.71</td>\n",
       "      <td>1250.0</td>\n",
       "      <td>0000000000000000000000000000000001004216</td>\n",
       "      <td>164141591</td>\n",
       "      <td>20200701.0</td>\n",
       "      <td>619.00</td>\n",
       "    </tr>\n",
       "    <tr>\n",
       "      <th>181671</th>\n",
       "      <td>7AFFD323-01D9-4E15-B80D-7D1B03498FC8</td>\n",
       "      <td>20200702.0</td>\n",
       "      <td>-2000</td>\n",
       "      <td>30200854.0</td>\n",
       "      <td>25.0</td>\n",
       "      <td>Won</td>\n",
       "      <td>W</td>\n",
       "      <td>41.0</td>\n",
       "      <td>0.85</td>\n",
       "      <td>1250.0</td>\n",
       "      <td>0000000000000000000000000000000001001149</td>\n",
       "      <td>164141591</td>\n",
       "      <td>20200701.0</td>\n",
       "      <td>601.00</td>\n",
       "    </tr>\n",
       "    <tr>\n",
       "      <th>181672</th>\n",
       "      <td>AD0CA853-AE3C-4B2F-9FBB-8B0B965F84BC</td>\n",
       "      <td>20200702.0</td>\n",
       "      <td>406.6865384</td>\n",
       "      <td>30200854.0</td>\n",
       "      <td>25.0</td>\n",
       "      <td>Won</td>\n",
       "      <td>W</td>\n",
       "      <td>41.0</td>\n",
       "      <td>0.71</td>\n",
       "      <td>1240.0</td>\n",
       "      <td>0000000000000000000000000000000001005439</td>\n",
       "      <td>164141591</td>\n",
       "      <td>20200701.0</td>\n",
       "      <td>607.00</td>\n",
       "    </tr>\n",
       "  </tbody>\n",
       "</table>\n",
       "<p>181673 rows × 14 columns</p>\n",
       "</div>"
      ],
      "text/plain": [
       "                                          id   item_date quantity tons  \\\n",
       "0       EC06F063-9DF0-440C-8764-0B0C05A4F6AE  20210401.0     54.151139   \n",
       "1       4E5F4B3D-DDDF-499D-AFDE-A3227EC49425  20210401.0    768.024839   \n",
       "2       E140FF1B-2407-4C02-A0DD-780A093B1158  20210401.0    386.127949   \n",
       "3       F8D507A0-9C62-4EFE-831E-33E1DA53BB50  20210401.0    202.411065   \n",
       "4       4E1C4E78-152B-430A-8094-ADD889C9D0AD  20210401.0    785.526262   \n",
       "...                                      ...         ...           ...   \n",
       "181668  DE633116-D1DF-4846-982E-55EFC3658A76  20200702.0   102.4824216   \n",
       "181669  A48374B1-E6DB-45F2-889A-1F9C27C099EB  20200702.0   208.0864686   \n",
       "181670  91643238-5C7B-4237-9A5F-63AE3D35F320  20200702.0   4.235593568   \n",
       "181671  7AFFD323-01D9-4E15-B80D-7D1B03498FC8  20200702.0         -2000   \n",
       "181672  AD0CA853-AE3C-4B2F-9FBB-8B0B965F84BC  20200702.0   406.6865384   \n",
       "\n",
       "          customer  country status item type  application  thickness   width  \\\n",
       "0       30156308.0     28.0    Won         W         10.0       2.00  1500.0   \n",
       "1       30202938.0     25.0    Won         W         41.0       0.80  1210.0   \n",
       "2       30153963.0     30.0    Won        WI         28.0       0.38   952.0   \n",
       "3       30349574.0     32.0    Won         S         59.0       2.30  1317.0   \n",
       "4       30211560.0     28.0    Won         W         10.0       4.00  2000.0   \n",
       "...            ...      ...    ...       ...          ...        ...     ...   \n",
       "181668  30200854.0     25.0    Won         W         41.0       0.96  1220.0   \n",
       "181669  30200854.0     25.0    Won         W         41.0       0.95  1500.0   \n",
       "181670  30200854.0     25.0    Won         W         41.0       0.71  1250.0   \n",
       "181671  30200854.0     25.0    Won         W         41.0       0.85  1250.0   \n",
       "181672  30200854.0     25.0    Won         W         41.0       0.71  1240.0   \n",
       "\n",
       "                                    material_ref  product_ref  delivery date  \\\n",
       "0                                    DEQ1 S460MC   1670798778     20210701.0   \n",
       "1       0000000000000000000000000000000000104991   1668701718     20210401.0   \n",
       "2                                       S0380700       628377     20210101.0   \n",
       "3                        DX51D+ZM310MAO 2.3X1317   1668701718     20210101.0   \n",
       "4                                2_S275JR+AR-CL1       640665     20210301.0   \n",
       "...                                          ...          ...            ...   \n",
       "181668  0000000000000000000000000000000001000777    164141591     20200701.0   \n",
       "181669  0000000000000000000000000000000001000227    164141591     20200701.0   \n",
       "181670  0000000000000000000000000000000001004216    164141591     20200701.0   \n",
       "181671  0000000000000000000000000000000001001149    164141591     20200701.0   \n",
       "181672  0000000000000000000000000000000001005439    164141591     20200701.0   \n",
       "\n",
       "        selling_price  \n",
       "0              854.00  \n",
       "1             1047.00  \n",
       "2              644.33  \n",
       "3              768.00  \n",
       "4              577.00  \n",
       "...               ...  \n",
       "181668         591.00  \n",
       "181669         589.00  \n",
       "181670         619.00  \n",
       "181671         601.00  \n",
       "181672         607.00  \n",
       "\n",
       "[181673 rows x 14 columns]"
      ]
     },
     "execution_count": 3,
     "metadata": {},
     "output_type": "execute_result"
    }
   ],
   "source": [
    "datas=dataset.copy()\n",
    "datas"
   ]
  },
  {
   "cell_type": "code",
   "execution_count": 4,
   "id": "61d440f1",
   "metadata": {},
   "outputs": [],
   "source": [
    "material_null=datas['material_ref'].str.startswith(\"000000\")\n",
    "replace_null=(material_null==True)\n",
    "datas['material_ref'][replace_null]=np.NaN"
   ]
  },
  {
   "cell_type": "code",
   "execution_count": 5,
   "id": "be3cd86c",
   "metadata": {},
   "outputs": [
    {
     "data": {
      "text/html": [
       "<div>\n",
       "<style scoped>\n",
       "    .dataframe tbody tr th:only-of-type {\n",
       "        vertical-align: middle;\n",
       "    }\n",
       "\n",
       "    .dataframe tbody tr th {\n",
       "        vertical-align: top;\n",
       "    }\n",
       "\n",
       "    .dataframe thead th {\n",
       "        text-align: right;\n",
       "    }\n",
       "</style>\n",
       "<table border=\"1\" class=\"dataframe\">\n",
       "  <thead>\n",
       "    <tr style=\"text-align: right;\">\n",
       "      <th></th>\n",
       "      <th>id</th>\n",
       "      <th>item_date</th>\n",
       "      <th>quantity tons</th>\n",
       "      <th>customer</th>\n",
       "      <th>country</th>\n",
       "      <th>status</th>\n",
       "      <th>item type</th>\n",
       "      <th>application</th>\n",
       "      <th>thickness</th>\n",
       "      <th>width</th>\n",
       "      <th>material_ref</th>\n",
       "      <th>product_ref</th>\n",
       "      <th>delivery date</th>\n",
       "      <th>selling_price</th>\n",
       "    </tr>\n",
       "  </thead>\n",
       "  <tbody>\n",
       "    <tr>\n",
       "      <th>0</th>\n",
       "      <td>EC06F063-9DF0-440C-8764-0B0C05A4F6AE</td>\n",
       "      <td>20210401.0</td>\n",
       "      <td>54.151139</td>\n",
       "      <td>30156308.0</td>\n",
       "      <td>28.0</td>\n",
       "      <td>Won</td>\n",
       "      <td>W</td>\n",
       "      <td>10.0</td>\n",
       "      <td>2.00</td>\n",
       "      <td>1500.0</td>\n",
       "      <td>DEQ1 S460MC</td>\n",
       "      <td>1670798778</td>\n",
       "      <td>20210701.0</td>\n",
       "      <td>854.00</td>\n",
       "    </tr>\n",
       "    <tr>\n",
       "      <th>1</th>\n",
       "      <td>4E5F4B3D-DDDF-499D-AFDE-A3227EC49425</td>\n",
       "      <td>20210401.0</td>\n",
       "      <td>768.024839</td>\n",
       "      <td>30202938.0</td>\n",
       "      <td>25.0</td>\n",
       "      <td>Won</td>\n",
       "      <td>W</td>\n",
       "      <td>41.0</td>\n",
       "      <td>0.80</td>\n",
       "      <td>1210.0</td>\n",
       "      <td>NaN</td>\n",
       "      <td>1668701718</td>\n",
       "      <td>20210401.0</td>\n",
       "      <td>1047.00</td>\n",
       "    </tr>\n",
       "    <tr>\n",
       "      <th>2</th>\n",
       "      <td>E140FF1B-2407-4C02-A0DD-780A093B1158</td>\n",
       "      <td>20210401.0</td>\n",
       "      <td>386.127949</td>\n",
       "      <td>30153963.0</td>\n",
       "      <td>30.0</td>\n",
       "      <td>Won</td>\n",
       "      <td>WI</td>\n",
       "      <td>28.0</td>\n",
       "      <td>0.38</td>\n",
       "      <td>952.0</td>\n",
       "      <td>S0380700</td>\n",
       "      <td>628377</td>\n",
       "      <td>20210101.0</td>\n",
       "      <td>644.33</td>\n",
       "    </tr>\n",
       "    <tr>\n",
       "      <th>3</th>\n",
       "      <td>F8D507A0-9C62-4EFE-831E-33E1DA53BB50</td>\n",
       "      <td>20210401.0</td>\n",
       "      <td>202.411065</td>\n",
       "      <td>30349574.0</td>\n",
       "      <td>32.0</td>\n",
       "      <td>Won</td>\n",
       "      <td>S</td>\n",
       "      <td>59.0</td>\n",
       "      <td>2.30</td>\n",
       "      <td>1317.0</td>\n",
       "      <td>DX51D+ZM310MAO 2.3X1317</td>\n",
       "      <td>1668701718</td>\n",
       "      <td>20210101.0</td>\n",
       "      <td>768.00</td>\n",
       "    </tr>\n",
       "    <tr>\n",
       "      <th>4</th>\n",
       "      <td>4E1C4E78-152B-430A-8094-ADD889C9D0AD</td>\n",
       "      <td>20210401.0</td>\n",
       "      <td>785.526262</td>\n",
       "      <td>30211560.0</td>\n",
       "      <td>28.0</td>\n",
       "      <td>Won</td>\n",
       "      <td>W</td>\n",
       "      <td>10.0</td>\n",
       "      <td>4.00</td>\n",
       "      <td>2000.0</td>\n",
       "      <td>2_S275JR+AR-CL1</td>\n",
       "      <td>640665</td>\n",
       "      <td>20210301.0</td>\n",
       "      <td>577.00</td>\n",
       "    </tr>\n",
       "    <tr>\n",
       "      <th>...</th>\n",
       "      <td>...</td>\n",
       "      <td>...</td>\n",
       "      <td>...</td>\n",
       "      <td>...</td>\n",
       "      <td>...</td>\n",
       "      <td>...</td>\n",
       "      <td>...</td>\n",
       "      <td>...</td>\n",
       "      <td>...</td>\n",
       "      <td>...</td>\n",
       "      <td>...</td>\n",
       "      <td>...</td>\n",
       "      <td>...</td>\n",
       "      <td>...</td>\n",
       "    </tr>\n",
       "    <tr>\n",
       "      <th>181668</th>\n",
       "      <td>DE633116-D1DF-4846-982E-55EFC3658A76</td>\n",
       "      <td>20200702.0</td>\n",
       "      <td>102.4824216</td>\n",
       "      <td>30200854.0</td>\n",
       "      <td>25.0</td>\n",
       "      <td>Won</td>\n",
       "      <td>W</td>\n",
       "      <td>41.0</td>\n",
       "      <td>0.96</td>\n",
       "      <td>1220.0</td>\n",
       "      <td>NaN</td>\n",
       "      <td>164141591</td>\n",
       "      <td>20200701.0</td>\n",
       "      <td>591.00</td>\n",
       "    </tr>\n",
       "    <tr>\n",
       "      <th>181669</th>\n",
       "      <td>A48374B1-E6DB-45F2-889A-1F9C27C099EB</td>\n",
       "      <td>20200702.0</td>\n",
       "      <td>208.0864686</td>\n",
       "      <td>30200854.0</td>\n",
       "      <td>25.0</td>\n",
       "      <td>Won</td>\n",
       "      <td>W</td>\n",
       "      <td>41.0</td>\n",
       "      <td>0.95</td>\n",
       "      <td>1500.0</td>\n",
       "      <td>NaN</td>\n",
       "      <td>164141591</td>\n",
       "      <td>20200701.0</td>\n",
       "      <td>589.00</td>\n",
       "    </tr>\n",
       "    <tr>\n",
       "      <th>181670</th>\n",
       "      <td>91643238-5C7B-4237-9A5F-63AE3D35F320</td>\n",
       "      <td>20200702.0</td>\n",
       "      <td>4.235593568</td>\n",
       "      <td>30200854.0</td>\n",
       "      <td>25.0</td>\n",
       "      <td>Won</td>\n",
       "      <td>W</td>\n",
       "      <td>41.0</td>\n",
       "      <td>0.71</td>\n",
       "      <td>1250.0</td>\n",
       "      <td>NaN</td>\n",
       "      <td>164141591</td>\n",
       "      <td>20200701.0</td>\n",
       "      <td>619.00</td>\n",
       "    </tr>\n",
       "    <tr>\n",
       "      <th>181671</th>\n",
       "      <td>7AFFD323-01D9-4E15-B80D-7D1B03498FC8</td>\n",
       "      <td>20200702.0</td>\n",
       "      <td>-2000</td>\n",
       "      <td>30200854.0</td>\n",
       "      <td>25.0</td>\n",
       "      <td>Won</td>\n",
       "      <td>W</td>\n",
       "      <td>41.0</td>\n",
       "      <td>0.85</td>\n",
       "      <td>1250.0</td>\n",
       "      <td>NaN</td>\n",
       "      <td>164141591</td>\n",
       "      <td>20200701.0</td>\n",
       "      <td>601.00</td>\n",
       "    </tr>\n",
       "    <tr>\n",
       "      <th>181672</th>\n",
       "      <td>AD0CA853-AE3C-4B2F-9FBB-8B0B965F84BC</td>\n",
       "      <td>20200702.0</td>\n",
       "      <td>406.6865384</td>\n",
       "      <td>30200854.0</td>\n",
       "      <td>25.0</td>\n",
       "      <td>Won</td>\n",
       "      <td>W</td>\n",
       "      <td>41.0</td>\n",
       "      <td>0.71</td>\n",
       "      <td>1240.0</td>\n",
       "      <td>NaN</td>\n",
       "      <td>164141591</td>\n",
       "      <td>20200701.0</td>\n",
       "      <td>607.00</td>\n",
       "    </tr>\n",
       "  </tbody>\n",
       "</table>\n",
       "<p>181673 rows × 14 columns</p>\n",
       "</div>"
      ],
      "text/plain": [
       "                                          id   item_date quantity tons  \\\n",
       "0       EC06F063-9DF0-440C-8764-0B0C05A4F6AE  20210401.0     54.151139   \n",
       "1       4E5F4B3D-DDDF-499D-AFDE-A3227EC49425  20210401.0    768.024839   \n",
       "2       E140FF1B-2407-4C02-A0DD-780A093B1158  20210401.0    386.127949   \n",
       "3       F8D507A0-9C62-4EFE-831E-33E1DA53BB50  20210401.0    202.411065   \n",
       "4       4E1C4E78-152B-430A-8094-ADD889C9D0AD  20210401.0    785.526262   \n",
       "...                                      ...         ...           ...   \n",
       "181668  DE633116-D1DF-4846-982E-55EFC3658A76  20200702.0   102.4824216   \n",
       "181669  A48374B1-E6DB-45F2-889A-1F9C27C099EB  20200702.0   208.0864686   \n",
       "181670  91643238-5C7B-4237-9A5F-63AE3D35F320  20200702.0   4.235593568   \n",
       "181671  7AFFD323-01D9-4E15-B80D-7D1B03498FC8  20200702.0         -2000   \n",
       "181672  AD0CA853-AE3C-4B2F-9FBB-8B0B965F84BC  20200702.0   406.6865384   \n",
       "\n",
       "          customer  country status item type  application  thickness   width  \\\n",
       "0       30156308.0     28.0    Won         W         10.0       2.00  1500.0   \n",
       "1       30202938.0     25.0    Won         W         41.0       0.80  1210.0   \n",
       "2       30153963.0     30.0    Won        WI         28.0       0.38   952.0   \n",
       "3       30349574.0     32.0    Won         S         59.0       2.30  1317.0   \n",
       "4       30211560.0     28.0    Won         W         10.0       4.00  2000.0   \n",
       "...            ...      ...    ...       ...          ...        ...     ...   \n",
       "181668  30200854.0     25.0    Won         W         41.0       0.96  1220.0   \n",
       "181669  30200854.0     25.0    Won         W         41.0       0.95  1500.0   \n",
       "181670  30200854.0     25.0    Won         W         41.0       0.71  1250.0   \n",
       "181671  30200854.0     25.0    Won         W         41.0       0.85  1250.0   \n",
       "181672  30200854.0     25.0    Won         W         41.0       0.71  1240.0   \n",
       "\n",
       "                   material_ref  product_ref  delivery date  selling_price  \n",
       "0                   DEQ1 S460MC   1670798778     20210701.0         854.00  \n",
       "1                           NaN   1668701718     20210401.0        1047.00  \n",
       "2                      S0380700       628377     20210101.0         644.33  \n",
       "3       DX51D+ZM310MAO 2.3X1317   1668701718     20210101.0         768.00  \n",
       "4               2_S275JR+AR-CL1       640665     20210301.0         577.00  \n",
       "...                         ...          ...            ...            ...  \n",
       "181668                      NaN    164141591     20200701.0         591.00  \n",
       "181669                      NaN    164141591     20200701.0         589.00  \n",
       "181670                      NaN    164141591     20200701.0         619.00  \n",
       "181671                      NaN    164141591     20200701.0         601.00  \n",
       "181672                      NaN    164141591     20200701.0         607.00  \n",
       "\n",
       "[181673 rows x 14 columns]"
      ]
     },
     "execution_count": 5,
     "metadata": {},
     "output_type": "execute_result"
    }
   ],
   "source": [
    "datas"
   ]
  },
  {
   "cell_type": "code",
   "execution_count": 6,
   "id": "9283da3a",
   "metadata": {},
   "outputs": [],
   "source": [
    "# Assuming you have a DataFrame named df\n",
    "datas.rename(columns={'quantity tons': 'quantity_tons','delivery date':'delivery_date'}, inplace=True)\n"
   ]
  },
  {
   "cell_type": "code",
   "execution_count": 7,
   "id": "bbfc8d5d",
   "metadata": {},
   "outputs": [
    {
     "data": {
      "text/html": [
       "<div>\n",
       "<style scoped>\n",
       "    .dataframe tbody tr th:only-of-type {\n",
       "        vertical-align: middle;\n",
       "    }\n",
       "\n",
       "    .dataframe tbody tr th {\n",
       "        vertical-align: top;\n",
       "    }\n",
       "\n",
       "    .dataframe thead th {\n",
       "        text-align: right;\n",
       "    }\n",
       "</style>\n",
       "<table border=\"1\" class=\"dataframe\">\n",
       "  <thead>\n",
       "    <tr style=\"text-align: right;\">\n",
       "      <th></th>\n",
       "      <th>id</th>\n",
       "      <th>item_date</th>\n",
       "      <th>quantity_tons</th>\n",
       "      <th>customer</th>\n",
       "      <th>country</th>\n",
       "      <th>status</th>\n",
       "      <th>item type</th>\n",
       "      <th>application</th>\n",
       "      <th>thickness</th>\n",
       "      <th>width</th>\n",
       "      <th>material_ref</th>\n",
       "      <th>product_ref</th>\n",
       "      <th>delivery_date</th>\n",
       "      <th>selling_price</th>\n",
       "    </tr>\n",
       "  </thead>\n",
       "  <tbody>\n",
       "    <tr>\n",
       "      <th>0</th>\n",
       "      <td>EC06F063-9DF0-440C-8764-0B0C05A4F6AE</td>\n",
       "      <td>20210401.0</td>\n",
       "      <td>54.151139</td>\n",
       "      <td>30156308.0</td>\n",
       "      <td>28.0</td>\n",
       "      <td>Won</td>\n",
       "      <td>W</td>\n",
       "      <td>10.0</td>\n",
       "      <td>2.00</td>\n",
       "      <td>1500.0</td>\n",
       "      <td>DEQ1 S460MC</td>\n",
       "      <td>1670798778</td>\n",
       "      <td>20210701.0</td>\n",
       "      <td>854.00</td>\n",
       "    </tr>\n",
       "    <tr>\n",
       "      <th>1</th>\n",
       "      <td>4E5F4B3D-DDDF-499D-AFDE-A3227EC49425</td>\n",
       "      <td>20210401.0</td>\n",
       "      <td>768.024839</td>\n",
       "      <td>30202938.0</td>\n",
       "      <td>25.0</td>\n",
       "      <td>Won</td>\n",
       "      <td>W</td>\n",
       "      <td>41.0</td>\n",
       "      <td>0.80</td>\n",
       "      <td>1210.0</td>\n",
       "      <td>NaN</td>\n",
       "      <td>1668701718</td>\n",
       "      <td>20210401.0</td>\n",
       "      <td>1047.00</td>\n",
       "    </tr>\n",
       "    <tr>\n",
       "      <th>2</th>\n",
       "      <td>E140FF1B-2407-4C02-A0DD-780A093B1158</td>\n",
       "      <td>20210401.0</td>\n",
       "      <td>386.127949</td>\n",
       "      <td>30153963.0</td>\n",
       "      <td>30.0</td>\n",
       "      <td>Won</td>\n",
       "      <td>WI</td>\n",
       "      <td>28.0</td>\n",
       "      <td>0.38</td>\n",
       "      <td>952.0</td>\n",
       "      <td>S0380700</td>\n",
       "      <td>628377</td>\n",
       "      <td>20210101.0</td>\n",
       "      <td>644.33</td>\n",
       "    </tr>\n",
       "    <tr>\n",
       "      <th>3</th>\n",
       "      <td>F8D507A0-9C62-4EFE-831E-33E1DA53BB50</td>\n",
       "      <td>20210401.0</td>\n",
       "      <td>202.411065</td>\n",
       "      <td>30349574.0</td>\n",
       "      <td>32.0</td>\n",
       "      <td>Won</td>\n",
       "      <td>S</td>\n",
       "      <td>59.0</td>\n",
       "      <td>2.30</td>\n",
       "      <td>1317.0</td>\n",
       "      <td>DX51D+ZM310MAO 2.3X1317</td>\n",
       "      <td>1668701718</td>\n",
       "      <td>20210101.0</td>\n",
       "      <td>768.00</td>\n",
       "    </tr>\n",
       "    <tr>\n",
       "      <th>4</th>\n",
       "      <td>4E1C4E78-152B-430A-8094-ADD889C9D0AD</td>\n",
       "      <td>20210401.0</td>\n",
       "      <td>785.526262</td>\n",
       "      <td>30211560.0</td>\n",
       "      <td>28.0</td>\n",
       "      <td>Won</td>\n",
       "      <td>W</td>\n",
       "      <td>10.0</td>\n",
       "      <td>4.00</td>\n",
       "      <td>2000.0</td>\n",
       "      <td>2_S275JR+AR-CL1</td>\n",
       "      <td>640665</td>\n",
       "      <td>20210301.0</td>\n",
       "      <td>577.00</td>\n",
       "    </tr>\n",
       "    <tr>\n",
       "      <th>...</th>\n",
       "      <td>...</td>\n",
       "      <td>...</td>\n",
       "      <td>...</td>\n",
       "      <td>...</td>\n",
       "      <td>...</td>\n",
       "      <td>...</td>\n",
       "      <td>...</td>\n",
       "      <td>...</td>\n",
       "      <td>...</td>\n",
       "      <td>...</td>\n",
       "      <td>...</td>\n",
       "      <td>...</td>\n",
       "      <td>...</td>\n",
       "      <td>...</td>\n",
       "    </tr>\n",
       "    <tr>\n",
       "      <th>181668</th>\n",
       "      <td>DE633116-D1DF-4846-982E-55EFC3658A76</td>\n",
       "      <td>20200702.0</td>\n",
       "      <td>102.4824216</td>\n",
       "      <td>30200854.0</td>\n",
       "      <td>25.0</td>\n",
       "      <td>Won</td>\n",
       "      <td>W</td>\n",
       "      <td>41.0</td>\n",
       "      <td>0.96</td>\n",
       "      <td>1220.0</td>\n",
       "      <td>NaN</td>\n",
       "      <td>164141591</td>\n",
       "      <td>20200701.0</td>\n",
       "      <td>591.00</td>\n",
       "    </tr>\n",
       "    <tr>\n",
       "      <th>181669</th>\n",
       "      <td>A48374B1-E6DB-45F2-889A-1F9C27C099EB</td>\n",
       "      <td>20200702.0</td>\n",
       "      <td>208.0864686</td>\n",
       "      <td>30200854.0</td>\n",
       "      <td>25.0</td>\n",
       "      <td>Won</td>\n",
       "      <td>W</td>\n",
       "      <td>41.0</td>\n",
       "      <td>0.95</td>\n",
       "      <td>1500.0</td>\n",
       "      <td>NaN</td>\n",
       "      <td>164141591</td>\n",
       "      <td>20200701.0</td>\n",
       "      <td>589.00</td>\n",
       "    </tr>\n",
       "    <tr>\n",
       "      <th>181670</th>\n",
       "      <td>91643238-5C7B-4237-9A5F-63AE3D35F320</td>\n",
       "      <td>20200702.0</td>\n",
       "      <td>4.235593568</td>\n",
       "      <td>30200854.0</td>\n",
       "      <td>25.0</td>\n",
       "      <td>Won</td>\n",
       "      <td>W</td>\n",
       "      <td>41.0</td>\n",
       "      <td>0.71</td>\n",
       "      <td>1250.0</td>\n",
       "      <td>NaN</td>\n",
       "      <td>164141591</td>\n",
       "      <td>20200701.0</td>\n",
       "      <td>619.00</td>\n",
       "    </tr>\n",
       "    <tr>\n",
       "      <th>181671</th>\n",
       "      <td>7AFFD323-01D9-4E15-B80D-7D1B03498FC8</td>\n",
       "      <td>20200702.0</td>\n",
       "      <td>-2000</td>\n",
       "      <td>30200854.0</td>\n",
       "      <td>25.0</td>\n",
       "      <td>Won</td>\n",
       "      <td>W</td>\n",
       "      <td>41.0</td>\n",
       "      <td>0.85</td>\n",
       "      <td>1250.0</td>\n",
       "      <td>NaN</td>\n",
       "      <td>164141591</td>\n",
       "      <td>20200701.0</td>\n",
       "      <td>601.00</td>\n",
       "    </tr>\n",
       "    <tr>\n",
       "      <th>181672</th>\n",
       "      <td>AD0CA853-AE3C-4B2F-9FBB-8B0B965F84BC</td>\n",
       "      <td>20200702.0</td>\n",
       "      <td>406.6865384</td>\n",
       "      <td>30200854.0</td>\n",
       "      <td>25.0</td>\n",
       "      <td>Won</td>\n",
       "      <td>W</td>\n",
       "      <td>41.0</td>\n",
       "      <td>0.71</td>\n",
       "      <td>1240.0</td>\n",
       "      <td>NaN</td>\n",
       "      <td>164141591</td>\n",
       "      <td>20200701.0</td>\n",
       "      <td>607.00</td>\n",
       "    </tr>\n",
       "  </tbody>\n",
       "</table>\n",
       "<p>181673 rows × 14 columns</p>\n",
       "</div>"
      ],
      "text/plain": [
       "                                          id   item_date quantity_tons  \\\n",
       "0       EC06F063-9DF0-440C-8764-0B0C05A4F6AE  20210401.0     54.151139   \n",
       "1       4E5F4B3D-DDDF-499D-AFDE-A3227EC49425  20210401.0    768.024839   \n",
       "2       E140FF1B-2407-4C02-A0DD-780A093B1158  20210401.0    386.127949   \n",
       "3       F8D507A0-9C62-4EFE-831E-33E1DA53BB50  20210401.0    202.411065   \n",
       "4       4E1C4E78-152B-430A-8094-ADD889C9D0AD  20210401.0    785.526262   \n",
       "...                                      ...         ...           ...   \n",
       "181668  DE633116-D1DF-4846-982E-55EFC3658A76  20200702.0   102.4824216   \n",
       "181669  A48374B1-E6DB-45F2-889A-1F9C27C099EB  20200702.0   208.0864686   \n",
       "181670  91643238-5C7B-4237-9A5F-63AE3D35F320  20200702.0   4.235593568   \n",
       "181671  7AFFD323-01D9-4E15-B80D-7D1B03498FC8  20200702.0         -2000   \n",
       "181672  AD0CA853-AE3C-4B2F-9FBB-8B0B965F84BC  20200702.0   406.6865384   \n",
       "\n",
       "          customer  country status item type  application  thickness   width  \\\n",
       "0       30156308.0     28.0    Won         W         10.0       2.00  1500.0   \n",
       "1       30202938.0     25.0    Won         W         41.0       0.80  1210.0   \n",
       "2       30153963.0     30.0    Won        WI         28.0       0.38   952.0   \n",
       "3       30349574.0     32.0    Won         S         59.0       2.30  1317.0   \n",
       "4       30211560.0     28.0    Won         W         10.0       4.00  2000.0   \n",
       "...            ...      ...    ...       ...          ...        ...     ...   \n",
       "181668  30200854.0     25.0    Won         W         41.0       0.96  1220.0   \n",
       "181669  30200854.0     25.0    Won         W         41.0       0.95  1500.0   \n",
       "181670  30200854.0     25.0    Won         W         41.0       0.71  1250.0   \n",
       "181671  30200854.0     25.0    Won         W         41.0       0.85  1250.0   \n",
       "181672  30200854.0     25.0    Won         W         41.0       0.71  1240.0   \n",
       "\n",
       "                   material_ref  product_ref  delivery_date  selling_price  \n",
       "0                   DEQ1 S460MC   1670798778     20210701.0         854.00  \n",
       "1                           NaN   1668701718     20210401.0        1047.00  \n",
       "2                      S0380700       628377     20210101.0         644.33  \n",
       "3       DX51D+ZM310MAO 2.3X1317   1668701718     20210101.0         768.00  \n",
       "4               2_S275JR+AR-CL1       640665     20210301.0         577.00  \n",
       "...                         ...          ...            ...            ...  \n",
       "181668                      NaN    164141591     20200701.0         591.00  \n",
       "181669                      NaN    164141591     20200701.0         589.00  \n",
       "181670                      NaN    164141591     20200701.0         619.00  \n",
       "181671                      NaN    164141591     20200701.0         601.00  \n",
       "181672                      NaN    164141591     20200701.0         607.00  \n",
       "\n",
       "[181673 rows x 14 columns]"
      ]
     },
     "execution_count": 7,
     "metadata": {},
     "output_type": "execute_result"
    }
   ],
   "source": [
    "datas"
   ]
  },
  {
   "cell_type": "code",
   "execution_count": 8,
   "id": "de9270f0",
   "metadata": {},
   "outputs": [
    {
     "data": {
      "text/plain": [
       "id                    2\n",
       "item_date             1\n",
       "quantity_tons         0\n",
       "customer              1\n",
       "country              28\n",
       "status                2\n",
       "item type             0\n",
       "application          24\n",
       "thickness             1\n",
       "width                 0\n",
       "material_ref     100645\n",
       "product_ref           0\n",
       "delivery_date         1\n",
       "selling_price         1\n",
       "dtype: int64"
      ]
     },
     "execution_count": 8,
     "metadata": {},
     "output_type": "execute_result"
    }
   ],
   "source": [
    "# Assuming 'dataset' is a Pandas DataFrame\n",
    "missing_values = datas.isnull().sum()\n",
    "missing_values\n"
   ]
  },
  {
   "cell_type": "code",
   "execution_count": 9,
   "id": "d2a667b5",
   "metadata": {},
   "outputs": [
    {
     "name": "stdout",
     "output_type": "stream",
     "text": [
      "Total missing values in 'quantity_tons': 0\n"
     ]
    }
   ],
   "source": [
    "import numpy as np\n",
    "\n",
    "# Check for NaN values in the 'quantity_tons' column\n",
    "missing_values = datas['quantity_tons'].isnull().sum()\n",
    "\n",
    "# Additionally, check for other common placeholders for missing values\n",
    "missing_values += (datas['quantity_tons'] == -1).sum()  # Example: If -1 represents missing data\n",
    "missing_values += (datas['quantity_tons'] == '').sum()  # Example: If empty string represents missing data\n",
    "\n",
    "print(\"Total missing values in 'quantity_tons':\", missing_values)\n"
   ]
  },
  {
   "cell_type": "code",
   "execution_count": 10,
   "id": "74bc744b",
   "metadata": {},
   "outputs": [
    {
     "data": {
      "text/html": [
       "<div>\n",
       "<style scoped>\n",
       "    .dataframe tbody tr th:only-of-type {\n",
       "        vertical-align: middle;\n",
       "    }\n",
       "\n",
       "    .dataframe tbody tr th {\n",
       "        vertical-align: top;\n",
       "    }\n",
       "\n",
       "    .dataframe thead th {\n",
       "        text-align: right;\n",
       "    }\n",
       "</style>\n",
       "<table border=\"1\" class=\"dataframe\">\n",
       "  <thead>\n",
       "    <tr style=\"text-align: right;\">\n",
       "      <th></th>\n",
       "      <th>id</th>\n",
       "      <th>item_date</th>\n",
       "      <th>quantity_tons</th>\n",
       "      <th>customer</th>\n",
       "      <th>country</th>\n",
       "      <th>status</th>\n",
       "      <th>item type</th>\n",
       "      <th>application</th>\n",
       "      <th>thickness</th>\n",
       "      <th>width</th>\n",
       "      <th>material_ref</th>\n",
       "      <th>product_ref</th>\n",
       "      <th>delivery_date</th>\n",
       "      <th>selling_price</th>\n",
       "    </tr>\n",
       "  </thead>\n",
       "  <tbody>\n",
       "  </tbody>\n",
       "</table>\n",
       "</div>"
      ],
      "text/plain": [
       "Empty DataFrame\n",
       "Columns: [id, item_date, quantity_tons, customer, country, status, item type, application, thickness, width, material_ref, product_ref, delivery_date, selling_price]\n",
       "Index: []"
      ]
     },
     "execution_count": 10,
     "metadata": {},
     "output_type": "execute_result"
    }
   ],
   "source": [
    "# Find and display the indices of rows with null values in the 'quantity_tons' column\n",
    "null_indices = datas[datas['quantity_tons'].isnull()]\n",
    "null_indices\n"
   ]
  },
  {
   "cell_type": "code",
   "execution_count": 11,
   "id": "22044f89",
   "metadata": {},
   "outputs": [],
   "source": [
    "import pandas as pd\n",
    "\n",
    "# Assuming 'dataset' is your DataFrame\n",
    "# Convert 'item_date' to a string\n",
    "datas['item_date'] = datas['item_date'].astype(str)\n",
    "\n",
    "# Use string slicing to format the date (YYYYMMDD to YYYY-MM-DD)\n",
    "datas['item_date'] = datas['item_date'].apply(lambda x: f\"{x[:4]}-{x[4:6]}-{x[6:8]}\")\n",
    "\n",
    "# Now, the 'item_date' column should have the date in the desired format\n"
   ]
  },
  {
   "cell_type": "code",
   "execution_count": 12,
   "id": "4863574a",
   "metadata": {},
   "outputs": [],
   "source": [
    "datas['customer'].fillna(datas['customer'].mean(), inplace = True)\n",
    "datas['country'].fillna(datas['country'].mean(), inplace = True)\n",
    "datas['application'].fillna(datas['application'].mean(), inplace = True)\n",
    "# datas['quantity_tons'].fillna(datas['quantity_tons'].mean(), inplace = True)\n",
    "datas['thickness'].fillna(datas['thickness'].mean(), inplace = True)\n",
    "datas['material_ref'].fillna(datas['material_ref'].mode()[0],inplace=True)\n",
    "datas['selling_price'].fillna(datas['selling_price'].mean(),inplace=True)"
   ]
  },
  {
   "cell_type": "code",
   "execution_count": 13,
   "id": "455dc9c4",
   "metadata": {},
   "outputs": [],
   "source": [
    "datas['delivery_date'] = pd.to_datetime(datas['delivery_date'], format='%Y%m%d', errors='coerce')"
   ]
  },
  {
   "cell_type": "code",
   "execution_count": 14,
   "id": "87ee971f",
   "metadata": {},
   "outputs": [],
   "source": [
    "import pandas as pd\n",
    "import numpy as np\n",
    "\n",
    "# Assuming you have a DataFrame named 'df' with your data\n",
    "# Replace all values in the 'status' column that are not 'Won' or 'Lost' with NaN\n",
    "valid_statuses = ['Won', 'Lost']\n",
    "datas['status'] = np.where(datas['status'].isin(valid_statuses), datas['status'], np.nan)\n",
    "\n"
   ]
  },
  {
   "cell_type": "code",
   "execution_count": 15,
   "id": "d6fc4df9",
   "metadata": {},
   "outputs": [
    {
     "data": {
      "text/html": [
       "<div>\n",
       "<style scoped>\n",
       "    .dataframe tbody tr th:only-of-type {\n",
       "        vertical-align: middle;\n",
       "    }\n",
       "\n",
       "    .dataframe tbody tr th {\n",
       "        vertical-align: top;\n",
       "    }\n",
       "\n",
       "    .dataframe thead th {\n",
       "        text-align: right;\n",
       "    }\n",
       "</style>\n",
       "<table border=\"1\" class=\"dataframe\">\n",
       "  <thead>\n",
       "    <tr style=\"text-align: right;\">\n",
       "      <th></th>\n",
       "      <th>id</th>\n",
       "      <th>item_date</th>\n",
       "      <th>quantity_tons</th>\n",
       "      <th>customer</th>\n",
       "      <th>country</th>\n",
       "      <th>status</th>\n",
       "      <th>item type</th>\n",
       "      <th>application</th>\n",
       "      <th>thickness</th>\n",
       "      <th>width</th>\n",
       "      <th>material_ref</th>\n",
       "      <th>product_ref</th>\n",
       "      <th>delivery_date</th>\n",
       "      <th>selling_price</th>\n",
       "    </tr>\n",
       "  </thead>\n",
       "  <tbody>\n",
       "    <tr>\n",
       "      <th>6</th>\n",
       "      <td>E1B47219-42C8-411D-AE46-AD5256DC4757</td>\n",
       "      <td>2021-04-01</td>\n",
       "      <td>3.522613</td>\n",
       "      <td>30209509.0</td>\n",
       "      <td>30.0</td>\n",
       "      <td>NaN</td>\n",
       "      <td>W</td>\n",
       "      <td>41.0</td>\n",
       "      <td>0.38</td>\n",
       "      <td>1125.0</td>\n",
       "      <td>NBW_L+_A_1125_0.4</td>\n",
       "      <td>611993</td>\n",
       "      <td>2021-07-01</td>\n",
       "      <td>18.00</td>\n",
       "    </tr>\n",
       "    <tr>\n",
       "      <th>10</th>\n",
       "      <td>B85870F5-E1C7-4CAA-A7DA-355DC192B11D</td>\n",
       "      <td>2021-04-01</td>\n",
       "      <td>9.17577</td>\n",
       "      <td>30209509.0</td>\n",
       "      <td>30.0</td>\n",
       "      <td>NaN</td>\n",
       "      <td>W</td>\n",
       "      <td>41.0</td>\n",
       "      <td>0.38</td>\n",
       "      <td>1125.0</td>\n",
       "      <td>NBW_L+_1125_0.4</td>\n",
       "      <td>611993</td>\n",
       "      <td>2021-07-01</td>\n",
       "      <td>17.00</td>\n",
       "    </tr>\n",
       "    <tr>\n",
       "      <th>14</th>\n",
       "      <td>99659229-166B-4966-AA1F-9796DA6055DB</td>\n",
       "      <td>2021-04-01</td>\n",
       "      <td>10.41135</td>\n",
       "      <td>30271717.0</td>\n",
       "      <td>28.0</td>\n",
       "      <td>NaN</td>\n",
       "      <td>W</td>\n",
       "      <td>10.0</td>\n",
       "      <td>0.60</td>\n",
       "      <td>1250.0</td>\n",
       "      <td>DX51D+Z</td>\n",
       "      <td>611993</td>\n",
       "      <td>2021-07-01</td>\n",
       "      <td>1258.00</td>\n",
       "    </tr>\n",
       "    <tr>\n",
       "      <th>18</th>\n",
       "      <td>9CEF626C-6124-4C5C-9D54-0E5B8A8F2782</td>\n",
       "      <td>2021-04-01</td>\n",
       "      <td>16.253987</td>\n",
       "      <td>30271717.0</td>\n",
       "      <td>28.0</td>\n",
       "      <td>NaN</td>\n",
       "      <td>W</td>\n",
       "      <td>10.0</td>\n",
       "      <td>0.80</td>\n",
       "      <td>1250.0</td>\n",
       "      <td>DX51D+Z</td>\n",
       "      <td>611993</td>\n",
       "      <td>2021-07-01</td>\n",
       "      <td>1193.00</td>\n",
       "    </tr>\n",
       "    <tr>\n",
       "      <th>22</th>\n",
       "      <td>93B04F7B-0A4C-4D45-AB3A-67DB7888869A</td>\n",
       "      <td>2021-04-01</td>\n",
       "      <td>14.203574</td>\n",
       "      <td>30271717.0</td>\n",
       "      <td>28.0</td>\n",
       "      <td>NaN</td>\n",
       "      <td>W</td>\n",
       "      <td>10.0</td>\n",
       "      <td>0.60</td>\n",
       "      <td>1000.0</td>\n",
       "      <td>DX51D+Z</td>\n",
       "      <td>611993</td>\n",
       "      <td>2021-07-01</td>\n",
       "      <td>1265.00</td>\n",
       "    </tr>\n",
       "    <tr>\n",
       "      <th>...</th>\n",
       "      <td>...</td>\n",
       "      <td>...</td>\n",
       "      <td>...</td>\n",
       "      <td>...</td>\n",
       "      <td>...</td>\n",
       "      <td>...</td>\n",
       "      <td>...</td>\n",
       "      <td>...</td>\n",
       "      <td>...</td>\n",
       "      <td>...</td>\n",
       "      <td>...</td>\n",
       "      <td>...</td>\n",
       "      <td>...</td>\n",
       "      <td>...</td>\n",
       "    </tr>\n",
       "    <tr>\n",
       "      <th>181602</th>\n",
       "      <td>D85912F7-0002-4EC5-9CFD-AD3803F44D91</td>\n",
       "      <td>2020-07-02</td>\n",
       "      <td>20.15511929</td>\n",
       "      <td>30267349.0</td>\n",
       "      <td>84.0</td>\n",
       "      <td>NaN</td>\n",
       "      <td>W</td>\n",
       "      <td>10.0</td>\n",
       "      <td>2.00</td>\n",
       "      <td>1500.0</td>\n",
       "      <td>1S220A100P6FSA</td>\n",
       "      <td>164141591</td>\n",
       "      <td>2020-07-01</td>\n",
       "      <td>619.81</td>\n",
       "    </tr>\n",
       "    <tr>\n",
       "      <th>181603</th>\n",
       "      <td>E6A94878-F80E-4852-A217-928D6D9C4A28</td>\n",
       "      <td>2020-07-02</td>\n",
       "      <td>15.74226571</td>\n",
       "      <td>30267349.0</td>\n",
       "      <td>84.0</td>\n",
       "      <td>NaN</td>\n",
       "      <td>W</td>\n",
       "      <td>10.0</td>\n",
       "      <td>2.00</td>\n",
       "      <td>1000.0</td>\n",
       "      <td>1S220A100P6FSA</td>\n",
       "      <td>164141591</td>\n",
       "      <td>2020-07-01</td>\n",
       "      <td>628.52</td>\n",
       "    </tr>\n",
       "    <tr>\n",
       "      <th>181604</th>\n",
       "      <td>B40F8127-D4AC-44B6-B200-FED2690EA8EF</td>\n",
       "      <td>2020-07-02</td>\n",
       "      <td>16.39100871</td>\n",
       "      <td>30267349.0</td>\n",
       "      <td>84.0</td>\n",
       "      <td>NaN</td>\n",
       "      <td>W</td>\n",
       "      <td>10.0</td>\n",
       "      <td>2.00</td>\n",
       "      <td>1250.0</td>\n",
       "      <td>1S220A100P6FSA</td>\n",
       "      <td>164141591</td>\n",
       "      <td>2020-07-01</td>\n",
       "      <td>615.81</td>\n",
       "    </tr>\n",
       "    <tr>\n",
       "      <th>181606</th>\n",
       "      <td>71B2FEB0-DB4C-47BE-848F-77A7705AB181</td>\n",
       "      <td>2020-07-02</td>\n",
       "      <td>29.49310645</td>\n",
       "      <td>30201589.0</td>\n",
       "      <td>84.0</td>\n",
       "      <td>NaN</td>\n",
       "      <td>S</td>\n",
       "      <td>15.0</td>\n",
       "      <td>0.80</td>\n",
       "      <td>1250.0</td>\n",
       "      <td>DX51D+Z</td>\n",
       "      <td>1668701376</td>\n",
       "      <td>2020-07-01</td>\n",
       "      <td>727.00</td>\n",
       "    </tr>\n",
       "    <tr>\n",
       "      <th>181607</th>\n",
       "      <td>0B2E99D3-33D0-4253-866C-88AFE6FB28F0</td>\n",
       "      <td>2020-07-02</td>\n",
       "      <td>21.97857045</td>\n",
       "      <td>30201589.0</td>\n",
       "      <td>84.0</td>\n",
       "      <td>NaN</td>\n",
       "      <td>S</td>\n",
       "      <td>15.0</td>\n",
       "      <td>1.25</td>\n",
       "      <td>1050.0</td>\n",
       "      <td>DX51D+Z</td>\n",
       "      <td>1668701376</td>\n",
       "      <td>2020-07-01</td>\n",
       "      <td>702.00</td>\n",
       "    </tr>\n",
       "  </tbody>\n",
       "</table>\n",
       "<p>31225 rows × 14 columns</p>\n",
       "</div>"
      ],
      "text/plain": [
       "                                          id   item_date quantity_tons  \\\n",
       "6       E1B47219-42C8-411D-AE46-AD5256DC4757  2021-04-01      3.522613   \n",
       "10      B85870F5-E1C7-4CAA-A7DA-355DC192B11D  2021-04-01       9.17577   \n",
       "14      99659229-166B-4966-AA1F-9796DA6055DB  2021-04-01      10.41135   \n",
       "18      9CEF626C-6124-4C5C-9D54-0E5B8A8F2782  2021-04-01     16.253987   \n",
       "22      93B04F7B-0A4C-4D45-AB3A-67DB7888869A  2021-04-01     14.203574   \n",
       "...                                      ...         ...           ...   \n",
       "181602  D85912F7-0002-4EC5-9CFD-AD3803F44D91  2020-07-02   20.15511929   \n",
       "181603  E6A94878-F80E-4852-A217-928D6D9C4A28  2020-07-02   15.74226571   \n",
       "181604  B40F8127-D4AC-44B6-B200-FED2690EA8EF  2020-07-02   16.39100871   \n",
       "181606  71B2FEB0-DB4C-47BE-848F-77A7705AB181  2020-07-02   29.49310645   \n",
       "181607  0B2E99D3-33D0-4253-866C-88AFE6FB28F0  2020-07-02   21.97857045   \n",
       "\n",
       "          customer  country status item type  application  thickness   width  \\\n",
       "6       30209509.0     30.0    NaN         W         41.0       0.38  1125.0   \n",
       "10      30209509.0     30.0    NaN         W         41.0       0.38  1125.0   \n",
       "14      30271717.0     28.0    NaN         W         10.0       0.60  1250.0   \n",
       "18      30271717.0     28.0    NaN         W         10.0       0.80  1250.0   \n",
       "22      30271717.0     28.0    NaN         W         10.0       0.60  1000.0   \n",
       "...            ...      ...    ...       ...          ...        ...     ...   \n",
       "181602  30267349.0     84.0    NaN         W         10.0       2.00  1500.0   \n",
       "181603  30267349.0     84.0    NaN         W         10.0       2.00  1000.0   \n",
       "181604  30267349.0     84.0    NaN         W         10.0       2.00  1250.0   \n",
       "181606  30201589.0     84.0    NaN         S         15.0       0.80  1250.0   \n",
       "181607  30201589.0     84.0    NaN         S         15.0       1.25  1050.0   \n",
       "\n",
       "             material_ref  product_ref delivery_date  selling_price  \n",
       "6       NBW_L+_A_1125_0.4       611993    2021-07-01          18.00  \n",
       "10        NBW_L+_1125_0.4       611993    2021-07-01          17.00  \n",
       "14                DX51D+Z       611993    2021-07-01        1258.00  \n",
       "18                DX51D+Z       611993    2021-07-01        1193.00  \n",
       "22                DX51D+Z       611993    2021-07-01        1265.00  \n",
       "...                   ...          ...           ...            ...  \n",
       "181602     1S220A100P6FSA    164141591    2020-07-01         619.81  \n",
       "181603     1S220A100P6FSA    164141591    2020-07-01         628.52  \n",
       "181604     1S220A100P6FSA    164141591    2020-07-01         615.81  \n",
       "181606            DX51D+Z   1668701376    2020-07-01         727.00  \n",
       "181607            DX51D+Z   1668701376    2020-07-01         702.00  \n",
       "\n",
       "[31225 rows x 14 columns]"
      ]
     },
     "execution_count": 15,
     "metadata": {},
     "output_type": "execute_result"
    }
   ],
   "source": [
    "null_rows = datas[datas['status'].isnull()]\n",
    "null_rows\n",
    "# This code creates a new DataFrame called null_rows that contains only the rows where the 'status' column is null, and then it prints this subset of the data."
   ]
  },
  {
   "cell_type": "code",
   "execution_count": 16,
   "id": "ba681599",
   "metadata": {},
   "outputs": [],
   "source": [
    "datas.dropna(subset=['status'], inplace=True)"
   ]
  },
  {
   "cell_type": "code",
   "execution_count": 17,
   "id": "92befbf0",
   "metadata": {},
   "outputs": [],
   "source": [
    "datas.dropna(subset=['item_date','id','delivery_date','status'], inplace=True)"
   ]
  },
  {
   "cell_type": "code",
   "execution_count": 18,
   "id": "73d7022a",
   "metadata": {},
   "outputs": [
    {
     "data": {
      "text/plain": [
       "id               0\n",
       "item_date        0\n",
       "quantity_tons    0\n",
       "customer         0\n",
       "country          0\n",
       "status           0\n",
       "item type        0\n",
       "application      0\n",
       "thickness        0\n",
       "width            0\n",
       "material_ref     0\n",
       "product_ref      0\n",
       "delivery_date    0\n",
       "selling_price    0\n",
       "dtype: int64"
      ]
     },
     "execution_count": 18,
     "metadata": {},
     "output_type": "execute_result"
    }
   ],
   "source": [
    "datas.isnull().sum()"
   ]
  },
  {
   "cell_type": "markdown",
   "id": "0f05bf86",
   "metadata": {},
   "source": [
    "# Treating outliers and cliping methods"
   ]
  },
  {
   "cell_type": "code",
   "execution_count": 19,
   "id": "4767ce80",
   "metadata": {},
   "outputs": [],
   "source": [
    "datas['quantity_tons'] = pd.to_numeric(datas['quantity_tons'], errors='coerce')"
   ]
  },
  {
   "cell_type": "code",
   "execution_count": 20,
   "id": "6301c27a",
   "metadata": {},
   "outputs": [
    {
     "data": {
      "text/html": [
       "<div>\n",
       "<style scoped>\n",
       "    .dataframe tbody tr th:only-of-type {\n",
       "        vertical-align: middle;\n",
       "    }\n",
       "\n",
       "    .dataframe tbody tr th {\n",
       "        vertical-align: top;\n",
       "    }\n",
       "\n",
       "    .dataframe thead th {\n",
       "        text-align: right;\n",
       "    }\n",
       "</style>\n",
       "<table border=\"1\" class=\"dataframe\">\n",
       "  <thead>\n",
       "    <tr style=\"text-align: right;\">\n",
       "      <th></th>\n",
       "      <th>quantity_tons</th>\n",
       "      <th>customer</th>\n",
       "      <th>country</th>\n",
       "      <th>application</th>\n",
       "      <th>thickness</th>\n",
       "      <th>width</th>\n",
       "      <th>product_ref</th>\n",
       "      <th>selling_price</th>\n",
       "    </tr>\n",
       "  </thead>\n",
       "  <tbody>\n",
       "    <tr>\n",
       "      <th>count</th>\n",
       "      <td>150444.000000</td>\n",
       "      <td>1.504450e+05</td>\n",
       "      <td>150445.000000</td>\n",
       "      <td>150445.000000</td>\n",
       "      <td>150445.000000</td>\n",
       "      <td>150445.000000</td>\n",
       "      <td>1.504450e+05</td>\n",
       "      <td>150445.000000</td>\n",
       "    </tr>\n",
       "    <tr>\n",
       "      <th>mean</th>\n",
       "      <td>94.459565</td>\n",
       "      <td>3.027510e+07</td>\n",
       "      <td>45.391443</td>\n",
       "      <td>25.194695</td>\n",
       "      <td>2.618382</td>\n",
       "      <td>1297.842842</td>\n",
       "      <td>4.748495e+08</td>\n",
       "      <td>825.771800</td>\n",
       "    </tr>\n",
       "    <tr>\n",
       "      <th>std</th>\n",
       "      <td>440.951604</td>\n",
       "      <td>9.455146e+06</td>\n",
       "      <td>24.487975</td>\n",
       "      <td>17.639651</td>\n",
       "      <td>7.115516</td>\n",
       "      <td>266.157674</td>\n",
       "      <td>7.172671e+08</td>\n",
       "      <td>290.894035</td>\n",
       "    </tr>\n",
       "    <tr>\n",
       "      <th>min</th>\n",
       "      <td>-2000.000000</td>\n",
       "      <td>1.245800e+04</td>\n",
       "      <td>25.000000</td>\n",
       "      <td>2.000000</td>\n",
       "      <td>0.180000</td>\n",
       "      <td>1.000000</td>\n",
       "      <td>6.117280e+05</td>\n",
       "      <td>-1160.000000</td>\n",
       "    </tr>\n",
       "    <tr>\n",
       "      <th>25%</th>\n",
       "      <td>10.698061</td>\n",
       "      <td>3.019689e+07</td>\n",
       "      <td>26.000000</td>\n",
       "      <td>10.000000</td>\n",
       "      <td>0.740000</td>\n",
       "      <td>1176.000000</td>\n",
       "      <td>6.283770e+05</td>\n",
       "      <td>671.000000</td>\n",
       "    </tr>\n",
       "    <tr>\n",
       "      <th>50%</th>\n",
       "      <td>29.934564</td>\n",
       "      <td>3.020531e+07</td>\n",
       "      <td>30.000000</td>\n",
       "      <td>15.000000</td>\n",
       "      <td>1.500000</td>\n",
       "      <td>1250.000000</td>\n",
       "      <td>6.406650e+05</td>\n",
       "      <td>811.000000</td>\n",
       "    </tr>\n",
       "    <tr>\n",
       "      <th>75%</th>\n",
       "      <td>64.867439</td>\n",
       "      <td>3.027982e+07</td>\n",
       "      <td>78.000000</td>\n",
       "      <td>41.000000</td>\n",
       "      <td>3.000000</td>\n",
       "      <td>1500.000000</td>\n",
       "      <td>1.332077e+09</td>\n",
       "      <td>951.000000</td>\n",
       "    </tr>\n",
       "    <tr>\n",
       "      <th>max</th>\n",
       "      <td>70252.363070</td>\n",
       "      <td>2.147484e+09</td>\n",
       "      <td>113.000000</td>\n",
       "      <td>99.000000</td>\n",
       "      <td>2500.000000</td>\n",
       "      <td>2990.000000</td>\n",
       "      <td>1.722208e+09</td>\n",
       "      <td>81236.140000</td>\n",
       "    </tr>\n",
       "  </tbody>\n",
       "</table>\n",
       "</div>"
      ],
      "text/plain": [
       "       quantity_tons      customer        country    application  \\\n",
       "count  150444.000000  1.504450e+05  150445.000000  150445.000000   \n",
       "mean       94.459565  3.027510e+07      45.391443      25.194695   \n",
       "std       440.951604  9.455146e+06      24.487975      17.639651   \n",
       "min     -2000.000000  1.245800e+04      25.000000       2.000000   \n",
       "25%        10.698061  3.019689e+07      26.000000      10.000000   \n",
       "50%        29.934564  3.020531e+07      30.000000      15.000000   \n",
       "75%        64.867439  3.027982e+07      78.000000      41.000000   \n",
       "max     70252.363070  2.147484e+09     113.000000      99.000000   \n",
       "\n",
       "           thickness          width   product_ref  selling_price  \n",
       "count  150445.000000  150445.000000  1.504450e+05  150445.000000  \n",
       "mean        2.618382    1297.842842  4.748495e+08     825.771800  \n",
       "std         7.115516     266.157674  7.172671e+08     290.894035  \n",
       "min         0.180000       1.000000  6.117280e+05   -1160.000000  \n",
       "25%         0.740000    1176.000000  6.283770e+05     671.000000  \n",
       "50%         1.500000    1250.000000  6.406650e+05     811.000000  \n",
       "75%         3.000000    1500.000000  1.332077e+09     951.000000  \n",
       "max      2500.000000    2990.000000  1.722208e+09   81236.140000  "
      ]
     },
     "execution_count": 20,
     "metadata": {},
     "output_type": "execute_result"
    }
   ],
   "source": [
    "datas.describe()"
   ]
  },
  {
   "cell_type": "markdown",
   "id": "46a8ef9f",
   "metadata": {},
   "source": [
    "# Quantity_tons"
   ]
  },
  {
   "cell_type": "code",
   "execution_count": 21,
   "id": "6deffe92",
   "metadata": {},
   "outputs": [
    {
     "data": {
      "text/plain": [
       "(146.12150552000003, -70.55600534000003)"
      ]
     },
     "execution_count": 21,
     "metadata": {},
     "output_type": "execute_result"
    }
   ],
   "source": [
    "datas['quantity_tons'] = pd.to_numeric(datas['quantity_tons'], errors='coerce')\n",
    "q3 = datas.quantity_tons.quantile(0.75)\n",
    "q1 = datas.quantity_tons.quantile(0.25)\n",
    "iqr = (q3 - q1)\n",
    "upper_tres = q3 + (1.5*iqr)\n",
    "lower_tres = q1 - (1.5*iqr)\n",
    "upper_tres,lower_tres"
   ]
  },
  {
   "cell_type": "code",
   "execution_count": 22,
   "id": "8c1131a3",
   "metadata": {},
   "outputs": [],
   "source": [
    "datas['quantity_tons'] = datas['quantity_tons'].clip(upper_tres,lower_tres)"
   ]
  },
  {
   "cell_type": "code",
   "execution_count": 23,
   "id": "7d975756",
   "metadata": {},
   "outputs": [
    {
     "data": {
      "text/plain": [
       "1"
      ]
     },
     "execution_count": 23,
     "metadata": {},
     "output_type": "execute_result"
    }
   ],
   "source": [
    "datas['quantity_tons'].isnull().sum()"
   ]
  },
  {
   "cell_type": "code",
   "execution_count": 24,
   "id": "5f470331",
   "metadata": {},
   "outputs": [
    {
     "data": {
      "image/png": "[encoded data removed]",
      "text/plain": [
       "<Figure size 640x480 with 1 Axes>"
      ]
     },
     "metadata": {},
     "output_type": "display_data"
    }
   ],
   "source": [
    "import seaborn as sns\n",
    "import matplotlib.pyplot as plt\n",
    "\n",
    "# Assuming you have a DataFrame named 'datas' with your data\n",
    "sns.boxplot(x='quantity_tons', data=datas)\n",
    "\n",
    "# Show the plot\n",
    "plt.show()\n"
   ]
  },
  {
   "cell_type": "markdown",
   "id": "5d23697c",
   "metadata": {},
   "source": [
    "# Application"
   ]
  },
  {
   "cell_type": "code",
   "execution_count": 25,
   "id": "669777a7",
   "metadata": {},
   "outputs": [
    {
     "data": {
      "text/plain": [
       "(87.5, -36.5)"
      ]
     },
     "execution_count": 25,
     "metadata": {},
     "output_type": "execute_result"
    }
   ],
   "source": [
    "q3 = datas.application.quantile(0.75)\n",
    "q1 = datas.application.quantile(0.25)\n",
    "iqr = (q3 - q1)\n",
    "upper_tres = q3 + (1.5*iqr)\n",
    "lower_tres = q1 - (1.5*iqr)\n",
    "upper_tres,lower_tres"
   ]
  },
  {
   "cell_type": "code",
   "execution_count": 26,
   "id": "aa4c9dfa",
   "metadata": {},
   "outputs": [],
   "source": [
    "datas['application'] = datas['application'].clip(upper_tres,lower_tres)"
   ]
  },
  {
   "cell_type": "code",
   "execution_count": 27,
   "id": "8e0684c4",
   "metadata": {},
   "outputs": [
    {
     "data": {
      "image/png": "[encoded data removed]",
      "text/plain": [
       "<Figure size 640x480 with 1 Axes>"
      ]
     },
     "metadata": {},
     "output_type": "display_data"
    }
   ],
   "source": [
    "# Creating plot\n",
    "plt.boxplot(datas['application'])\n",
    " \n",
    "# show plot\n",
    "plt.show()"
   ]
  },
  {
   "cell_type": "markdown",
   "id": "7e1e2777",
   "metadata": {},
   "source": [
    "# Thickness"
   ]
  },
  {
   "cell_type": "code",
   "execution_count": 28,
   "id": "d9e5c59e",
   "metadata": {},
   "outputs": [
    {
     "data": {
      "text/plain": [
       "(6.39, -2.6499999999999995)"
      ]
     },
     "execution_count": 28,
     "metadata": {},
     "output_type": "execute_result"
    }
   ],
   "source": [
    "q3 = datas.thickness.quantile(0.75)\n",
    "q1 = datas.thickness.quantile(0.25)\n",
    "iqr = (q3 - q1)\n",
    "upper_tres = q3 + (1.5*iqr)\n",
    "lower_tres = q1 - (1.5*iqr)\n",
    "upper_tres,lower_tres"
   ]
  },
  {
   "cell_type": "code",
   "execution_count": 29,
   "id": "f68d997d",
   "metadata": {},
   "outputs": [],
   "source": [
    "datas['thickness'] = datas['thickness'].clip(upper_tres,lower_tres)"
   ]
  },
  {
   "cell_type": "code",
   "execution_count": 30,
   "id": "c3a845dc",
   "metadata": {},
   "outputs": [
    {
     "data": {
      "image/png": "[encoded data removed]",
      "text/plain": [
       "<Figure size 640x480 with 1 Axes>"
      ]
     },
     "metadata": {},
     "output_type": "display_data"
    }
   ],
   "source": [
    "# Creating plot\n",
    "plt.boxplot(datas['thickness'])\n",
    " \n",
    "# show plot\n",
    "plt.show()"
   ]
  },
  {
   "cell_type": "markdown",
   "id": "6ff6ce80",
   "metadata": {},
   "source": [
    "# width"
   ]
  },
  {
   "cell_type": "code",
   "execution_count": 31,
   "id": "6dbb8aab",
   "metadata": {},
   "outputs": [
    {
     "data": {
      "text/plain": [
       "(1986.0, 690.0)"
      ]
     },
     "execution_count": 31,
     "metadata": {},
     "output_type": "execute_result"
    }
   ],
   "source": [
    "q3 = datas.width.quantile(0.75)\n",
    "q1 = datas.width.quantile(0.25)\n",
    "iqr = (q3 - q1)\n",
    "upper_tres = q3 + (1.5*iqr)\n",
    "lower_tres = q1 - (1.5*iqr)\n",
    "upper_tres,lower_tres"
   ]
  },
  {
   "cell_type": "code",
   "execution_count": 32,
   "id": "8b2c32a5",
   "metadata": {},
   "outputs": [],
   "source": [
    "datas['width'] = datas['width'].clip(upper_tres,lower_tres)"
   ]
  },
  {
   "cell_type": "code",
   "execution_count": 33,
   "id": "0cefa66e",
   "metadata": {},
   "outputs": [
    {
     "data": {
      "image/png": "[encoded data removed]",
      "text/plain": [
       "<Figure size 640x480 with 1 Axes>"
      ]
     },
     "metadata": {},
     "output_type": "display_data"
    }
   ],
   "source": [
    "# Creating plot\n",
    "plt.boxplot(datas['width'])\n",
    " \n",
    "# show plot\n",
    "plt.show()"
   ]
  },
  {
   "cell_type": "markdown",
   "id": "b6b1c834",
   "metadata": {},
   "source": [
    "# selling price"
   ]
  },
  {
   "cell_type": "code",
   "execution_count": 34,
   "id": "f6254345",
   "metadata": {},
   "outputs": [
    {
     "data": {
      "text/plain": [
       "(1371.0, 251.0)"
      ]
     },
     "execution_count": 34,
     "metadata": {},
     "output_type": "execute_result"
    }
   ],
   "source": [
    "q3 = datas.selling_price.quantile(0.75)\n",
    "q1 = datas.selling_price.quantile(0.25)\n",
    "iqr = (q3 - q1)\n",
    "upper_tres = q3 + (1.5*iqr)\n",
    "lower_tres = q1 - (1.5*iqr)\n",
    "upper_tres,lower_tres"
   ]
  },
  {
   "cell_type": "code",
   "execution_count": 35,
   "id": "474d4aab",
   "metadata": {},
   "outputs": [],
   "source": [
    "datas['selling_price'] = datas['selling_price'].clip(upper_tres,lower_tres)"
   ]
  },
  {
   "cell_type": "code",
   "execution_count": 36,
   "id": "a3456951",
   "metadata": {},
   "outputs": [
    {
     "data": {
      "image/png": "[encoded data removed]",
      "text/plain": [
       "<Figure size 640x480 with 1 Axes>"
      ]
     },
     "metadata": {},
     "output_type": "display_data"
    }
   ],
   "source": [
    "# Creating plot\n",
    "plt.boxplot(datas['selling_price'])\n",
    " \n",
    "# show plot\n",
    "plt.show()"
   ]
  },
  {
   "cell_type": "markdown",
   "id": "72630c95",
   "metadata": {},
   "source": [
    "# skewness"
   ]
  },
  {
   "cell_type": "code",
   "execution_count": 85,
   "id": "d84834c6",
   "metadata": {},
   "outputs": [
    {
     "ename": "SyntaxError",
     "evalue": "unterminated string literal (detected at line 7) (1241201636.py, line 7)",
     "output_type": "error",
     "traceback": [
      "\u001b[1;36m  Cell \u001b[1;32mIn[85], line 7\u001b[1;36m\u001b[0m\n\u001b[1;33m    It tells you if the data is more concentrated on one side of the mean or if it's evenly distributed.\u001b[0m\n\u001b[1;37m                                                                                  ^\u001b[0m\n\u001b[1;31mSyntaxError\u001b[0m\u001b[1;31m:\u001b[0m unterminated string literal (detected at line 7)\n"
     ]
    }
   ],
   "source": [
    "Skewness:\n",
    "\n",
    "Definition: Skewness measures the asymmetry of the probability distribution of a dataset. \n",
    "It quantifies how the data is distributed in terms of its shape and whether it is symmetric or not.\n",
    "\n",
    "Purpose: Skewness helps you understand the shape of the data distribution. \n",
    "It tells you if the data is more concentrated on one side of the mean or if it's evenly distributed. \n",
    "Positive skewness indicates a right-skewed distribution, while negative skewness indicates a left-skewed distribution."
   ]
  },
  {
   "cell_type": "code",
   "execution_count": 86,
   "id": "531fffde",
   "metadata": {},
   "outputs": [
    {
     "data": {
      "text/plain": [
       "<Figure size 800x600 with 0 Axes>"
      ]
     },
     "metadata": {},
     "output_type": "display_data"
    },
    {
     "data": {
      "image/png": "[encoded data removed]",
      "text/plain": [
       "<Figure size 500x500 with 1 Axes>"
      ]
     },
     "metadata": {},
     "output_type": "display_data"
    }
   ],
   "source": [
    "plt.figure(figsize=(8, 6))  # Adjust the figure size as needed\n",
    "sns.displot(datas['width'], kde=True)\n",
    "plt.xlabel('Width')\n",
    "plt.ylabel('Density')\n",
    "plt.title('Distribution of \"width\" Column with KDE')\n",
    "plt.grid(True)\n",
    "\n",
    "# Show the plot\n",
    "plt.tight_layout()\n",
    "plt.show()"
   ]
  },
  {
   "cell_type": "code",
   "execution_count": 87,
   "id": "e1d5f6ea",
   "metadata": {},
   "outputs": [
    {
     "data": {
      "text/plain": [
       "<Figure size 800x600 with 0 Axes>"
      ]
     },
     "metadata": {},
     "output_type": "display_data"
    },
    {
     "data": {
      "image/png": "[encoded data removed]",
      "text/plain": [
       "<Figure size 500x500 with 1 Axes>"
      ]
     },
     "metadata": {},
     "output_type": "display_data"
    }
   ],
   "source": [
    "plt.figure(figsize=(8, 6))  # Adjust the figure size as needed\n",
    "sns.displot(datas['selling_price'], kde=True)\n",
    "plt.xlabel('selling_price')\n",
    "plt.ylabel('Density')\n",
    "plt.title('Distribution of \"width\" Column with KDE')\n",
    "plt.grid(True)\n",
    "\n",
    "# Show the plot\n",
    "plt.tight_layout()\n",
    "plt.show()"
   ]
  },
  {
   "cell_type": "code",
   "execution_count": 88,
   "id": "3cb583b3",
   "metadata": {},
   "outputs": [
    {
     "data": {
      "text/plain": [
       "<Figure size 800x600 with 0 Axes>"
      ]
     },
     "metadata": {},
     "output_type": "display_data"
    },
    {
     "data": {
      "image/png": "[encoded data removed]",
      "text/plain": [
       "<Figure size 500x500 with 1 Axes>"
      ]
     },
     "metadata": {},
     "output_type": "display_data"
    }
   ],
   "source": [
    "plt.figure(figsize=(8, 6))  # Adjust the figure size as needed\n",
    "sns.displot(datas['application'], kde=True)\n",
    "plt.xlabel('application')\n",
    "plt.ylabel('Density')\n",
    "plt.title('Distribution of \"width\" Column with KDE')\n",
    "plt.grid(True)\n",
    "\n",
    "# Show the plot\n",
    "plt.tight_layout()\n",
    "plt.show()"
   ]
  },
  {
   "cell_type": "code",
   "execution_count": 89,
   "id": "ade164c9",
   "metadata": {},
   "outputs": [
    {
     "data": {
      "text/plain": [
       "<Figure size 800x600 with 0 Axes>"
      ]
     },
     "metadata": {},
     "output_type": "display_data"
    },
    {
     "data": {
      "image/png": "[encoded data removed]",
      "text/plain": [
       "<Figure size 500x500 with 1 Axes>"
      ]
     },
     "metadata": {},
     "output_type": "display_data"
    }
   ],
   "source": [
    "plt.figure(figsize=(8, 6))  # Adjust the figure size as needed\n",
    "sns.displot(datas['quantity_tons'], kde=True)\n",
    "plt.xlabel('quantity_tons')\n",
    "plt.ylabel('Density')\n",
    "plt.title('Distribution of \"quantity_tons\" Column with KDE')\n",
    "plt.grid(True)\n",
    "\n",
    "# Show the plot\n",
    "plt.tight_layout()\n",
    "plt.show()"
   ]
  },
  {
   "cell_type": "code",
   "execution_count": 90,
   "id": "e838d595",
   "metadata": {},
   "outputs": [
    {
     "data": {
      "text/plain": [
       "<Figure size 800x600 with 0 Axes>"
      ]
     },
     "metadata": {},
     "output_type": "display_data"
    },
    {
     "data": {
      "image/png": "[encoded data removed]",
      "text/plain": [
       "<Figure size 500x500 with 1 Axes>"
      ]
     },
     "metadata": {},
     "output_type": "display_data"
    }
   ],
   "source": [
    "plt.figure(figsize=(8, 6))  # Adjust the figure size as needed\n",
    "sns.displot(datas['thickness'], kde=True)\n",
    "plt.xlabel('thickness')\n",
    "plt.ylabel('Density')\n",
    "plt.title('Distribution of \"width\" Column with KDE')\n",
    "plt.grid(True)\n",
    "\n",
    "# Show the plot\n",
    "plt.tight_layout()\n",
    "plt.show()"
   ]
  },
  {
   "cell_type": "markdown",
   "id": "f0c903b5",
   "metadata": {},
   "source": [
    "# Treating skewness"
   ]
  },
  {
   "cell_type": "code",
   "execution_count": 146,
   "id": "cd579f9f",
   "metadata": {},
   "outputs": [
    {
     "ename": "IndentationError",
     "evalue": "unindent does not match any outer indentation level (<tokenize>, line 10)",
     "output_type": "error",
     "traceback": [
      "\u001b[1;36m  File \u001b[1;32m<tokenize>:10\u001b[1;36m\u001b[0m\n\u001b[1;33m    Try a square root transformation.\u001b[0m\n\u001b[1;37m    ^\u001b[0m\n\u001b[1;31mIndentationError\u001b[0m\u001b[1;31m:\u001b[0m unindent does not match any outer indentation level\n"
     ]
    }
   ],
   "source": [
    "Identify Skewness:\n",
    "\n",
    "    Begin by visually inspecting your data using histograms, density plots, or \n",
    "    skewness coefficients to determine whether skewness is present and its direction (positive or negative).\n",
    "    Choose Appropriate Transformation:\n",
    "\n",
    "Select a transformation method based on the type of skewness:\n",
    "Positive Skewness (Right Skewed):\n",
    "     Apply a logarithmic transformation (e.g., natural logarithm or base 10).\n",
    "    Try a square root transformation.\n",
    "    Consider a Box-Cox transformation if appropriate.\n",
    "Negative Skewness (Left Skewed):\n",
    "    Consider an inverse transformation (e.g., 1/x).\n",
    "\n",
    "If this value is between: -0.5 and 0.5, the distribution of the value is almost symmetrical.\n",
    "-1 and -0.5, the data is negatively skewed, \n",
    " and \n",
    "f it is between 0.5 to 1, \n",
    "the data is positively skewed. The skewness is moderate"
   ]
  },
  {
   "cell_type": "code",
   "execution_count": null,
   "id": "b7c918fc",
   "metadata": {},
   "outputs": [],
   "source": [
    "# Positive skewness (Right Skewed)\n",
    "log_transformed_data = np.log(data)\n",
    "sqrt_transformed_data = np.sqrt(data)\n",
    "\n",
    "# Negative skewness \n",
    "inverse_transformed_data = 1 / data"
   ]
  },
  {
   "cell_type": "markdown",
   "id": "a2f9450d",
   "metadata": {},
   "source": [
    "# If this value is between: -0.5 and 0.5, the distribution of the value is almost symmetrical.\n",
    "\n",
    "# -1 and -0.5, the data is negatively skewed,and\n",
    "\n",
    "# f it is between 0.5 to 1, the data is positively skewed."
   ]
  },
  {
   "cell_type": "code",
   "execution_count": 37,
   "id": "39a9d8cf",
   "metadata": {},
   "outputs": [],
   "source": [
    "datas['thickness_log'] =np.log(datas['thickness'])"
   ]
  },
  {
   "cell_type": "code",
   "execution_count": 38,
   "id": "0dc32d5f",
   "metadata": {},
   "outputs": [
    {
     "data": {
      "text/plain": [
       "(1.0135000929498768, 0.07022966574220478)"
      ]
     },
     "execution_count": 38,
     "metadata": {},
     "output_type": "execute_result"
    }
   ],
   "source": [
    "datas['thickness'].skew(),datas['thickness_log'].skew()"
   ]
  },
  {
   "cell_type": "code",
   "execution_count": 39,
   "id": "352e5a8b",
   "metadata": {},
   "outputs": [
    {
     "data": {
      "text/plain": [
       "0.6579516122229954"
      ]
     },
     "execution_count": 39,
     "metadata": {},
     "output_type": "execute_result"
    }
   ],
   "source": [
    "datas['width'].skew()"
   ]
  },
  {
   "cell_type": "code",
   "execution_count": 40,
   "id": "8738b99b",
   "metadata": {},
   "outputs": [
    {
     "data": {
      "text/plain": [
       "0.45101629104824387"
      ]
     },
     "execution_count": 40,
     "metadata": {},
     "output_type": "execute_result"
    }
   ],
   "source": [
    "datas['selling_price'].skew()# This is normally symmertrical so no need transformation"
   ]
  },
  {
   "cell_type": "code",
   "execution_count": 41,
   "id": "8bc87f25",
   "metadata": {},
   "outputs": [
    {
     "name": "stdout",
     "output_type": "stream",
     "text": [
      "1\n"
     ]
    }
   ],
   "source": [
    "print(datas['quantity_tons'].isnull().sum())\n"
   ]
  },
  {
   "cell_type": "code",
   "execution_count": 42,
   "id": "395e28e1",
   "metadata": {},
   "outputs": [
    {
     "name": "stdout",
     "output_type": "stream",
     "text": [
      "float64\n"
     ]
    }
   ],
   "source": [
    "print(datas['quantity_tons'].dtype)\n"
   ]
  },
  {
   "cell_type": "code",
   "execution_count": 43,
   "id": "0fd7bfa2",
   "metadata": {},
   "outputs": [],
   "source": [
    "datas['quantity_tons'] = pd.to_numeric(datas['quantity_tons'], errors='coerce')\n"
   ]
  },
  {
   "cell_type": "code",
   "execution_count": 44,
   "id": "8f21929e",
   "metadata": {},
   "outputs": [],
   "source": [
    "datas['quantity_tons_log']=np.log(datas['quantity_tons'])"
   ]
  },
  {
   "cell_type": "code",
   "execution_count": 45,
   "id": "9e84ad09",
   "metadata": {},
   "outputs": [
    {
     "data": {
      "text/plain": [
       "4"
      ]
     },
     "execution_count": 45,
     "metadata": {},
     "output_type": "execute_result"
    }
   ],
   "source": [
    "datas['quantity_tons_log'].isnull().sum()"
   ]
  },
  {
   "cell_type": "code",
   "execution_count": 49,
   "id": "4c5ba043",
   "metadata": {},
   "outputs": [
    {
     "name": "stdout",
     "output_type": "stream",
     "text": [
      "Empty DataFrame\n",
      "Columns: [quantity_tons, quantity_tons_log]\n",
      "Index: []\n"
     ]
    }
   ],
   "source": [
    "nan_rows = datas[datas['quantity_tons_log'].isnull()]\n",
    "print(nan_rows[['quantity_tons', 'quantity_tons_log']])\n"
   ]
  },
  {
   "cell_type": "code",
   "execution_count": 48,
   "id": "08919546",
   "metadata": {},
   "outputs": [],
   "source": [
    "datas.dropna(inplace=True)"
   ]
  },
  {
   "cell_type": "code",
   "execution_count": 50,
   "id": "6188d9d1",
   "metadata": {},
   "outputs": [
    {
     "data": {
      "text/plain": [
       "(1.1044651132279362, -0.7771256048440671)"
      ]
     },
     "execution_count": 50,
     "metadata": {},
     "output_type": "execute_result"
    }
   ],
   "source": [
    "datas['quantity_tons'].skew(),datas['quantity_tons_log'].skew()"
   ]
  },
  {
   "cell_type": "code",
   "execution_count": 51,
   "id": "1edab8dc",
   "metadata": {},
   "outputs": [],
   "source": [
    "datas['quantity_tons_log'].fillna(datas['quantity_tons_log'].mean(), inplace = True)"
   ]
  },
  {
   "cell_type": "code",
   "execution_count": 52,
   "id": "5ba2ef53",
   "metadata": {},
   "outputs": [
    {
     "data": {
      "text/plain": [
       "0.7348934157417811"
      ]
     },
     "execution_count": 52,
     "metadata": {},
     "output_type": "execute_result"
    }
   ],
   "source": [
    "datas['application'].skew()"
   ]
  },
  {
   "cell_type": "code",
   "execution_count": null,
   "id": "fe3bec7f",
   "metadata": {},
   "outputs": [],
   "source": []
  },
  {
   "cell_type": "code",
   "execution_count": 104,
   "id": "29c64233",
   "metadata": {},
   "outputs": [
    {
     "data": {
      "text/plain": [
       "<Axes: xlabel='thickness_log', ylabel='Density'>"
      ]
     },
     "execution_count": 104,
     "metadata": {},
     "output_type": "execute_result"
    },
    {
     "data": {
      "image/png": "[encoded data removed]",
      "text/plain": [
       "<Figure size 1000x500 with 2 Axes>"
      ]
     },
     "metadata": {},
     "output_type": "display_data"
    }
   ],
   "source": [
    "fig, ax = plt.subplots(1, 2, figsize=(10, 5))\n",
    "sns.distplot(datas['thickness'], hist = False, kde = True,\n",
    "            kde_kws = {'shade': True, 'linewidth': 2},\n",
    "            label = \"Normal\", color =\"green\", ax=ax[0])\n",
    "sns.distplot(datas['thickness_log'], hist = False, kde = True,\n",
    "            kde_kws = {'shade': True, 'linewidth': 2},\n",
    "            label = \"Normal\", color =\"green\", ax=ax[1])"
   ]
  },
  {
   "cell_type": "code",
   "execution_count": 105,
   "id": "bd651cbb",
   "metadata": {},
   "outputs": [
    {
     "data": {
      "text/plain": [
       "<Axes: xlabel='application', ylabel='Density'>"
      ]
     },
     "execution_count": 105,
     "metadata": {},
     "output_type": "execute_result"
    },
    {
     "data": {
      "image/png": "[encoded data removed]",
      "text/plain": [
       "<Figure size 1000x500 with 2 Axes>"
      ]
     },
     "metadata": {},
     "output_type": "display_data"
    }
   ],
   "source": [
    "fig, ax = plt.subplots(1, 2, figsize=(10, 5))\n",
    "sns.distplot(datas['application'], hist = False, kde = True,\n",
    "            kde_kws = {'shade': True, 'linewidth': 2},\n",
    "            label = \"Normal\", color =\"green\", ax=ax[0])"
   ]
  },
  {
   "cell_type": "code",
   "execution_count": 106,
   "id": "4de1dde7",
   "metadata": {},
   "outputs": [
    {
     "data": {
      "text/plain": [
       "<Axes: xlabel='quantity_tons_log', ylabel='Density'>"
      ]
     },
     "execution_count": 106,
     "metadata": {},
     "output_type": "execute_result"
    },
    {
     "data": {
      "image/png": "[encoded data removed]",
      "text/plain": [
       "<Figure size 1000x500 with 2 Axes>"
      ]
     },
     "metadata": {},
     "output_type": "display_data"
    }
   ],
   "source": [
    "fig, ax = plt.subplots(1, 2, figsize=(10, 5))\n",
    "sns.distplot(datas['quantity_tons'], hist = False, kde = True,\n",
    "            kde_kws = {'shade': True, 'linewidth': 2},\n",
    "            label = \"Normal\", color =\"green\", ax=ax[0])\n",
    "sns.distplot(datas['quantity_tons_log'], hist = False, kde = True,\n",
    "            kde_kws = {'shade': True, 'linewidth': 2},\n",
    "            label = \"Normal\", color =\"green\", ax=ax[1])"
   ]
  },
  {
   "cell_type": "code",
   "execution_count": 107,
   "id": "dd77bd6f",
   "metadata": {},
   "outputs": [
    {
     "data": {
      "text/plain": [
       "<Axes: xlabel='width', ylabel='Density'>"
      ]
     },
     "execution_count": 107,
     "metadata": {},
     "output_type": "execute_result"
    },
    {
     "data": {
      "image/png": "[encoded data removed]",
      "text/plain": [
       "<Figure size 1000x500 with 2 Axes>"
      ]
     },
     "metadata": {},
     "output_type": "display_data"
    }
   ],
   "source": [
    "fig, ax = plt.subplots(1, 2, figsize=(10, 5))\n",
    "sns.distplot(datas['width'], hist = False, kde = True,\n",
    "            kde_kws = {'shade': True, 'linewidth': 2},\n",
    "            label = \"Normal\", color =\"green\", ax=ax[0])"
   ]
  },
  {
   "cell_type": "code",
   "execution_count": 108,
   "id": "dde80c25",
   "metadata": {},
   "outputs": [
    {
     "data": {
      "text/plain": [
       "<Axes: xlabel='selling_price', ylabel='Density'>"
      ]
     },
     "execution_count": 108,
     "metadata": {},
     "output_type": "execute_result"
    },
    {
     "data": {
      "image/png": "[encoded data removed]",
      "text/plain": [
       "<Figure size 1000x500 with 2 Axes>"
      ]
     },
     "metadata": {},
     "output_type": "display_data"
    }
   ],
   "source": [
    "fig, ax = plt.subplots(1, 2, figsize=(10, 5))\n",
    "sns.distplot(datas['selling_price'], hist = False, kde = True,\n",
    "            kde_kws = {'shade': True, 'linewidth': 2},\n",
    "            label = \"Normal\", color =\"green\", ax=ax[0])"
   ]
  },
  {
   "cell_type": "markdown",
   "id": "e3785645",
   "metadata": {},
   "source": [
    "# Encoding"
   ]
  },
  {
   "cell_type": "code",
   "execution_count": 54,
   "id": "f7386bac",
   "metadata": {},
   "outputs": [
    {
     "ename": "SyntaxError",
     "evalue": "invalid decimal literal (3254163823.py, line 1)",
     "output_type": "error",
     "traceback": [
      "\u001b[1;36m  Cell \u001b[1;32mIn[54], line 1\u001b[1;36m\u001b[0m\n\u001b[1;33m    One-Hot Encoding: One-hot encoding is a popular technique where each category is converted into a binary vector. Each category is represented by a unique column, and the presence of a category is indicated by a 1 in the corresponding column, while all other columns contain 0s.\u001b[0m\n\u001b[1;37m                                                                                                                                                                                                                                                                                      ^\u001b[0m\n\u001b[1;31mSyntaxError\u001b[0m\u001b[1;31m:\u001b[0m invalid decimal literal\n"
     ]
    }
   ],
   "source": [
    "One-Hot Encoding: One-hot encoding is a popular technique where each category is converted into a binary vector. Each category is represented by a unique column, and the presence of a category is indicated by a 1 in the corresponding column, while all other columns contain 0s.\n",
    "\n",
    "Example:\n",
    "Original categorical column: [\"Red\", \"Green\", \"Blue\"]\n",
    "One-hot encoded columns:\n",
    "\n",
    "Red: [1, 0, 0]\n",
    "Green: [0, 1, 0]\n",
    "Blue: [0, 0, 1]\n",
    "    \n",
    "Label Encoding: Label encoding involves assigning a unique integer to each category. \n",
    "This method is suitable for ordinal data, where there is an inherent order among categories.\n",
    "However, it may not be suitable for nominal data.\n",
    "\n",
    "Example:\n",
    "Original categorical column: [\"Low\", \"Medium\", \"High\"]\n",
    "Label encoded column: [0, 1, 2]\n",
    "\n",
    "Binary Encoding: Binary encoding combines the advantages of one-hot encoding and label encoding. \n",
    "It converts categories into binary code and then encodes them as integers.\n",
    "It can be more memory-efficient than one-hot encoding.\n",
    "\n",
    "Ordinal Encoding: Ordinal encoding is used when there is a clear order or ranking among categories.\n",
    "Categories are mapped to integers according to their order.\n",
    "\n",
    "Example:\n",
    "Original categorical column: [\"Low\", \"Medium\", \"High\"]\n",
    "Ordinal encoded column: [0, 1, 2]\n",
    "\n",
    "The choice of encoding method depends on the nature of the data, the machine learning algorithm being used, and \n",
    "the specific problem you are trying to solve. Choosing the right encoding method is crucial to ensure that \n",
    "the encoded data represents the underlying information accurately and does not introduce biases into your\n",
    "machine learning models."
   ]
  },
  {
   "cell_type": "code",
   "execution_count": 53,
   "id": "816dbd90",
   "metadata": {},
   "outputs": [
    {
     "data": {
      "text/html": [
       "<div>\n",
       "<style scoped>\n",
       "    .dataframe tbody tr th:only-of-type {\n",
       "        vertical-align: middle;\n",
       "    }\n",
       "\n",
       "    .dataframe tbody tr th {\n",
       "        vertical-align: top;\n",
       "    }\n",
       "\n",
       "    .dataframe thead th {\n",
       "        text-align: right;\n",
       "    }\n",
       "</style>\n",
       "<table border=\"1\" class=\"dataframe\">\n",
       "  <thead>\n",
       "    <tr style=\"text-align: right;\">\n",
       "      <th></th>\n",
       "      <th>id</th>\n",
       "      <th>item_date</th>\n",
       "      <th>quantity_tons</th>\n",
       "      <th>customer</th>\n",
       "      <th>country</th>\n",
       "      <th>status</th>\n",
       "      <th>application</th>\n",
       "      <th>thickness</th>\n",
       "      <th>width</th>\n",
       "      <th>material_ref</th>\n",
       "      <th>...</th>\n",
       "      <th>delivery_date</th>\n",
       "      <th>selling_price</th>\n",
       "      <th>thickness_log</th>\n",
       "      <th>quantity_tons_log</th>\n",
       "      <th>item type_Others</th>\n",
       "      <th>item type_PL</th>\n",
       "      <th>item type_S</th>\n",
       "      <th>item type_SLAWR</th>\n",
       "      <th>item type_W</th>\n",
       "      <th>item type_WI</th>\n",
       "    </tr>\n",
       "  </thead>\n",
       "  <tbody>\n",
       "    <tr>\n",
       "      <th>0</th>\n",
       "      <td>EC06F063-9DF0-440C-8764-0B0C05A4F6AE</td>\n",
       "      <td>2021-04-01</td>\n",
       "      <td>54.151139</td>\n",
       "      <td>30156308.0</td>\n",
       "      <td>28.0</td>\n",
       "      <td>Won</td>\n",
       "      <td>10.0</td>\n",
       "      <td>2.00</td>\n",
       "      <td>1500.0</td>\n",
       "      <td>DEQ1 S460MC</td>\n",
       "      <td>...</td>\n",
       "      <td>2021-07-01</td>\n",
       "      <td>854.00</td>\n",
       "      <td>0.693147</td>\n",
       "      <td>3.991779</td>\n",
       "      <td>0</td>\n",
       "      <td>0</td>\n",
       "      <td>0</td>\n",
       "      <td>0</td>\n",
       "      <td>1</td>\n",
       "      <td>0</td>\n",
       "    </tr>\n",
       "    <tr>\n",
       "      <th>1</th>\n",
       "      <td>4E5F4B3D-DDDF-499D-AFDE-A3227EC49425</td>\n",
       "      <td>2021-04-01</td>\n",
       "      <td>146.121506</td>\n",
       "      <td>30202938.0</td>\n",
       "      <td>25.0</td>\n",
       "      <td>Won</td>\n",
       "      <td>41.0</td>\n",
       "      <td>0.80</td>\n",
       "      <td>1210.0</td>\n",
       "      <td>DX51D+Z</td>\n",
       "      <td>...</td>\n",
       "      <td>2021-04-01</td>\n",
       "      <td>1047.00</td>\n",
       "      <td>-0.223144</td>\n",
       "      <td>4.984439</td>\n",
       "      <td>0</td>\n",
       "      <td>0</td>\n",
       "      <td>0</td>\n",
       "      <td>0</td>\n",
       "      <td>1</td>\n",
       "      <td>0</td>\n",
       "    </tr>\n",
       "    <tr>\n",
       "      <th>2</th>\n",
       "      <td>E140FF1B-2407-4C02-A0DD-780A093B1158</td>\n",
       "      <td>2021-04-01</td>\n",
       "      <td>146.121506</td>\n",
       "      <td>30153963.0</td>\n",
       "      <td>30.0</td>\n",
       "      <td>Won</td>\n",
       "      <td>28.0</td>\n",
       "      <td>0.38</td>\n",
       "      <td>952.0</td>\n",
       "      <td>S0380700</td>\n",
       "      <td>...</td>\n",
       "      <td>2021-01-01</td>\n",
       "      <td>644.33</td>\n",
       "      <td>-0.967584</td>\n",
       "      <td>4.984439</td>\n",
       "      <td>0</td>\n",
       "      <td>0</td>\n",
       "      <td>0</td>\n",
       "      <td>0</td>\n",
       "      <td>0</td>\n",
       "      <td>1</td>\n",
       "    </tr>\n",
       "    <tr>\n",
       "      <th>3</th>\n",
       "      <td>F8D507A0-9C62-4EFE-831E-33E1DA53BB50</td>\n",
       "      <td>2021-04-01</td>\n",
       "      <td>146.121506</td>\n",
       "      <td>30349574.0</td>\n",
       "      <td>32.0</td>\n",
       "      <td>Won</td>\n",
       "      <td>59.0</td>\n",
       "      <td>2.30</td>\n",
       "      <td>1317.0</td>\n",
       "      <td>DX51D+ZM310MAO 2.3X1317</td>\n",
       "      <td>...</td>\n",
       "      <td>2021-01-01</td>\n",
       "      <td>768.00</td>\n",
       "      <td>0.832909</td>\n",
       "      <td>4.984439</td>\n",
       "      <td>0</td>\n",
       "      <td>0</td>\n",
       "      <td>1</td>\n",
       "      <td>0</td>\n",
       "      <td>0</td>\n",
       "      <td>0</td>\n",
       "    </tr>\n",
       "    <tr>\n",
       "      <th>4</th>\n",
       "      <td>4E1C4E78-152B-430A-8094-ADD889C9D0AD</td>\n",
       "      <td>2021-04-01</td>\n",
       "      <td>146.121506</td>\n",
       "      <td>30211560.0</td>\n",
       "      <td>28.0</td>\n",
       "      <td>Won</td>\n",
       "      <td>10.0</td>\n",
       "      <td>4.00</td>\n",
       "      <td>1986.0</td>\n",
       "      <td>2_S275JR+AR-CL1</td>\n",
       "      <td>...</td>\n",
       "      <td>2021-03-01</td>\n",
       "      <td>577.00</td>\n",
       "      <td>1.386294</td>\n",
       "      <td>4.984439</td>\n",
       "      <td>0</td>\n",
       "      <td>0</td>\n",
       "      <td>0</td>\n",
       "      <td>0</td>\n",
       "      <td>1</td>\n",
       "      <td>0</td>\n",
       "    </tr>\n",
       "    <tr>\n",
       "      <th>...</th>\n",
       "      <td>...</td>\n",
       "      <td>...</td>\n",
       "      <td>...</td>\n",
       "      <td>...</td>\n",
       "      <td>...</td>\n",
       "      <td>...</td>\n",
       "      <td>...</td>\n",
       "      <td>...</td>\n",
       "      <td>...</td>\n",
       "      <td>...</td>\n",
       "      <td>...</td>\n",
       "      <td>...</td>\n",
       "      <td>...</td>\n",
       "      <td>...</td>\n",
       "      <td>...</td>\n",
       "      <td>...</td>\n",
       "      <td>...</td>\n",
       "      <td>...</td>\n",
       "      <td>...</td>\n",
       "      <td>...</td>\n",
       "      <td>...</td>\n",
       "    </tr>\n",
       "    <tr>\n",
       "      <th>181667</th>\n",
       "      <td>0B812591-B501-4F34-859A-B06381FAEB44</td>\n",
       "      <td>2020-07-02</td>\n",
       "      <td>106.783299</td>\n",
       "      <td>30200854.0</td>\n",
       "      <td>25.0</td>\n",
       "      <td>Won</td>\n",
       "      <td>41.0</td>\n",
       "      <td>0.96</td>\n",
       "      <td>1240.0</td>\n",
       "      <td>DX51D+Z</td>\n",
       "      <td>...</td>\n",
       "      <td>2020-07-01</td>\n",
       "      <td>602.00</td>\n",
       "      <td>-0.040822</td>\n",
       "      <td>4.670802</td>\n",
       "      <td>0</td>\n",
       "      <td>0</td>\n",
       "      <td>0</td>\n",
       "      <td>0</td>\n",
       "      <td>1</td>\n",
       "      <td>0</td>\n",
       "    </tr>\n",
       "    <tr>\n",
       "      <th>181668</th>\n",
       "      <td>DE633116-D1DF-4846-982E-55EFC3658A76</td>\n",
       "      <td>2020-07-02</td>\n",
       "      <td>102.482422</td>\n",
       "      <td>30200854.0</td>\n",
       "      <td>25.0</td>\n",
       "      <td>Won</td>\n",
       "      <td>41.0</td>\n",
       "      <td>0.96</td>\n",
       "      <td>1220.0</td>\n",
       "      <td>DX51D+Z</td>\n",
       "      <td>...</td>\n",
       "      <td>2020-07-01</td>\n",
       "      <td>591.00</td>\n",
       "      <td>-0.040822</td>\n",
       "      <td>4.629691</td>\n",
       "      <td>0</td>\n",
       "      <td>0</td>\n",
       "      <td>0</td>\n",
       "      <td>0</td>\n",
       "      <td>1</td>\n",
       "      <td>0</td>\n",
       "    </tr>\n",
       "    <tr>\n",
       "      <th>181669</th>\n",
       "      <td>A48374B1-E6DB-45F2-889A-1F9C27C099EB</td>\n",
       "      <td>2020-07-02</td>\n",
       "      <td>146.121506</td>\n",
       "      <td>30200854.0</td>\n",
       "      <td>25.0</td>\n",
       "      <td>Won</td>\n",
       "      <td>41.0</td>\n",
       "      <td>0.95</td>\n",
       "      <td>1500.0</td>\n",
       "      <td>DX51D+Z</td>\n",
       "      <td>...</td>\n",
       "      <td>2020-07-01</td>\n",
       "      <td>589.00</td>\n",
       "      <td>-0.051293</td>\n",
       "      <td>4.984439</td>\n",
       "      <td>0</td>\n",
       "      <td>0</td>\n",
       "      <td>0</td>\n",
       "      <td>0</td>\n",
       "      <td>1</td>\n",
       "      <td>0</td>\n",
       "    </tr>\n",
       "    <tr>\n",
       "      <th>181670</th>\n",
       "      <td>91643238-5C7B-4237-9A5F-63AE3D35F320</td>\n",
       "      <td>2020-07-02</td>\n",
       "      <td>4.235594</td>\n",
       "      <td>30200854.0</td>\n",
       "      <td>25.0</td>\n",
       "      <td>Won</td>\n",
       "      <td>41.0</td>\n",
       "      <td>0.71</td>\n",
       "      <td>1250.0</td>\n",
       "      <td>DX51D+Z</td>\n",
       "      <td>...</td>\n",
       "      <td>2020-07-01</td>\n",
       "      <td>619.00</td>\n",
       "      <td>-0.342490</td>\n",
       "      <td>1.443523</td>\n",
       "      <td>0</td>\n",
       "      <td>0</td>\n",
       "      <td>0</td>\n",
       "      <td>0</td>\n",
       "      <td>1</td>\n",
       "      <td>0</td>\n",
       "    </tr>\n",
       "    <tr>\n",
       "      <th>181672</th>\n",
       "      <td>AD0CA853-AE3C-4B2F-9FBB-8B0B965F84BC</td>\n",
       "      <td>2020-07-02</td>\n",
       "      <td>146.121506</td>\n",
       "      <td>30200854.0</td>\n",
       "      <td>25.0</td>\n",
       "      <td>Won</td>\n",
       "      <td>41.0</td>\n",
       "      <td>0.71</td>\n",
       "      <td>1240.0</td>\n",
       "      <td>DX51D+Z</td>\n",
       "      <td>...</td>\n",
       "      <td>2020-07-01</td>\n",
       "      <td>607.00</td>\n",
       "      <td>-0.342490</td>\n",
       "      <td>4.984439</td>\n",
       "      <td>0</td>\n",
       "      <td>0</td>\n",
       "      <td>0</td>\n",
       "      <td>0</td>\n",
       "      <td>1</td>\n",
       "      <td>0</td>\n",
       "    </tr>\n",
       "  </tbody>\n",
       "</table>\n",
       "<p>150441 rows × 21 columns</p>\n",
       "</div>"
      ],
      "text/plain": [
       "                                          id   item_date  quantity_tons  \\\n",
       "0       EC06F063-9DF0-440C-8764-0B0C05A4F6AE  2021-04-01      54.151139   \n",
       "1       4E5F4B3D-DDDF-499D-AFDE-A3227EC49425  2021-04-01     146.121506   \n",
       "2       E140FF1B-2407-4C02-A0DD-780A093B1158  2021-04-01     146.121506   \n",
       "3       F8D507A0-9C62-4EFE-831E-33E1DA53BB50  2021-04-01     146.121506   \n",
       "4       4E1C4E78-152B-430A-8094-ADD889C9D0AD  2021-04-01     146.121506   \n",
       "...                                      ...         ...            ...   \n",
       "181667  0B812591-B501-4F34-859A-B06381FAEB44  2020-07-02     106.783299   \n",
       "181668  DE633116-D1DF-4846-982E-55EFC3658A76  2020-07-02     102.482422   \n",
       "181669  A48374B1-E6DB-45F2-889A-1F9C27C099EB  2020-07-02     146.121506   \n",
       "181670  91643238-5C7B-4237-9A5F-63AE3D35F320  2020-07-02       4.235594   \n",
       "181672  AD0CA853-AE3C-4B2F-9FBB-8B0B965F84BC  2020-07-02     146.121506   \n",
       "\n",
       "          customer  country status  application  thickness   width  \\\n",
       "0       30156308.0     28.0    Won         10.0       2.00  1500.0   \n",
       "1       30202938.0     25.0    Won         41.0       0.80  1210.0   \n",
       "2       30153963.0     30.0    Won         28.0       0.38   952.0   \n",
       "3       30349574.0     32.0    Won         59.0       2.30  1317.0   \n",
       "4       30211560.0     28.0    Won         10.0       4.00  1986.0   \n",
       "...            ...      ...    ...          ...        ...     ...   \n",
       "181667  30200854.0     25.0    Won         41.0       0.96  1240.0   \n",
       "181668  30200854.0     25.0    Won         41.0       0.96  1220.0   \n",
       "181669  30200854.0     25.0    Won         41.0       0.95  1500.0   \n",
       "181670  30200854.0     25.0    Won         41.0       0.71  1250.0   \n",
       "181672  30200854.0     25.0    Won         41.0       0.71  1240.0   \n",
       "\n",
       "                   material_ref  ...  delivery_date selling_price  \\\n",
       "0                   DEQ1 S460MC  ...     2021-07-01        854.00   \n",
       "1                       DX51D+Z  ...     2021-04-01       1047.00   \n",
       "2                      S0380700  ...     2021-01-01        644.33   \n",
       "3       DX51D+ZM310MAO 2.3X1317  ...     2021-01-01        768.00   \n",
       "4               2_S275JR+AR-CL1  ...     2021-03-01        577.00   \n",
       "...                         ...  ...            ...           ...   \n",
       "181667                  DX51D+Z  ...     2020-07-01        602.00   \n",
       "181668                  DX51D+Z  ...     2020-07-01        591.00   \n",
       "181669                  DX51D+Z  ...     2020-07-01        589.00   \n",
       "181670                  DX51D+Z  ...     2020-07-01        619.00   \n",
       "181672                  DX51D+Z  ...     2020-07-01        607.00   \n",
       "\n",
       "        thickness_log  quantity_tons_log  item type_Others  item type_PL  \\\n",
       "0            0.693147           3.991779                 0             0   \n",
       "1           -0.223144           4.984439                 0             0   \n",
       "2           -0.967584           4.984439                 0             0   \n",
       "3            0.832909           4.984439                 0             0   \n",
       "4            1.386294           4.984439                 0             0   \n",
       "...               ...                ...               ...           ...   \n",
       "181667      -0.040822           4.670802                 0             0   \n",
       "181668      -0.040822           4.629691                 0             0   \n",
       "181669      -0.051293           4.984439                 0             0   \n",
       "181670      -0.342490           1.443523                 0             0   \n",
       "181672      -0.342490           4.984439                 0             0   \n",
       "\n",
       "        item type_S  item type_SLAWR  item type_W  item type_WI  \n",
       "0                 0                0            1             0  \n",
       "1                 0                0            1             0  \n",
       "2                 0                0            0             1  \n",
       "3                 1                0            0             0  \n",
       "4                 0                0            1             0  \n",
       "...             ...              ...          ...           ...  \n",
       "181667            0                0            1             0  \n",
       "181668            0                0            1             0  \n",
       "181669            0                0            1             0  \n",
       "181670            0                0            1             0  \n",
       "181672            0                0            1             0  \n",
       "\n",
       "[150441 rows x 21 columns]"
      ]
     },
     "execution_count": 53,
     "metadata": {},
     "output_type": "execute_result"
    }
   ],
   "source": [
    "one_hot_encoded = pd.get_dummies(datas, columns=['item type'], drop_first=True)\n",
    "one_hot_encoded\n"
   ]
  },
  {
   "cell_type": "code",
   "execution_count": 54,
   "id": "843e1ea3",
   "metadata": {},
   "outputs": [
    {
     "data": {
      "text/plain": [
       "id                   0\n",
       "item_date            0\n",
       "quantity_tons        0\n",
       "customer             0\n",
       "country              0\n",
       "status               0\n",
       "application          0\n",
       "thickness            0\n",
       "width                0\n",
       "material_ref         0\n",
       "product_ref          0\n",
       "delivery_date        0\n",
       "selling_price        0\n",
       "thickness_log        0\n",
       "quantity_tons_log    0\n",
       "item type_Others     0\n",
       "item type_PL         0\n",
       "item type_S          0\n",
       "item type_SLAWR      0\n",
       "item type_W          0\n",
       "item type_WI         0\n",
       "dtype: int64"
      ]
     },
     "execution_count": 54,
     "metadata": {},
     "output_type": "execute_result"
    }
   ],
   "source": [
    "one_hot_encoded.isnull().sum()"
   ]
  },
  {
   "cell_type": "code",
   "execution_count": 55,
   "id": "977cee67",
   "metadata": {},
   "outputs": [
    {
     "data": {
      "text/plain": [
       "id                   0\n",
       "item_date            0\n",
       "quantity_tons        0\n",
       "customer             0\n",
       "country              0\n",
       "status               0\n",
       "item type            0\n",
       "application          0\n",
       "thickness            0\n",
       "width                0\n",
       "material_ref         0\n",
       "product_ref          0\n",
       "delivery_date        0\n",
       "selling_price        0\n",
       "thickness_log        0\n",
       "quantity_tons_log    0\n",
       "dtype: int64"
      ]
     },
     "execution_count": 55,
     "metadata": {},
     "output_type": "execute_result"
    }
   ],
   "source": [
    "datas.isnull().sum()"
   ]
  },
  {
   "cell_type": "code",
   "execution_count": 56,
   "id": "e4fb7aaa",
   "metadata": {},
   "outputs": [
    {
     "data": {
      "text/html": [
       "<div>\n",
       "<style scoped>\n",
       "    .dataframe tbody tr th:only-of-type {\n",
       "        vertical-align: middle;\n",
       "    }\n",
       "\n",
       "    .dataframe tbody tr th {\n",
       "        vertical-align: top;\n",
       "    }\n",
       "\n",
       "    .dataframe thead th {\n",
       "        text-align: right;\n",
       "    }\n",
       "</style>\n",
       "<table border=\"1\" class=\"dataframe\">\n",
       "  <thead>\n",
       "    <tr style=\"text-align: right;\">\n",
       "      <th></th>\n",
       "      <th>id</th>\n",
       "      <th>item_date</th>\n",
       "      <th>quantity_tons</th>\n",
       "      <th>customer</th>\n",
       "      <th>country</th>\n",
       "      <th>status</th>\n",
       "      <th>item type</th>\n",
       "      <th>application</th>\n",
       "      <th>thickness</th>\n",
       "      <th>width</th>\n",
       "      <th>material_ref</th>\n",
       "      <th>product_ref</th>\n",
       "      <th>delivery_date</th>\n",
       "      <th>selling_price</th>\n",
       "      <th>thickness_log</th>\n",
       "      <th>quantity_tons_log</th>\n",
       "    </tr>\n",
       "  </thead>\n",
       "  <tbody>\n",
       "  </tbody>\n",
       "</table>\n",
       "</div>"
      ],
      "text/plain": [
       "Empty DataFrame\n",
       "Columns: [id, item_date, quantity_tons, customer, country, status, item type, application, thickness, width, material_ref, product_ref, delivery_date, selling_price, thickness_log, quantity_tons_log]\n",
       "Index: []"
      ]
     },
     "execution_count": 56,
     "metadata": {},
     "output_type": "execute_result"
    }
   ],
   "source": [
    "# Find and display the row(s) with null values in the 'quantity_tons' column\n",
    "null_rows = datas[datas['quantity_tons'].isnull()]\n",
    "null_rows"
   ]
  },
  {
   "cell_type": "markdown",
   "id": "26c4b8bd",
   "metadata": {},
   "source": [
    "# Model Building and Evaluation"
   ]
  },
  {
   "cell_type": "markdown",
   "id": "efc4cc98",
   "metadata": {},
   "source": [
    "# Split the dataset into training and testing/validation set"
   ]
  },
  {
   "cell_type": "code",
   "execution_count": 57,
   "id": "a5fb5ea0",
   "metadata": {},
   "outputs": [],
   "source": [
    "# independent features after encoding\n",
    "X = one_hot_encoded[[ 'thickness_log', 'width',\n",
    "       'quantity_tons_log', 'application', 'item type_Others',\n",
    "       'item type_PL', 'item type_S', 'item type_W', 'item type_WI']].values#important feature\n",
    "\n",
    "y=datas[['status']].values#predicted targets"
   ]
  },
  {
   "cell_type": "code",
   "execution_count": 58,
   "id": "562e2561",
   "metadata": {},
   "outputs": [],
   "source": [
    "be = LabelBinarizer()\n",
    "be.fit(y)\n",
    "Y_fit = be.fit_transform(y)"
   ]
  },
  {
   "cell_type": "code",
   "execution_count": 59,
   "id": "850c0173",
   "metadata": {},
   "outputs": [],
   "source": [
    "scaler = StandardScaler()\n",
    "X = scaler.fit_transform(X)"
   ]
  },
  {
   "cell_type": "code",
   "execution_count": 67,
   "id": "0d5c1c84",
   "metadata": {},
   "outputs": [],
   "source": [
    "# test and train split\n",
    "X_train, X_test, y_train, y_test = train_test_split(X,Y_fit, test_size=0.1, random_state=42)"
   ]
  },
  {
   "cell_type": "code",
   "execution_count": 68,
   "id": "22944981",
   "metadata": {},
   "outputs": [
    {
     "data": {
      "text/html": [
       "<style>#sk-container-id-2 {color: black;}#sk-container-id-2 pre{padding: 0;}#sk-container-id-2 div.sk-toggleable {background-color: white;}#sk-container-id-2 label.sk-toggleable__label {cursor: pointer;display: block;width: 100%;margin-bottom: 0;padding: 0.3em;box-sizing: border-box;text-align: center;}#sk-container-id-2 label.sk-toggleable__label-arrow:before {content: \"▸\";float: left;margin-right: 0.25em;color: #696969;}#sk-container-id-2 label.sk-toggleable__label-arrow:hover:before {color: black;}#sk-container-id-2 div.sk-estimator:hover label.sk-toggleable__label-arrow:before {color: black;}#sk-container-id-2 div.sk-toggleable__content {max-height: 0;max-width: 0;overflow: hidden;text-align: left;background-color: #f0f8ff;}#sk-container-id-2 div.sk-toggleable__content pre {margin: 0.2em;color: black;border-radius: 0.25em;background-color: #f0f8ff;}#sk-container-id-2 input.sk-toggleable__control:checked~div.sk-toggleable__content {max-height: 200px;max-width: 100%;overflow: auto;}#sk-container-id-2 input.sk-toggleable__control:checked~label.sk-toggleable__label-arrow:before {content: \"▾\";}#sk-container-id-2 div.sk-estimator input.sk-toggleable__control:checked~label.sk-toggleable__label {background-color: #d4ebff;}#sk-container-id-2 div.sk-label input.sk-toggleable__control:checked~label.sk-toggleable__label {background-color: #d4ebff;}#sk-container-id-2 input.sk-hidden--visually {border: 0;clip: rect(1px 1px 1px 1px);clip: rect(1px, 1px, 1px, 1px);height: 1px;margin: -1px;overflow: hidden;padding: 0;position: absolute;width: 1px;}#sk-container-id-2 div.sk-estimator {font-family: monospace;background-color: #f0f8ff;border: 1px dotted black;border-radius: 0.25em;box-sizing: border-box;margin-bottom: 0.5em;}#sk-container-id-2 div.sk-estimator:hover {background-color: #d4ebff;}#sk-container-id-2 div.sk-parallel-item::after {content: \"\";width: 100%;border-bottom: 1px solid gray;flex-grow: 1;}#sk-container-id-2 div.sk-label:hover label.sk-toggleable__label {background-color: #d4ebff;}#sk-container-id-2 div.sk-serial::before {content: \"\";position: absolute;border-left: 1px solid gray;box-sizing: border-box;top: 0;bottom: 0;left: 50%;z-index: 0;}#sk-container-id-2 div.sk-serial {display: flex;flex-direction: column;align-items: center;background-color: white;padding-right: 0.2em;padding-left: 0.2em;position: relative;}#sk-container-id-2 div.sk-item {position: relative;z-index: 1;}#sk-container-id-2 div.sk-parallel {display: flex;align-items: stretch;justify-content: center;background-color: white;position: relative;}#sk-container-id-2 div.sk-item::before, #sk-container-id-2 div.sk-parallel-item::before {content: \"\";position: absolute;border-left: 1px solid gray;box-sizing: border-box;top: 0;bottom: 0;left: 50%;z-index: -1;}#sk-container-id-2 div.sk-parallel-item {display: flex;flex-direction: column;z-index: 1;position: relative;background-color: white;}#sk-container-id-2 div.sk-parallel-item:first-child::after {align-self: flex-end;width: 50%;}#sk-container-id-2 div.sk-parallel-item:last-child::after {align-self: flex-start;width: 50%;}#sk-container-id-2 div.sk-parallel-item:only-child::after {width: 0;}#sk-container-id-2 div.sk-dashed-wrapped {border: 1px dashed gray;margin: 0 0.4em 0.5em 0.4em;box-sizing: border-box;padding-bottom: 0.4em;background-color: white;}#sk-container-id-2 div.sk-label label {font-family: monospace;font-weight: bold;display: inline-block;line-height: 1.2em;}#sk-container-id-2 div.sk-label-container {text-align: center;}#sk-container-id-2 div.sk-container {/* jupyter's `normalize.less` sets `[hidden] { display: none; }` but bootstrap.min.css set `[hidden] { display: none !important; }` so we also need the `!important` here to be able to override the default hidden behavior on the sphinx rendered scikit-learn.org. See: https://github.com/scikit-learn/scikit-learn/issues/21755 */display: inline-block !important;position: relative;}#sk-container-id-2 div.sk-text-repr-fallback {display: none;}</style><div id=\"sk-container-id-2\" class=\"sk-top-container\"><div class=\"sk-text-repr-fallback\"><pre>ExtraTreesClassifier()</pre><b>In a Jupyter environment, please rerun this cell to show the HTML representation or trust the notebook. <br />On GitHub, the HTML representation is unable to render, please try loading this page with nbviewer.org.</b></div><div class=\"sk-container\" hidden><div class=\"sk-item\"><div class=\"sk-estimator sk-toggleable\"><input class=\"sk-toggleable__control sk-hidden--visually\" id=\"sk-estimator-id-2\" type=\"checkbox\" checked><label for=\"sk-estimator-id-2\" class=\"sk-toggleable__label sk-toggleable__label-arrow\">ExtraTreesClassifier</label><div class=\"sk-toggleable__content\"><pre>ExtraTreesClassifier()</pre></div></div></div></div></div>"
      ],
      "text/plain": [
       "ExtraTreesClassifier()"
      ]
     },
     "execution_count": 68,
     "metadata": {},
     "output_type": "execute_result"
    }
   ],
   "source": [
    "# Building the model\n",
    "extra_tree_model_class = ExtraTreesClassifier()\n",
    "extra_tree_model_class.fit(X_train, y_train)"
   ]
  },
  {
   "cell_type": "code",
   "execution_count": 79,
   "id": "1b116731",
   "metadata": {},
   "outputs": [
    {
     "data": {
      "text/plain": [
       "array([1, 1, 1, ..., 1, 1, 1])"
      ]
     },
     "execution_count": 79,
     "metadata": {},
     "output_type": "execute_result"
    }
   ],
   "source": [
    "y_pred = extra_tree_model_class.predict(X_test)\n",
    "y_pred"
   ]
  },
  {
   "cell_type": "code",
   "execution_count": 70,
   "id": "552e5b10",
   "metadata": {},
   "outputs": [
    {
     "name": "stdout",
     "output_type": "stream",
     "text": [
      "Accuracy: 0.7980059820538384\n",
      "Confusion Matrix:\n",
      "[[ 1726  1691]\n",
      " [ 1348 10280]]\n"
     ]
    }
   ],
   "source": [
    "accuracy = accuracy_score(y_test, y_pred)\n",
    "print(f\"Accuracy: {accuracy}\")\n",
    "cm = confusion_matrix(y_test, y_pred)\n",
    "print(f\"Confusion Matrix:\\n{cm}\")"
   ]
  },
  {
   "cell_type": "code",
   "execution_count": 71,
   "id": "f3d0b626",
   "metadata": {},
   "outputs": [
    {
     "name": "stdout",
     "output_type": "stream",
     "text": [
      "              precision    recall  f1-score   support\n",
      "\n",
      "           0       0.56      0.51      0.53      3417\n",
      "           1       0.86      0.88      0.87     11628\n",
      "\n",
      "    accuracy                           0.80     15045\n",
      "   macro avg       0.71      0.69      0.70     15045\n",
      "weighted avg       0.79      0.80      0.79     15045\n",
      "\n"
     ]
    }
   ],
   "source": [
    "print(classification_report(y_test, y_pred))"
   ]
  },
  {
   "cell_type": "code",
   "execution_count": 72,
   "id": "c04f062a",
   "metadata": {},
   "outputs": [
    {
     "data": {
      "image/png": "[encoded data removed]",
      "text/plain": [
       "<Figure size 640x480 with 1 Axes>"
      ]
     },
     "metadata": {},
     "output_type": "display_data"
    }
   ],
   "source": [
    "# ROC curve and AUC\n",
    "fpr, tpr, thresholds = roc_curve(y_test, y_pred)\n",
    "roc_auc = auc(fpr, tpr)\n",
    "plt.plot(fpr, tpr, label='ROC curve (area = %0.2f)' % roc_auc)\n",
    "plt.plot([0, 1], [0, 1], 'k--')\n",
    "plt.xlim([0.0, 1.0])\n",
    "plt.ylim([0.0, 1.05])\n",
    "plt.xlabel('False Positive Rate')\n",
    "plt.ylabel('True Positive Rate')\n",
    "plt.title('Receiver operating characteristic')\n",
    "plt.legend(loc=\"lower right\")\n",
    "plt.show()"
   ]
  },
  {
   "cell_type": "code",
   "execution_count": 74,
   "id": "63093fc5",
   "metadata": {},
   "outputs": [],
   "source": [
    "# Saving the model\n",
    "import pickle\n",
    "with open('cmodel.pkl', 'wb') as file:\n",
    "    pickle.dump(extra_tree_model_class, file)\n",
    "with open('cscaler.pkl', 'wb') as f:\n",
    "    pickle.dump(scaler, f)\n",
    "with open('ct.pkl', 'wb') as f:\n",
    "    pickle.dump(one_hot_encoded, f)"
   ]
  },
  {
   "cell_type": "code",
   "execution_count": null,
   "id": "ae88ac2a",
   "metadata": {},
   "outputs": [],
   "source": [
    "'thickness_log', 'width',\n",
    "       'quantity_tons_log', 'application', 'item type_Others',\n",
    "       'item type_PL', 'item type_S', 'item type_W', 'item type_WI'"
   ]
  },
  {
   "cell_type": "code",
   "execution_count": 76,
   "id": "ce01a6cb",
   "metadata": {},
   "outputs": [
    {
     "data": {
      "text/html": [
       "<div>\n",
       "<style scoped>\n",
       "    .dataframe tbody tr th:only-of-type {\n",
       "        vertical-align: middle;\n",
       "    }\n",
       "\n",
       "    .dataframe tbody tr th {\n",
       "        vertical-align: top;\n",
       "    }\n",
       "\n",
       "    .dataframe thead th {\n",
       "        text-align: right;\n",
       "    }\n",
       "</style>\n",
       "<table border=\"1\" class=\"dataframe\">\n",
       "  <thead>\n",
       "    <tr style=\"text-align: right;\">\n",
       "      <th></th>\n",
       "      <th>id</th>\n",
       "      <th>item_date</th>\n",
       "      <th>quantity_tons</th>\n",
       "      <th>customer</th>\n",
       "      <th>country</th>\n",
       "      <th>status</th>\n",
       "      <th>application</th>\n",
       "      <th>thickness</th>\n",
       "      <th>width</th>\n",
       "      <th>material_ref</th>\n",
       "      <th>...</th>\n",
       "      <th>delivery_date</th>\n",
       "      <th>selling_price</th>\n",
       "      <th>thickness_log</th>\n",
       "      <th>quantity_tons_log</th>\n",
       "      <th>item type_Others</th>\n",
       "      <th>item type_PL</th>\n",
       "      <th>item type_S</th>\n",
       "      <th>item type_SLAWR</th>\n",
       "      <th>item type_W</th>\n",
       "      <th>item type_WI</th>\n",
       "    </tr>\n",
       "  </thead>\n",
       "  <tbody>\n",
       "    <tr>\n",
       "      <th>0</th>\n",
       "      <td>EC06F063-9DF0-440C-8764-0B0C05A4F6AE</td>\n",
       "      <td>2021-04-01</td>\n",
       "      <td>54.151139</td>\n",
       "      <td>30156308.0</td>\n",
       "      <td>28.0</td>\n",
       "      <td>Won</td>\n",
       "      <td>10.0</td>\n",
       "      <td>2.00</td>\n",
       "      <td>1500.0</td>\n",
       "      <td>DEQ1 S460MC</td>\n",
       "      <td>...</td>\n",
       "      <td>2021-07-01</td>\n",
       "      <td>854.00</td>\n",
       "      <td>0.693147</td>\n",
       "      <td>3.991779</td>\n",
       "      <td>0</td>\n",
       "      <td>0</td>\n",
       "      <td>0</td>\n",
       "      <td>0</td>\n",
       "      <td>1</td>\n",
       "      <td>0</td>\n",
       "    </tr>\n",
       "    <tr>\n",
       "      <th>1</th>\n",
       "      <td>4E5F4B3D-DDDF-499D-AFDE-A3227EC49425</td>\n",
       "      <td>2021-04-01</td>\n",
       "      <td>146.121506</td>\n",
       "      <td>30202938.0</td>\n",
       "      <td>25.0</td>\n",
       "      <td>Won</td>\n",
       "      <td>41.0</td>\n",
       "      <td>0.80</td>\n",
       "      <td>1210.0</td>\n",
       "      <td>DX51D+Z</td>\n",
       "      <td>...</td>\n",
       "      <td>2021-04-01</td>\n",
       "      <td>1047.00</td>\n",
       "      <td>-0.223144</td>\n",
       "      <td>4.984439</td>\n",
       "      <td>0</td>\n",
       "      <td>0</td>\n",
       "      <td>0</td>\n",
       "      <td>0</td>\n",
       "      <td>1</td>\n",
       "      <td>0</td>\n",
       "    </tr>\n",
       "    <tr>\n",
       "      <th>2</th>\n",
       "      <td>E140FF1B-2407-4C02-A0DD-780A093B1158</td>\n",
       "      <td>2021-04-01</td>\n",
       "      <td>146.121506</td>\n",
       "      <td>30153963.0</td>\n",
       "      <td>30.0</td>\n",
       "      <td>Won</td>\n",
       "      <td>28.0</td>\n",
       "      <td>0.38</td>\n",
       "      <td>952.0</td>\n",
       "      <td>S0380700</td>\n",
       "      <td>...</td>\n",
       "      <td>2021-01-01</td>\n",
       "      <td>644.33</td>\n",
       "      <td>-0.967584</td>\n",
       "      <td>4.984439</td>\n",
       "      <td>0</td>\n",
       "      <td>0</td>\n",
       "      <td>0</td>\n",
       "      <td>0</td>\n",
       "      <td>0</td>\n",
       "      <td>1</td>\n",
       "    </tr>\n",
       "    <tr>\n",
       "      <th>3</th>\n",
       "      <td>F8D507A0-9C62-4EFE-831E-33E1DA53BB50</td>\n",
       "      <td>2021-04-01</td>\n",
       "      <td>146.121506</td>\n",
       "      <td>30349574.0</td>\n",
       "      <td>32.0</td>\n",
       "      <td>Won</td>\n",
       "      <td>59.0</td>\n",
       "      <td>2.30</td>\n",
       "      <td>1317.0</td>\n",
       "      <td>DX51D+ZM310MAO 2.3X1317</td>\n",
       "      <td>...</td>\n",
       "      <td>2021-01-01</td>\n",
       "      <td>768.00</td>\n",
       "      <td>0.832909</td>\n",
       "      <td>4.984439</td>\n",
       "      <td>0</td>\n",
       "      <td>0</td>\n",
       "      <td>1</td>\n",
       "      <td>0</td>\n",
       "      <td>0</td>\n",
       "      <td>0</td>\n",
       "    </tr>\n",
       "    <tr>\n",
       "      <th>4</th>\n",
       "      <td>4E1C4E78-152B-430A-8094-ADD889C9D0AD</td>\n",
       "      <td>2021-04-01</td>\n",
       "      <td>146.121506</td>\n",
       "      <td>30211560.0</td>\n",
       "      <td>28.0</td>\n",
       "      <td>Won</td>\n",
       "      <td>10.0</td>\n",
       "      <td>4.00</td>\n",
       "      <td>1986.0</td>\n",
       "      <td>2_S275JR+AR-CL1</td>\n",
       "      <td>...</td>\n",
       "      <td>2021-03-01</td>\n",
       "      <td>577.00</td>\n",
       "      <td>1.386294</td>\n",
       "      <td>4.984439</td>\n",
       "      <td>0</td>\n",
       "      <td>0</td>\n",
       "      <td>0</td>\n",
       "      <td>0</td>\n",
       "      <td>1</td>\n",
       "      <td>0</td>\n",
       "    </tr>\n",
       "    <tr>\n",
       "      <th>...</th>\n",
       "      <td>...</td>\n",
       "      <td>...</td>\n",
       "      <td>...</td>\n",
       "      <td>...</td>\n",
       "      <td>...</td>\n",
       "      <td>...</td>\n",
       "      <td>...</td>\n",
       "      <td>...</td>\n",
       "      <td>...</td>\n",
       "      <td>...</td>\n",
       "      <td>...</td>\n",
       "      <td>...</td>\n",
       "      <td>...</td>\n",
       "      <td>...</td>\n",
       "      <td>...</td>\n",
       "      <td>...</td>\n",
       "      <td>...</td>\n",
       "      <td>...</td>\n",
       "      <td>...</td>\n",
       "      <td>...</td>\n",
       "      <td>...</td>\n",
       "    </tr>\n",
       "    <tr>\n",
       "      <th>181667</th>\n",
       "      <td>0B812591-B501-4F34-859A-B06381FAEB44</td>\n",
       "      <td>2020-07-02</td>\n",
       "      <td>106.783299</td>\n",
       "      <td>30200854.0</td>\n",
       "      <td>25.0</td>\n",
       "      <td>Won</td>\n",
       "      <td>41.0</td>\n",
       "      <td>0.96</td>\n",
       "      <td>1240.0</td>\n",
       "      <td>DX51D+Z</td>\n",
       "      <td>...</td>\n",
       "      <td>2020-07-01</td>\n",
       "      <td>602.00</td>\n",
       "      <td>-0.040822</td>\n",
       "      <td>4.670802</td>\n",
       "      <td>0</td>\n",
       "      <td>0</td>\n",
       "      <td>0</td>\n",
       "      <td>0</td>\n",
       "      <td>1</td>\n",
       "      <td>0</td>\n",
       "    </tr>\n",
       "    <tr>\n",
       "      <th>181668</th>\n",
       "      <td>DE633116-D1DF-4846-982E-55EFC3658A76</td>\n",
       "      <td>2020-07-02</td>\n",
       "      <td>102.482422</td>\n",
       "      <td>30200854.0</td>\n",
       "      <td>25.0</td>\n",
       "      <td>Won</td>\n",
       "      <td>41.0</td>\n",
       "      <td>0.96</td>\n",
       "      <td>1220.0</td>\n",
       "      <td>DX51D+Z</td>\n",
       "      <td>...</td>\n",
       "      <td>2020-07-01</td>\n",
       "      <td>591.00</td>\n",
       "      <td>-0.040822</td>\n",
       "      <td>4.629691</td>\n",
       "      <td>0</td>\n",
       "      <td>0</td>\n",
       "      <td>0</td>\n",
       "      <td>0</td>\n",
       "      <td>1</td>\n",
       "      <td>0</td>\n",
       "    </tr>\n",
       "    <tr>\n",
       "      <th>181669</th>\n",
       "      <td>A48374B1-E6DB-45F2-889A-1F9C27C099EB</td>\n",
       "      <td>2020-07-02</td>\n",
       "      <td>146.121506</td>\n",
       "      <td>30200854.0</td>\n",
       "      <td>25.0</td>\n",
       "      <td>Won</td>\n",
       "      <td>41.0</td>\n",
       "      <td>0.95</td>\n",
       "      <td>1500.0</td>\n",
       "      <td>DX51D+Z</td>\n",
       "      <td>...</td>\n",
       "      <td>2020-07-01</td>\n",
       "      <td>589.00</td>\n",
       "      <td>-0.051293</td>\n",
       "      <td>4.984439</td>\n",
       "      <td>0</td>\n",
       "      <td>0</td>\n",
       "      <td>0</td>\n",
       "      <td>0</td>\n",
       "      <td>1</td>\n",
       "      <td>0</td>\n",
       "    </tr>\n",
       "    <tr>\n",
       "      <th>181670</th>\n",
       "      <td>91643238-5C7B-4237-9A5F-63AE3D35F320</td>\n",
       "      <td>2020-07-02</td>\n",
       "      <td>4.235594</td>\n",
       "      <td>30200854.0</td>\n",
       "      <td>25.0</td>\n",
       "      <td>Won</td>\n",
       "      <td>41.0</td>\n",
       "      <td>0.71</td>\n",
       "      <td>1250.0</td>\n",
       "      <td>DX51D+Z</td>\n",
       "      <td>...</td>\n",
       "      <td>2020-07-01</td>\n",
       "      <td>619.00</td>\n",
       "      <td>-0.342490</td>\n",
       "      <td>1.443523</td>\n",
       "      <td>0</td>\n",
       "      <td>0</td>\n",
       "      <td>0</td>\n",
       "      <td>0</td>\n",
       "      <td>1</td>\n",
       "      <td>0</td>\n",
       "    </tr>\n",
       "    <tr>\n",
       "      <th>181672</th>\n",
       "      <td>AD0CA853-AE3C-4B2F-9FBB-8B0B965F84BC</td>\n",
       "      <td>2020-07-02</td>\n",
       "      <td>146.121506</td>\n",
       "      <td>30200854.0</td>\n",
       "      <td>25.0</td>\n",
       "      <td>Won</td>\n",
       "      <td>41.0</td>\n",
       "      <td>0.71</td>\n",
       "      <td>1240.0</td>\n",
       "      <td>DX51D+Z</td>\n",
       "      <td>...</td>\n",
       "      <td>2020-07-01</td>\n",
       "      <td>607.00</td>\n",
       "      <td>-0.342490</td>\n",
       "      <td>4.984439</td>\n",
       "      <td>0</td>\n",
       "      <td>0</td>\n",
       "      <td>0</td>\n",
       "      <td>0</td>\n",
       "      <td>1</td>\n",
       "      <td>0</td>\n",
       "    </tr>\n",
       "  </tbody>\n",
       "</table>\n",
       "<p>150441 rows × 21 columns</p>\n",
       "</div>"
      ],
      "text/plain": [
       "                                          id   item_date  quantity_tons  \\\n",
       "0       EC06F063-9DF0-440C-8764-0B0C05A4F6AE  2021-04-01      54.151139   \n",
       "1       4E5F4B3D-DDDF-499D-AFDE-A3227EC49425  2021-04-01     146.121506   \n",
       "2       E140FF1B-2407-4C02-A0DD-780A093B1158  2021-04-01     146.121506   \n",
       "3       F8D507A0-9C62-4EFE-831E-33E1DA53BB50  2021-04-01     146.121506   \n",
       "4       4E1C4E78-152B-430A-8094-ADD889C9D0AD  2021-04-01     146.121506   \n",
       "...                                      ...         ...            ...   \n",
       "181667  0B812591-B501-4F34-859A-B06381FAEB44  2020-07-02     106.783299   \n",
       "181668  DE633116-D1DF-4846-982E-55EFC3658A76  2020-07-02     102.482422   \n",
       "181669  A48374B1-E6DB-45F2-889A-1F9C27C099EB  2020-07-02     146.121506   \n",
       "181670  91643238-5C7B-4237-9A5F-63AE3D35F320  2020-07-02       4.235594   \n",
       "181672  AD0CA853-AE3C-4B2F-9FBB-8B0B965F84BC  2020-07-02     146.121506   \n",
       "\n",
       "          customer  country status  application  thickness   width  \\\n",
       "0       30156308.0     28.0    Won         10.0       2.00  1500.0   \n",
       "1       30202938.0     25.0    Won         41.0       0.80  1210.0   \n",
       "2       30153963.0     30.0    Won         28.0       0.38   952.0   \n",
       "3       30349574.0     32.0    Won         59.0       2.30  1317.0   \n",
       "4       30211560.0     28.0    Won         10.0       4.00  1986.0   \n",
       "...            ...      ...    ...          ...        ...     ...   \n",
       "181667  30200854.0     25.0    Won         41.0       0.96  1240.0   \n",
       "181668  30200854.0     25.0    Won         41.0       0.96  1220.0   \n",
       "181669  30200854.0     25.0    Won         41.0       0.95  1500.0   \n",
       "181670  30200854.0     25.0    Won         41.0       0.71  1250.0   \n",
       "181672  30200854.0     25.0    Won         41.0       0.71  1240.0   \n",
       "\n",
       "                   material_ref  ...  delivery_date selling_price  \\\n",
       "0                   DEQ1 S460MC  ...     2021-07-01        854.00   \n",
       "1                       DX51D+Z  ...     2021-04-01       1047.00   \n",
       "2                      S0380700  ...     2021-01-01        644.33   \n",
       "3       DX51D+ZM310MAO 2.3X1317  ...     2021-01-01        768.00   \n",
       "4               2_S275JR+AR-CL1  ...     2021-03-01        577.00   \n",
       "...                         ...  ...            ...           ...   \n",
       "181667                  DX51D+Z  ...     2020-07-01        602.00   \n",
       "181668                  DX51D+Z  ...     2020-07-01        591.00   \n",
       "181669                  DX51D+Z  ...     2020-07-01        589.00   \n",
       "181670                  DX51D+Z  ...     2020-07-01        619.00   \n",
       "181672                  DX51D+Z  ...     2020-07-01        607.00   \n",
       "\n",
       "        thickness_log  quantity_tons_log  item type_Others  item type_PL  \\\n",
       "0            0.693147           3.991779                 0             0   \n",
       "1           -0.223144           4.984439                 0             0   \n",
       "2           -0.967584           4.984439                 0             0   \n",
       "3            0.832909           4.984439                 0             0   \n",
       "4            1.386294           4.984439                 0             0   \n",
       "...               ...                ...               ...           ...   \n",
       "181667      -0.040822           4.670802                 0             0   \n",
       "181668      -0.040822           4.629691                 0             0   \n",
       "181669      -0.051293           4.984439                 0             0   \n",
       "181670      -0.342490           1.443523                 0             0   \n",
       "181672      -0.342490           4.984439                 0             0   \n",
       "\n",
       "        item type_S  item type_SLAWR  item type_W  item type_WI  \n",
       "0                 0                0            1             0  \n",
       "1                 0                0            1             0  \n",
       "2                 0                0            0             1  \n",
       "3                 1                0            0             0  \n",
       "4                 0                0            1             0  \n",
       "...             ...              ...          ...           ...  \n",
       "181667            0                0            1             0  \n",
       "181668            0                0            1             0  \n",
       "181669            0                0            1             0  \n",
       "181670            0                0            1             0  \n",
       "181672            0                0            1             0  \n",
       "\n",
       "[150441 rows x 21 columns]"
      ]
     },
     "execution_count": 76,
     "metadata": {},
     "output_type": "execute_result"
    }
   ],
   "source": [
    "one_hot_encoded"
   ]
  },
  {
   "cell_type": "code",
   "execution_count": 78,
   "id": "a2e08d02",
   "metadata": {},
   "outputs": [
    {
     "name": "stdout",
     "output_type": "stream",
     "text": [
      "The status is: Won\n"
     ]
    }
   ],
   "source": [
    "# Predict the status for a new sample\n",
    "# 'quantity tons_log', 'selling_price_log','application', 'thickness_log', 'width','country','customer','product_ref']].values, X_ohe\n",
    "new_sample = np.array([[0.832909,1500.0,4.984439,59.0,0,0,0,0,1]])\n",
    "# new_sample_ohe = ohe.transform(new_sample[:, [8]]).toarray()\n",
    "# new_sample = np.concatenate((new_sample[:, [0,1,2, 3, 4, 5, 6,7]], new_sample_ohe), axis=1)\n",
    "new_sample = scaler.transform(new_sample)\n",
    "new_pred = extra_tree_model_class.predict(new_sample)\n",
    "if new_pred==1:\n",
    "    print('The status is: Won')\n",
    "else:\n",
    "    print('The status is: Lost')"
   ]
  },
  {
   "cell_type": "code",
   "execution_count": null,
   "id": "2a2d1152",
   "metadata": {},
   "outputs": [],
   "source": []
  },
  {
   "cell_type": "code",
   "execution_count": null,
   "id": "584f11cd",
   "metadata": {},
   "outputs": [],
   "source": []
  },
  {
   "cell_type": "code",
   "execution_count": null,
   "id": "2cf73afe",
   "metadata": {},
   "outputs": [],
   "source": []
  },
  {
   "cell_type": "code",
   "execution_count": null,
   "id": "a108b0b5",
   "metadata": {},
   "outputs": [],
   "source": []
  }
 ],
 "metadata": {
  "kernelspec": {
   "display_name": "Python 3 (ipykernel)",
   "language": "python",
   "name": "python3"
  },
  "language_info": {
   "codemirror_mode": {
    "name": "ipython",
    "version": 3
   },
   "file_extension": ".py",
   "mimetype": "text/x-python",
   "name": "python",
   "nbconvert_exporter": "python",
   "pygments_lexer": "ipython3",
   "version": "3.11.2"
  }
 },
 "nbformat": 4,
 "nbformat_minor": 5
}
